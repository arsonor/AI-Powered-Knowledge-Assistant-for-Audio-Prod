{
 "cells": [
  {
   "cell_type": "code",
   "execution_count": 1,
   "id": "9fbd7bbe-145f-4e58-a874-b005dbed225c",
   "metadata": {},
   "outputs": [],
   "source": [
    "import pandas as pd\n",
    "import json\n",
    "import minsearch"
   ]
  },
  {
   "cell_type": "markdown",
   "id": "2454e399-424c-422e-9c60-8a83cf54b729",
   "metadata": {},
   "source": [
    "# Ingestion"
   ]
  },
  {
   "cell_type": "code",
   "execution_count": 139,
   "id": "21c60918-87b5-4156-88b7-291eb26ed85a",
   "metadata": {},
   "outputs": [],
   "source": [
    "with open('../data/arsonor_chunks_300_50.json', 'r', encoding='utf-8') as file:\n",
    "    documents = json.load(file)"
   ]
  },
  {
   "cell_type": "code",
   "execution_count": 140,
   "id": "11b71249-d25b-4100-b256-98e07092ebe0",
   "metadata": {},
   "outputs": [
    {
     "data": {
      "text/plain": [
       "{'article_id': '3632a3b4',\n",
       " 'url': 'https://arsonor.com/lintelligence-artificielle-ia-dans-le-studio-de-production-audio-5-6/',\n",
       " 'title': 'L’intelligence artificielle (IA) dans le studio de production audio (5/6)',\n",
       " 'category': 'LA POST-PROD',\n",
       " 'tags': 'dé-mixage, de-noise, de-reverb, deep learning, plug-in audio, restauration audio, stems',\n",
       " 'chunk_id': '3632a3b4-11',\n",
       " 'chunk_text': \"Ce plugin, de part sa simplicité d’utilisation (un ou deux potards à régler) est vite devenu une référence absolue, un « must-have » auprès de tout les ingénieurs du son d’un studio de musique. Plug-in Drumatom de Accusonus Accusonus Regroover pour séparer les éléments d'une boucle de batterie Un autre de leurs logiciels remarquables est Regroover . Celui-ci permet de décomposer efficacement une boucle audio complexe (souvent rythmique, de batterie) en plusieurs boucles contenant chacune un élément/instrument séparé de la boucle principale! Très utile par exemple pour isoler le kick, la snare, les high hats, etc… de n’importe quel fichier audio de drums. C’est la porte ouverte à plus de liberté et de créativité dans la manipulation des boucles audio au-delà de leur forme originale. A sa sortie en 2016, Regroover reçut plusieurs prix d’innovation et fut considéré comme le futur du sampling. Enfin, le bundle ERA , sorti en 2018, est la gamme de produits d’Accusonus qui connaît la croissance la plus rapide. Avec des plugins, comme le « Noise Remover » ou le « Voice leveler » , toujours plus nombreux et rassemblés en une seule interface, le « Audio Clean-up Assistant » , l’ERA Bundle s’impose peu à peu comme un sérieux concurrent à iZotope RX dans le domaine des logiciels de nettoyage et restauration sonore. La simplicité d’utilisation des plugins (souvent munis d’un simple potard à tourner), permet aux créateurs débutants et professionnels d’améliorer instantanément leurs enregistrements audio, pour une réparation audio rapide et efficace. Le bundle ERA de Accusonus Les Zynaptiq Un-Series: Unfilter, Unveil, Unchirp, Unmix Drums Spécialiste dans les algorithmes audio IA avancés, il est logique que Zynaptiq propose une série de plugins performants dans la réparation et restauration sonore.\"}"
      ]
     },
     "execution_count": 140,
     "metadata": {},
     "output_type": "execute_result"
    }
   ],
   "source": [
    "documents[15]"
   ]
  },
  {
   "cell_type": "markdown",
   "id": "dac5a7a7",
   "metadata": {},
   "source": [
    "### With Minsearch:"
   ]
  },
  {
   "cell_type": "code",
   "execution_count": 73,
   "id": "46d3d15f-2c46-47ed-a0ac-1df6d3f56159",
   "metadata": {},
   "outputs": [],
   "source": [
    "index = minsearch.Index(\n",
    "    text_fields=['title', 'tags', 'chunk_text'],\n",
    "    keyword_fields=['article_id', 'category', 'chunk_id']\n",
    ")"
   ]
  },
  {
   "cell_type": "code",
   "execution_count": 74,
   "id": "376cc4c0-efd8-4437-ba79-2de0a7a02265",
   "metadata": {},
   "outputs": [
    {
     "data": {
      "text/plain": [
       "<minsearch.Index at 0x19fe7d11040>"
      ]
     },
     "execution_count": 74,
     "metadata": {},
     "output_type": "execute_result"
    }
   ],
   "source": [
    "index.fit(documents)"
   ]
  },
  {
   "cell_type": "markdown",
   "id": "f75a32ed",
   "metadata": {},
   "source": [
    "### With Elasticsearch"
   ]
  },
  {
   "cell_type": "code",
   "execution_count": 6,
   "id": "ccde57f1",
   "metadata": {},
   "outputs": [],
   "source": [
    "from elasticsearch import Elasticsearch\n",
    "from elasticsearch.helpers import bulk\n",
    "import json"
   ]
  },
  {
   "cell_type": "code",
   "execution_count": 7,
   "id": "95eeaaa6",
   "metadata": {},
   "outputs": [],
   "source": [
    "es = Elasticsearch(\"http://localhost:9200\")"
   ]
  },
  {
   "cell_type": "code",
   "execution_count": 142,
   "id": "869defd3",
   "metadata": {},
   "outputs": [],
   "source": [
    "index_name = \"arsonor_chunks_300\"\n",
    "\n",
    "# Create index if not already created\n",
    "if not es.indices.exists(index=index_name):\n",
    "    es.indices.create(index=index_name, body={\n",
    "        \"mappings\": {\n",
    "            \"properties\": {\n",
    "                \"article_id\": {\"type\": \"keyword\"},\n",
    "                \"title\": {\"type\": \"text\"},\n",
    "                \"url\": {\"type\": \"keyword\"},\n",
    "                \"category\": {\"type\": \"keyword\"},\n",
    "                \"tags\": {\"type\": \"text\"},\n",
    "                \"chunk_id\": {\"type\": \"keyword\"},\n",
    "                \"chunk_text\": {\"type\": \"text\"},\n",
    "            }\n",
    "        }\n",
    "    })"
   ]
  },
  {
   "cell_type": "code",
   "execution_count": 143,
   "id": "0e16761c",
   "metadata": {},
   "outputs": [
    {
     "data": {
      "text/plain": [
       "(572, [])"
      ]
     },
     "execution_count": 143,
     "metadata": {},
     "output_type": "execute_result"
    }
   ],
   "source": [
    "def prepare_documents_for_indexing(docs):\n",
    "    for doc in docs:\n",
    "        yield {\n",
    "            \"_index\": index_name,\n",
    "            \"_id\": doc['chunk_id'],\n",
    "            \"_source\": {\n",
    "                \"article_id\": doc['article_id'],\n",
    "                \"title\": doc['title'],\n",
    "                \"url\": doc['url'],\n",
    "                \"category\": doc['category'],\n",
    "                \"tags\": doc['tags'],\n",
    "                \"chunk_id\": doc['chunk_id'],\n",
    "                \"chunk_text\": doc['chunk_text'],\n",
    "            }\n",
    "        }\n",
    "\n",
    "# Index the documents in bulk\n",
    "bulk(es, prepare_documents_for_indexing(documents))"
   ]
  },
  {
   "cell_type": "markdown",
   "id": "7ad4c969-765d-4ad2-b773-30cd5a790bf9",
   "metadata": {},
   "source": [
    "# RAG flow"
   ]
  },
  {
   "cell_type": "code",
   "execution_count": 110,
   "id": "2371fd42",
   "metadata": {},
   "outputs": [],
   "source": [
    "from openai import OpenAI\n",
    "client = OpenAI()"
   ]
  },
  {
   "cell_type": "code",
   "execution_count": 111,
   "id": "0dd6789d-dbcd-4bb8-a19c-70213e286f05",
   "metadata": {},
   "outputs": [],
   "source": [
    "query = 'De quel matériel ai-je besoin pour créer ma musique dans mon home-studio?'"
   ]
  },
  {
   "cell_type": "code",
   "execution_count": 12,
   "id": "c73c08c8-ce03-43ec-ad67-f9cad23e0d23",
   "metadata": {},
   "outputs": [
    {
     "data": {
      "text/plain": [
       "\"Pour créer de la musique dans un home-studio, voici une liste du matériel nécessaire :\\n\\n### 1. **Ordinateur**\\n   - Un ordinateur performant (PC ou Mac) avec une bonne quantité de RAM et un processeur rapide pour faire tourner des logiciels de production musicale.\\n\\n### 2. **Logiciel de Production Musicale (DAW)**\\n   - Logiciels tels que Ableton Live, FL Studio, Logic Pro, Pro Tools, ou Reaper pour l'enregistrement, l'édition et la production de musique.\\n\\n### 3. **Interfaces Audio**\\n   - Une interface audio pour connecter vos instruments et microphones à votre ordinateur avec une meilleure qualité sonore.\\n\\n### 4. **Moniteurs de Studio**\\n   - Des enceintes de monitoring pour écouter votre musique avec précision. Choisissez des modèles adaptés à la taille de votre pièce.\\n\\n### 5. **Casque Audio**\\n   - Un bon casque de studio pour le mixage et l'enregistrement, offrant une isolation phonique et une réponse plate.\\n\\n### 6. **Clavier MIDI**\\n   - Un clavier MIDI pour jouer des instruments virtuels et contrôler des plugins.\\n\\n### 7. **Microphone**\\n   - Un microphone de bonne qualité pour l'enregistrement vocal ou d'instruments. Considérez un microphone dynamique ou à condensateur selon vos besoins.\\n\\n### 8. **Support de Microphone**\\n   - Un pied de micro et éventuellement un filtre anti-pop pour les enregistrements vocaux.\\n\\n### 9. **Câbles**\\n   - Des câbles XLR pour connecter le microphone, des câbles TRS ou TS pour les moniteurs et les autres instruments.\\n\\n### 10. **Acoustic treatment (optionnel)**\\n   - Des panneaux acoustiques pour traiter le son de votre pièce et minimiser les résonances et les échos.\\n\\n### 11. **Contrôleur MIDI (optionnel)**\\n   - Pour un contrôle plus élaboré de votre DAW et des instruments virtuels.\\n\\n### 12. **Échantillons et Boucles**\\n   - Bibliothèques d'échantillons et de boucles pour enrichir vos compositions.\\n\\n### 13. **Plugins VST**\\n   - Instruments virtuels et effets audio pour élargir vos possibilités sonores.\\n\\n### 14. **Station de travail ergonomique**\\n   - Un bureau et une chaise confortables pour travailler de manière productive.\\n\\n### Autres accessoires :\\n- **Une bonne connexion Internet** pour télécharger des plugins, des mises à jour, et des tutoriels.\\n- **Un système de sauvegarde** pour protéger vos projets musicaux.\\n\\nEn fonction de votre budget et de votre style musical, vous pouvez ajuster cette liste et investir dans du matériel de meilleure qualité ou dans des éléments spécifiques à vos besoins.\""
      ]
     },
     "execution_count": 12,
     "metadata": {},
     "output_type": "execute_result"
    }
   ],
   "source": [
    "response = client.chat.completions.create(\n",
    "        model='gpt-4o-mini',\n",
    "        messages=[{\"role\": \"user\", \"content\": query}]\n",
    "    )\n",
    "    \n",
    "response.choices[0].message.content"
   ]
  },
  {
   "cell_type": "markdown",
   "id": "b674dc18",
   "metadata": {},
   "source": [
    "### Search results with Minsearch"
   ]
  },
  {
   "cell_type": "code",
   "execution_count": 75,
   "id": "297ea691-22dd-4982-abd3-4104f6467a46",
   "metadata": {},
   "outputs": [],
   "source": [
    "def search(query):\n",
    "    boost = {}\n",
    "\n",
    "    results = index.search(\n",
    "        query=query,\n",
    "        filter_dict={},\n",
    "        boost_dict=boost,\n",
    "        num_results=10\n",
    "    )\n",
    "\n",
    "    return results"
   ]
  },
  {
   "cell_type": "markdown",
   "id": "f7a998c0",
   "metadata": {},
   "source": [
    "### Search results with Elasticsearch"
   ]
  },
  {
   "cell_type": "code",
   "execution_count": 144,
   "id": "2b089124",
   "metadata": {},
   "outputs": [],
   "source": [
    "def elastic_search(query, category=None):\n",
    "    search_query = {\n",
    "        \"size\": 10,\n",
    "        \"query\": {\n",
    "            \"bool\": {\n",
    "                \"must\": {\n",
    "                    \"multi_match\": {\n",
    "                        \"query\": query,\n",
    "                        \"fields\": [\"title\", \"tags\", \"chunk_text\"],\n",
    "                        \"type\": \"best_fields\"\n",
    "                    }\n",
    "                }\n",
    "            }\n",
    "        }\n",
    "    }\n",
    "    \n",
    "    if category is not None:\n",
    "        search_query[\"query\"][\"bool\"][\"filter\"] = {\n",
    "            \"term\": {\n",
    "                \"category\": category\n",
    "            }\n",
    "        }\n",
    "\n",
    "    response = es.search(index=index_name, body=search_query)\n",
    "    \n",
    "    return [hit['_source'] for hit in response['hits']['hits']]"
   ]
  },
  {
   "cell_type": "markdown",
   "id": "0fc3b25a",
   "metadata": {},
   "source": [
    "### Prompt"
   ]
  },
  {
   "cell_type": "code",
   "execution_count": 112,
   "id": "460e2c4b-d2b5-416a-aeb8-b2a503f8c448",
   "metadata": {},
   "outputs": [],
   "source": [
    "prompt_template = \"\"\"\n",
    "You're an audio engineer and sound designer instructor for beginners.\n",
    "You're particularly specialized in audio home-studio set-up, computer music production and audio post-production in general (editing, mixing and mastering). \n",
    "Answer the QUESTION based on the CONTEXT from our arsonor knowledge database (articles).\n",
    "Use only the facts from the CONTEXT when answering the QUESTION.\n",
    "Finally, recommend the top 3 Arsonor articles (refer to their 'title') that are the best to read for answering this question.\n",
    "\n",
    "QUESTION: {question}\n",
    "\n",
    "CONTEXT:\n",
    "{context}\n",
    "\"\"\".strip()\n",
    "\n",
    "entry_template = \"\"\"\n",
    "article title: {title}\n",
    "article keywords: {tags}\n",
    "content: {chunk_text}\n",
    "\"\"\".strip()\n"
   ]
  },
  {
   "cell_type": "code",
   "execution_count": 113,
   "id": "c874bb9e",
   "metadata": {},
   "outputs": [],
   "source": [
    "def build_prompt(query, search_results):\n",
    "    context = \"\"\n",
    "    \n",
    "    for doc in search_results:\n",
    "        context += entry_template.format(**doc) + \"\\n\\n\"\n",
    "\n",
    "    prompt = prompt_template.format(question=query, context=context)\n",
    "    return prompt"
   ]
  },
  {
   "cell_type": "code",
   "execution_count": 114,
   "id": "6383065f-7541-4718-8c05-b577ade7d377",
   "metadata": {},
   "outputs": [],
   "source": [
    "search_results = elastic_search(query, category='LE HOME STUDIO')\n",
    "prompt = build_prompt(query, search_results)"
   ]
  },
  {
   "cell_type": "code",
   "execution_count": 115,
   "id": "a90e3571-822d-457d-815a-38530f98c112",
   "metadata": {},
   "outputs": [
    {
     "name": "stdout",
     "output_type": "stream",
     "text": [
      "You're an audio engineer and sound designer instructor for beginners.\n",
      "You're particularly specialized in audio home-studio set-up, computer music production and audio post-production in general (editing, mixing and mastering). \n",
      "Answer the QUESTION based on the CONTEXT from our arsonor knowledge database (articles).\n",
      "Use only the facts from the CONTEXT when answering the QUESTION.\n",
      "Finally, recommend the top 3 Arsonor articles (refer to their 'title') that are the best to read for answering this question.\n",
      "\n",
      "QUESTION: De quel matériel ai-je besoin pour créer ma musique dans mon home-studio?\n",
      "\n",
      "CONTEXT:\n",
      "article title: Deviens toi aussi producteur musical depuis ton home studio\n",
      "article keywords: home-studio, ingénieur du son, MAO, production musicale\n",
      "content: Avis à tous les passionnés de musique, c’est avec grand plaisir que j’ouvre ce blog afin de partager ma passion de la MAO (Musique Assistée par Ordinateur) et du home studio , de la création au mixage audio. Alors tu te demandes sûrement… … Qu’est-ce que Arsonor? Contexte De nos jours, la musique est omniprésente. Les médias traditionnels (radio, télé) et surtout maintenant Internet et les réseaux sociaux nous font découvrir de nouveaux artistes tous les jours. Des sites comme Soundcloud ou Bandcamp sont absolument remplis de création de tout bords de façon continue. Quant à Youtube , c’est devenu la plus grande plateforme d’écoute de musique en ligne où il est devenu très facile d’écouter et de publier. Depuis quelques années, le monde de la création et de la production musicale s’est considérablement ouvert grâce à l’évolution ininterrompue et considérable de l’informatique, l’émergence d’internet à haut débit et le développement des échanges de fichier à grande échelle. Par le passé, les premiers home studio pouvaient ressembler à un véritable arsenal où s’enchevêtraient câbles, patchs et racks remplis de matériel, et le tout à un coût exorbitant! Aujourd’hui tout commence avec un simple ordinateur et un casque car le matériel a été remplacé par son équivalent logiciel. De plus en plus d’artistes émergent en composant chez eux, depuis leur home studio avant de finaliser leurs projets dans un studio professionnel (voire toujours depuis chez soi) . On parle alors de plus en plus de création DIY (“Do It Yourself”) et d’un nouveau rôle des amateurs qui sont en mesure de travailler avec des moyens équivalents aux professionnels. Exemple de home studio à ses débuts plus minimaliste et actuel Souvent téléchargés de manière illégale, les développeurs de logiciels ont rapidement saisi le potentiel grand public de ces outils qui existaient pour la plupart depuis des années. Le logiciel Logic Pro d’Apple passe autour de 200 Euros en téléchargement direct (il coûtait près de 1000 Euros à l’origine).\n",
      "\n",
      "article title: Comment bien débuter en MAO: le home-studio démystifié\n",
      "article keywords: DAW, hardware, home-studio, MAO, matériel audio, plugin, software\n",
      "content: La MAO (Musique Assistée par Ordinateur) est en vogue depuis l’ère du numérique. Un ordinateur peut devenir facilement un centre de production musicale et audiovisuelle. Si en plus c’est un portable, te voilà à la tête d’un studio d’enregistrement mobile! Il est néanmoins nécessaire de comprendre le cheminement du signal audio et les divers éléments constituant un véritable petit studio. Un ordinateur c’est déjà pas mal mais il ne reste qu’un support. Il faut ensuite les éléments qui vont permettre de faire rentrer l’audio si on veut enregistrer des sons extérieurs, les manipuler puis les ressortir pour finalement pouvoir écouter du mieux possible. Dans l’univers de la MAO, tu découvriras vite une jungle de matériels et de fabricants divers où il sera facile de s’y perdre ou de se décourager. Aussi, je n’aborderai pas ici le détail des marques, prix et caractéristiques de chaque élément, le but de l’article étant surtout de présenter un aperçu global de ce qui constitue un home-studio avant qu’on entre dans le vif du sujet. Le home studio, de l'audio professionnel à domicile Je sais que pour la plupart des novices cet univers de l’audio peut paraître effrayant, surtout à la vue de certains studios suréquipés ou à la lecture d’un article sur la dernière machine en vogue dans un journal spécialisé. C’est sûr tu trouveras toujours quelqu’un pour te montrer ses 50 synthétiseurs analogiques, ses 10 boîtes à rythmes, ses 3 ordinateurs et quelques interfaces audio multi-pistes avec leurs micros, le tout pour plus de 10000€. La vérité : Pour commencer, tu n’as besoin d’aucune machine autre qu’un simple ordinateur. L’autre vérité : Pour créer du grand art, tu n’as toujours pas besoin d’appareil en plus. I - Ce qu'il te faut dans ton home studio 1) L'ordinateur Oui celui que tu utilises en ce moment fera sûrement l’affaire. Outre l’éternel débat Mac ou PC, aujourd’hui, si ton ordinateur, quel qu’il soit, est relativement récent, tu ne devrais pas avoir trop de problèmes pour travailler de l’audio au départ.\n",
      "\n",
      "article title: Par où commencer dans l’apprentissage d’une DAW pour produire sa musique?\n",
      "article keywords: apprentissage, Audio, composition, DAW, home-studio, MIDI, production musicale\n",
      "content: Si comme moi, tu as décidé un jour de produire et mixer ta propre musique, tu es forcément passé par l’étape d’apprentissage d’une DAW. Oui, ce que j’appelle DAW (« Digital Audio Workstation ») , c’est la station audio-numérique (donc STAN en français), soit Le logiciel audio au centre de toutes les opérations du home-studio. Pour ce premier article de l’année, il me tenait à cœur de revenir aux fondamentaux. A savoir, donner une vision plus claire à destination de tout débutant qui souhaite se lancer dans l’aventure. Car si tu es confronté de près ou de loin à la prise en main d’une DAW tout en ne sachant pas par quel bout commencer , alors cet article est fait pour toi! Je t’y donne des pistes qui m’ont personnellement permis de faire un bond en avant dans mon évolution. Cela tombe bien car cet article fait parti de l’événement inter-blogueurs “quand j’ai compris ça, j’ai fait un bond en avant dans mon évolution !” organisé par Cazimir Costea du blog Libérer Son Piano . Ce blog, dont j ’apprécie beaucoup les conseils et analyses de Cazimir, t’aide à libérer ton potentiel au piano (et tu verras dans la suite de cet article en quoi cela te serait utile). Pour bien comprendre la complexité d’une DAW, il faut d’abord revenir aux origines du home-studio: L'avènement du home-studio et son effet pervers L’apprentissage d’une DAW est donc l’étape incontournable de tout « home-studiste ». On retrouve même la DAW dans tout studio de production musicale professionnel actuel. Elle permet en effet à un seul ordinateur polyvalent d’émuler toutes les fonctions à la fois de routage, d’enregistrement, de traitement et de mixage de l’audio. Toutes ces fonctions étaient autrefois assurées par des unités matérielles ‘hardware’. La constante amélioration dans la fiabilité et les fonctionnalités des traitements numériques et du stockage des données informatiques au cours des 20 dernières années a permis à la DAW de largement les remplacer.\n",
      "\n",
      "article title: Par où commencer dans l’apprentissage d’une DAW pour produire sa musique?\n",
      "article keywords: apprentissage, Audio, composition, DAW, home-studio, MIDI, production musicale\n",
      "content: Mais plus important encore, ils offrent la possibilité de concevoir des sons qui vont au-delà des domaines du naturel. Du synthétiseur analogique aux instruments virtuels VSTi Une trajectoire similaire au home-studio décrite au début peut être observée avec les synthés et les samplers. Bien que les premiers appareils étaient entièrement analogiques, les microprocesseurs ont rapidement fait leur chemin dans les années 1980 alors que la norme MIDI prenait racine. Jusqu’à l’explosion ces dernières années de toute sorte d’instruments sous forme logicielle (donc instrument virtuel). En parallèle, la DAW a intégré les fonctions de séquençage MIDI et de synthèse/échantillonnage aux côtés de ses capacités d’enregistrement et de traitement audio. Ce qui permet de produire entièrement dans un environnement logiciel. Dans la pratique, cependant, la plupart des studios occupent un juste milieu entre les extrêmes tout analogique et tout numérique. La mode est à l’hybride, combinant ancien et nouveau, matériel et logiciel, en fonction des priorités de production, des restrictions d’espace/budget et des préférences personnelles. Prise en main rapide d'un synthétiseur Dès qu’on a assimilé tous les concepts et le vocabulaire sous-jacents à la synthèse sonore, il est possible de rapidement prendre en main n’importe quel synthétiseur. Voir à ce propos ma série d’article sur les principes de fonctionnement d’un synthé qui vont grandement t’éclaircir les idées si tu n’y connais rien à la base. Une fois devant le synthé, une méthode très efficace pour apprendre est de décortiquer des presets, des sons complexes déjà à disposition, pour savoir comment ils ont été conçus. C’est ce qu’on appelle faire du « Reverse engineering » en anglais. Concrètement, cela consiste donc à prendre le processus de conception à l’envers: à partir du son fini, commence par désactiver les effets car tu verras que ces derniers prennent souvent une grande part dans la sonorité finale. Continue de même (activer/désactiver) section par section (oscillateurs, filtres puis modulations) pour constater l’effet sur le son de tel ou tel paramètre. Ensuite, amuse-toi à façonner tes propres sons en considérant ces trois concepts: la sonorité générale (avec les oscillateurs, filtres et effets), l’enveloppe (bref ou long?\n",
      "\n",
      "article title: Par où commencer dans l’apprentissage d’une DAW pour produire sa musique?\n",
      "article keywords: apprentissage, Audio, composition, DAW, home-studio, MIDI, production musicale\n",
      "content: Toutes les DAW utilisent ce que l’on appelle le « piano roll » , l’endroit d’édition des notes Midi de la composition. Ce n’est pas pour rien si on retrouve une foule de contrôleurs externes sous forme de clavier et que le synthétiseur se commande traditionnellement à l’aide d’un clavier. Alors si tu n’en as pas encore un, je te recommande vivement de te procurer un clavier (pas besoin de 88 touches!). Puis tu peux d’ors et déjà t’exercer à retrouver n’importe quel accord de trois notes comme expliqué dans le blog de Cazimir Costea que j’ai mentionné au début. Appliquer dans la DAW avec le piano roll et les effets Midi Avec une DAW, les effets Midi facilitent le travail de composition. Si tu ne sais pas encore à ce stade ce qu’est une piste MIDI, tu peux voir à ce sujet le deuxième pilier sur la synthèse sonore ci-après. Car ce sont bien les informations de notes MIDI qui font le lien entre le design sonore par un instrument et la composition dans le piano roll. Piano Roll d'Ableton Live Il y a deux méthodes d’écriture de la musique dans le piano roll: par l’enregistrement des notes à l’aide de ton clavier si tu es à l’aise pour jouer du piano; ou en inscrivant directement les notes où il faut. L’ordinateur se révèle alors utile pour servir de compositeur à notre place avec l’utilisation d’effets Midi tels que l’arpeggiateur ou des créateurs automatiques d’accords dans la bonne gamme. Pilier 2: La synthèse sonore Une pierre angulaire tout aussi importante dans le processus de production, devenu incontournable pour de nombreux styles musicaux, est l’utilisation de synthétiseurs et d’échantillonneurs (« sampler » en anglais). Avec la technologie grandissante, ceux-ci peuvent parfois imiter les performances de musiciens « live ». Mais plus important encore, ils offrent la possibilité de concevoir des sons qui vont au-delà des domaines du naturel. Du synthétiseur analogique aux instruments virtuels VSTi Une trajectoire similaire au home-studio décrite au début peut être observée avec les synthés et les samplers.\n",
      "\n",
      "article title: La gestion des niveaux sonores (9): Les normes de mesure du loudness\n",
      "article keywords: Calm Act, EBU R128, loudness normalization, loudness unit, loudness war, LUFS, streaming\n",
      "content: le « K-system » conçu et proposé par le célèbre ingénieur en mastering Bob Katz pour normaliser le rapport entre dBFS et dBSPL. Cela se présente comme un système de calibration d’enceintes de studio combiné à une échelle spécifique de mesure des niveaux pour atteindre une plage dynamique satisfaisante. Le système proposé par Bob Katz consiste à calibrer ses enceintes de manière à ce que le 0 dB VU corresponde à 83 dB SPL. Et ceci suivant trois domaines d'application exigeant une plage dynamique différente: K-12 (Broadcast), K-14 (Pop music, home-studio) et K-20 (grands studios, musique classique). La norme EBU de mesure du loudness s'impose peu à peu... Ceci étant dit, à mon avis, il est inutile de s’embrouiller encore plus avec ce « système K » de Bob Katz. Je l’ai mentionné uniquement pour ton information et cas où tu tombes sur des plugins de mesure qui en font encore référence. Etant donné que de nombreux fabricants de plugins et de périphériques audio faisaient partie du groupe qui a rédigé la norme EBU, c’est donc le système LUFS qui finit par s’imposer, même aux Etats-Unis! On trouve de plus en plus de plugins « EBU-compliant », des gratuits jusqu’aux professionnels confirmés comme Izotope ou NuGen Audio (voir prochain article). Il semble en effet que le « système K » de Bob Katz tombe peu à peu en désuétude. Et c’est pas plus mal car le système LUFS a le mérite de donner une mesure universelle, commune à tout le monde, tout en se désolidarisant de la dualité entre valeur Peak et RMS. ... mais pour quelle valeur cible? A quoi correspond vraiment -23 LUFS recommandé par l'EBU? Il a été démontré qu’une valeur de -23 LUFS est bien trop faible pour des podcasts et de la musique « consommés » en environnement bruyant et sur appareil mobile . Il est généralement recommandé de viser plutôt les -16 LUFS (entre -16 et -20 LUFS pour un podcast). Les plateformes de streaming: quelle mesure du loudness adopter?\n",
      "\n",
      "article title: Par où commencer dans l’apprentissage d’une DAW pour produire sa musique?\n",
      "article keywords: apprentissage, Audio, composition, DAW, home-studio, MIDI, production musicale\n",
      "content: La constante amélioration dans la fiabilité et les fonctionnalités des traitements numériques et du stockage des données informatiques au cours des 20 dernières années a permis à la DAW de largement les remplacer. Si nécessaire, la connexion au monde analogique intervient via une interface audio : un appareil comportant des prises d’entrée/sortie (E/S) audio et les convertisseurs du signal analogique vers numérique (ADC) et vice-versa (DAC). Tout cela conjugué aux prix en baisse, la production musicale est devenue beaucoup plus accessible . Une musique de qualité peut se créer sur un ordinateur portable standard, sans hardware coûteux. Vue de la DAW Protools sur lécran d'ordinateur Rôle(s) du producteur musical moderne Mais cette tendance vers une « simplification » des traitements audio a en même temps engendré un effet pervers: la polyvalence nécessaire dans les tâches à accomplir. Selon la définition traditionnelle, le producteur supervise, gère et guide le processus d’enregistrement et de production d’une chanson. Pour des productions de haut calibre (pense Top 40, musique commerciale…), on retrouve normalement un certains nombres de personnes à la production en plus de l’artiste et du producteur. Un manager, un coach, d’autres musiciens, plusieurs ingénieurs du son à l’enregistrement, au mixage puis au mastering, etc… Les musiques électroniques pionnières du home-studio La réalité du home-studiste est qu’il fait généralement tout cela! C’est ce que j’appelle le producteur musical moderne: son rôle est polyvalent, de la proposition d’idées musicales à leur organisation, finalisation puis distribution. Ce rôle multi-casquettes et du DIY (« Do It Yourself », fais tout par toi-même) s’est d’ailleurs initialement développé avec l’avènement des musiques électroniques. Le travail énorme que représentait la production d’un morceau de house, techno, etc…, fut au début largement incompris par les médias de masse et les musiciens traditionnels. Ce sont tous ces producteurs qui ont pourtant contribué à l’émergence du home-studio et la démocratisation de la production musicale. Voir d’ailleurs cet excellent documentaire à ce sujet: Aujourd’hui, on ne compte plus toutes les productions à succès et hits commerciaux qui se sont conçus de A à Z dans une chambre à coucher ou une cave aménagée.\n",
      "\n",
      "article title: Par où commencer dans l’apprentissage d’une DAW pour produire sa musique?\n",
      "article keywords: apprentissage, Audio, composition, DAW, home-studio, MIDI, production musicale\n",
      "content: C’est comme aborder les trois piliers d’apprentissage d’une DAW dont je vais te parler mais de manière complètement désordonnée et confuse. Au risque de te surprendre, c’est à mon avis un mauvais raisonnement que de se demander dès le départ comment apprendre à se servir d’une DAW particulière. Quand j'ai compris ça, j'ai fait un bond en avant dans mon évolution La solution: C’est que derrière toute DAW, tout instrument virtuel reposent exactement les mêmes principes de base. Ce sont ces principes de fonctionnement qu’il te faut apprendre et assimiler. Et alors, n’importe quelle DAW (que ce soit Ableton Live, Logic Pro, Steinberg Cubase, Avid ProTools, FL Studio, etc, etc…), n’importe quel synthétiseur n’auront (presque) plus de secrets pour toi. La différence entre telle et telle DAW n’est plus qu’une question d’interface graphique à laquelle il faut seulement s’habituer. Les innombrables fonctions, effets, instruments et possibilités de routage des signaux audio te paraîtront clairs et limpides. Et alors, les particularités entre chacune des étapes de la production, du sound design au mastering en passant par la composition et le mixage se feront de manière logique et fluide. Les trois piliers d'apprentissage d'une DAW Alors par quoi commencer? Mon expérience de la chose m’a en effet permis d’identifier les principaux axes de connaissances sur lesquelles se concentrer en premier. Ce que je nomme ainsi « les trois piliers d’apprentissage d’une DAW » qui vont libérer ta créativité, ton identité sonore et ta productivité sont les suivants: La composition La synthèse sonore Les traitements audio C’est selon moi la bonne stratégie à adopter de commencer par acquérir une certaine maîtrise dans ces trois grands domaines. Je dis « grands » car tu t’aperçois vite que tu seras confronté à pas mal de sous-domaines… L’idée est d’assimiler le jargon propre à chacun de ces domaines afin de se familiariser avec toutes les fonctions associées que l’on retrouvera dans la DAW. Avec de la persévérance, cela finit par payer, et ce quel que soit ton profil initial.\n",
      "\n",
      "article title: Deviens toi aussi producteur musical depuis ton home studio\n",
      "article keywords: home-studio, ingénieur du son, MAO, production musicale\n",
      "content: Exemple de home studio à ses débuts plus minimaliste et actuel Souvent téléchargés de manière illégale, les développeurs de logiciels ont rapidement saisi le potentiel grand public de ces outils qui existaient pour la plupart depuis des années. Le logiciel Logic Pro d’Apple passe autour de 200 Euros en téléchargement direct (il coûtait près de 1000 Euros à l’origine). Et Ableton Live , un des logiciels les plus dynamiques du marché, se pare de nouvelles interfaces colorées et mise avant tout sur une plus grande accessibilité (pour 600 Euros la version complète). A côté de ces logiciels, un véritable écosystème se crée de lui-même: communauté et forums s’échangent des conseils et des “tips” pour mieux produire, tandis que des milliers de tutoriels pour débutant ou niveau plus avancé sont disponibles sur des plateformes de vidéos. Cette nouvelle ère du monde de la musique post-crise du disque remplace peu à peu notre rôle de simple auditeur à un rôle de créateur: avec l’accessibilité de la musique moderne, n’importe quel passionné de musique devient créateur! Développes l'artiste qui est en toi! Mais est-ce suffisant pour obtenir des résultats en home studio? Non! Encore faut-il acquérir les connaissances théoriques et pratiques du musicien/ingénieur du son. Pour cela, plusieurs obstacles viendront entraver ta route. En voici deux exemples: 1) Technologie VS Créativité En tant qu’artiste, tu te rendras compte que la créativité l’emporte toujours sur la technologie . Il est néanmoins important de comprendre la technologie et la science qui se cache derrière, de manière à produire de la musique innovante et de qualité. L’accès à la musique s’est certes démocratisé mais la technologie et l’apparente complexité des logiciels de création ont vite fait de décourager les amateurs en herbe. L’évolution est tellement rapide qu’on est arrivé à un point où l’artiste est submergé de tas d’outils à sa disposition, ce qui peut être un frein à sa créativité. Une bonne production musicale en ces temps est de surtout décider quoi ne pas utiliser, afin de rester concentrer et créatif dans nos propres limitations.\n",
      "\n",
      "article title: Deviens toi aussi producteur musical depuis ton home studio\n",
      "article keywords: home-studio, ingénieur du son, MAO, production musicale\n",
      "content: Alors que l’ingénieur du son écoute des textures, des espaces sonores, des réverbérations, des compressions, des conditions de prise de son, etc., paramètres qui ne sont qu’effleurés dans l’univers du musicien lorsqu’ils ne sont pas littéralement ignorés. Or cette formation est indispensable au musicien: – pour comprendre l’univers de l’ingénieur du son, ainsi que sa façon d’écouter, de penser et de ressentir la musique hors de tout aspect subjectif et de jugement personnel. En bref, savoir ce qu’il a en tête. – pour que la phase de post-production (mixage et mastering) ne soit plus un mystère et pouvoir adopter le double rôle lorsque les circonstances l’exigent chez un musicien. La connaissance des techniques de mixage ou encore de l’acoustique enrichit la profession du compositeur-arrangeur. Comment se former au home studio? De nombreuses solutions existent: – D’abord la voie la plus classique et naturelle mais ô combien la plus onéreuse, passer par une école ou des cours formels collectifs. Outre le prix, cette solution a le désavantage d’être trop rigide, pas toujours adaptée à l’objectif personnel de produire de la musique en home studio. – L’autre solution souvent prisée car de loin la moins chère et avec l’aide de l’outil Internet, c’est de s’auto-former, être autodidacte, apprendre sur le tas comme on dit. Là encore attention! On peut tout trouver sur internet mais pas forcément de manière structurée et claire. C’est chronophage et pas forcément efficace. Lire des magazines et livres spécialisés est aussi une bonne idée mais les exemples audios sont rares et l’intéractivité inexistante. Arsonor est donc né pour répondre à ces dilemmes. La meilleure façon d’apprendre et progresser est de pratiquer. Pratiquer c’est répéter, encore et toujours jusqu’à ce que cela devienne une seconde nature. Et dans le cas qui nous intéresse, la musique et le son en général, la pratique par l’écoute est essentielle. C’est le défi que je me fixe pour toi, à savoir l’engagement à te délivrer l’information et les exemples sonores les plus pertinents possibles. Toujours dans l’objectif de te permettre de passer à l’action immédiatement.\n",
      "\n",
      "\n"
     ]
    }
   ],
   "source": [
    "print(prompt)"
   ]
  },
  {
   "cell_type": "code",
   "execution_count": 116,
   "id": "6a54c74a-78fa-4684-b19b-f6bba6273cec",
   "metadata": {},
   "outputs": [],
   "source": [
    "def llm(prompt, model='gpt-4o-mini'):\n",
    "    response = client.chat.completions.create(\n",
    "        model=model,\n",
    "        messages=[{\"role\": \"user\", \"content\": prompt}]\n",
    "    )\n",
    "    \n",
    "    return response.choices[0].message.content"
   ]
  },
  {
   "cell_type": "code",
   "execution_count": 122,
   "id": "200a1d40-a113-4737-99ec-ac7e1c6114d4",
   "metadata": {},
   "outputs": [],
   "source": [
    "def rag(query, category=None, model='gpt-4o-mini'):\n",
    "    search_results = elastic_search(query, category)\n",
    "    prompt = build_prompt(query, search_results)\n",
    "    answer = llm(prompt, model=model)\n",
    "    return answer"
   ]
  },
  {
   "cell_type": "code",
   "execution_count": 124,
   "id": "58469b47-a3ee-4941-9466-d944c82d7265",
   "metadata": {},
   "outputs": [
    {
     "name": "stdout",
     "output_type": "stream",
     "text": [
      "Pour créer de la musique dans votre home-studio, vous aurez besoin de plusieurs éléments essentiels :\n",
      "\n",
      "1. **Un ordinateur** : C'est la base de votre home-studio. Un ordinateur relativement récent (Mac ou PC) suffira pour commencer la production musicale.\n",
      "   \n",
      "2. **Une interface audio** (optionnelle mais recommandée si vous souhaitez enregistrer des sons extérieurs) : Elle permet de faire entrer et sortir l'audio de votre ordinateur, facilitant ainsi l'enregistrement et la manipulation des sons.\n",
      "\n",
      "3. **Un casque** ou des **moniteurs de studio** : Ils sont nécessaires pour écouter le son avec précision et effectuer le mixage de manière adéquate.\n",
      "\n",
      "4. **Un logiciel de production musicale (DAW)** : C'est le cœur de votre home-studio, où vous allez enregistrer, éditer, mixer, et produire votre musique. \n",
      "\n",
      "5. **Plugins et instruments virtuels** : Ils vous permettent d'accéder à des sons et effets variés pour vos compositions.\n",
      "\n",
      "En résumé, même si l'équipement peut sembler intimidant, un ordinateur et un logiciel suffisent largement pour commencer votre aventure musicale à domicile.\n",
      "\n",
      "Pour approfondir vos connaissances sur la mise en place d'un home-studio, je vous recommande de lire les articles suivants :\n",
      "\n",
      "1. **Deviens toi aussi producteur musical depuis ton home studio**\n",
      "2. **Comment bien débuter en MAO: le home-studio démystifié**\n",
      "3. **Par où commencer dans l’apprentissage d’une DAW pour produire sa musique?**\n"
     ]
    }
   ],
   "source": [
    "# category = 'LE HOME STUDIO'\n",
    "query = 'De quel matériel ai-je besoin pour créer ma musique dans mon home-studio?'\n",
    "answer = rag(query)\n",
    "print(answer)"
   ]
  },
  {
   "cell_type": "markdown",
   "id": "73be4d02-5d0f-465b-9b75-26dac1b1cbb7",
   "metadata": {},
   "source": [
    "# Retrieval evaluation"
   ]
  },
  {
   "cell_type": "code",
   "execution_count": 145,
   "id": "286045b2-a6a9-4120-9d75-8bdf4318f18a",
   "metadata": {},
   "outputs": [
    {
     "data": {
      "text/html": [
       "<div>\n",
       "<style scoped>\n",
       "    .dataframe tbody tr th:only-of-type {\n",
       "        vertical-align: middle;\n",
       "    }\n",
       "\n",
       "    .dataframe tbody tr th {\n",
       "        vertical-align: top;\n",
       "    }\n",
       "\n",
       "    .dataframe thead th {\n",
       "        text-align: right;\n",
       "    }\n",
       "</style>\n",
       "<table border=\"1\" class=\"dataframe\">\n",
       "  <thead>\n",
       "    <tr style=\"text-align: right;\">\n",
       "      <th></th>\n",
       "      <th>question</th>\n",
       "      <th>category</th>\n",
       "      <th>chunk</th>\n",
       "      <th>article</th>\n",
       "    </tr>\n",
       "  </thead>\n",
       "  <tbody>\n",
       "    <tr>\n",
       "      <th>0</th>\n",
       "      <td>Quel est l'impact de l'IA sur la post-producti...</td>\n",
       "      <td>LA POST-PROD</td>\n",
       "      <td>4615db39-1</td>\n",
       "      <td>4615db39</td>\n",
       "    </tr>\n",
       "    <tr>\n",
       "      <th>1</th>\n",
       "      <td>Comment les outils IA simplifient-ils le trava...</td>\n",
       "      <td>LA POST-PROD</td>\n",
       "      <td>4615db39-1</td>\n",
       "      <td>4615db39</td>\n",
       "    </tr>\n",
       "    <tr>\n",
       "      <th>2</th>\n",
       "      <td>Quels avantages l'IA apporte-t-elle aux artist...</td>\n",
       "      <td>LA POST-PROD</td>\n",
       "      <td>4615db39-1</td>\n",
       "      <td>4615db39</td>\n",
       "    </tr>\n",
       "    <tr>\n",
       "      <th>3</th>\n",
       "      <td>Comment un débutant peut-il améliorer ses prod...</td>\n",
       "      <td>LA POST-PROD</td>\n",
       "      <td>4615db39-1</td>\n",
       "      <td>4615db39</td>\n",
       "    </tr>\n",
       "    <tr>\n",
       "      <th>4</th>\n",
       "      <td>Quelle est l'évolution des outils audio pour l...</td>\n",
       "      <td>LA POST-PROD</td>\n",
       "      <td>4615db39-1</td>\n",
       "      <td>4615db39</td>\n",
       "    </tr>\n",
       "  </tbody>\n",
       "</table>\n",
       "</div>"
      ],
      "text/plain": [
       "                                            question      category  \\\n",
       "0  Quel est l'impact de l'IA sur la post-producti...  LA POST-PROD   \n",
       "1  Comment les outils IA simplifient-ils le trava...  LA POST-PROD   \n",
       "2  Quels avantages l'IA apporte-t-elle aux artist...  LA POST-PROD   \n",
       "3  Comment un débutant peut-il améliorer ses prod...  LA POST-PROD   \n",
       "4  Quelle est l'évolution des outils audio pour l...  LA POST-PROD   \n",
       "\n",
       "        chunk   article  \n",
       "0  4615db39-1  4615db39  \n",
       "1  4615db39-1  4615db39  \n",
       "2  4615db39-1  4615db39  \n",
       "3  4615db39-1  4615db39  \n",
       "4  4615db39-1  4615db39  "
      ]
     },
     "execution_count": 145,
     "metadata": {},
     "output_type": "execute_result"
    }
   ],
   "source": [
    "df_question = pd.read_csv('../data/ground-truth-300.csv')\n",
    "df_question.head()"
   ]
  },
  {
   "cell_type": "code",
   "execution_count": 146,
   "id": "2d0a4048",
   "metadata": {},
   "outputs": [
    {
     "data": {
      "text/plain": [
       "{'question': \"Quel est l'impact de l'IA sur la post-production audio et musicale\",\n",
       " 'category': 'LA POST-PROD',\n",
       " 'chunk': '4615db39-1',\n",
       " 'article': '4615db39'}"
      ]
     },
     "execution_count": 146,
     "metadata": {},
     "output_type": "execute_result"
    }
   ],
   "source": [
    "ground_truth = df_question.to_dict(orient='records')\n",
    "ground_truth[0]"
   ]
  },
  {
   "cell_type": "code",
   "execution_count": 26,
   "id": "7bd63de1",
   "metadata": {},
   "outputs": [],
   "source": [
    "def hit_rate(relevance_total):\n",
    "    cnt = 0\n",
    "\n",
    "    for line in relevance_total:\n",
    "        if True in line:\n",
    "            cnt = cnt + 1\n",
    "\n",
    "    return cnt / len(relevance_total)\n",
    "\n",
    "def mrr(relevance_total):\n",
    "    total_score = 0.0\n",
    "\n",
    "    for line in relevance_total:\n",
    "        for rank in range(len(line)):\n",
    "            if line[rank] == True:\n",
    "                total_score = total_score + 1 / (rank + 1)\n",
    "\n",
    "    return total_score / len(relevance_total)"
   ]
  },
  {
   "cell_type": "markdown",
   "id": "382d1a27",
   "metadata": {},
   "source": [
    "### 1) Basic chunking, Minsearch based on the chunk_id"
   ]
  },
  {
   "cell_type": "code",
   "execution_count": 78,
   "id": "eea453c2",
   "metadata": {},
   "outputs": [],
   "source": [
    "def minsearch_search(query):\n",
    "    boost = {}\n",
    "\n",
    "    results = index.search(\n",
    "        query=query,\n",
    "        filter_dict={},\n",
    "        boost_dict=boost,\n",
    "        num_results=10\n",
    "    )\n",
    "\n",
    "    return results"
   ]
  },
  {
   "cell_type": "code",
   "execution_count": 79,
   "id": "957baa48",
   "metadata": {},
   "outputs": [],
   "source": [
    "def evaluate(ground_truth, search_function):\n",
    "    relevance_total = []\n",
    "\n",
    "    for q in tqdm(ground_truth):\n",
    "        doc_id = q['chunk']\n",
    "        results = search_function(q)\n",
    "        relevance = [d['chunk_id'] == doc_id for d in results]\n",
    "        relevance_total.append(relevance)\n",
    "\n",
    "    return {\n",
    "        'hit_rate': hit_rate(relevance_total),\n",
    "        'mrr': mrr(relevance_total),\n",
    "    }"
   ]
  },
  {
   "cell_type": "code",
   "execution_count": 15,
   "id": "63794ce1",
   "metadata": {},
   "outputs": [],
   "source": [
    "from tqdm.auto import tqdm"
   ]
  },
  {
   "cell_type": "code",
   "execution_count": 29,
   "id": "1fde979e",
   "metadata": {},
   "outputs": [
    {
     "data": {
      "application/vnd.jupyter.widget-view+json": {
       "model_id": "d2ebbbc3677c4ab3a4535bba8d216d0e",
       "version_major": 2,
       "version_minor": 0
      },
      "text/plain": [
       "  0%|          | 0/2945 [00:00<?, ?it/s]"
      ]
     },
     "metadata": {},
     "output_type": "display_data"
    },
    {
     "data": {
      "text/plain": [
       "{'hit_rate': 0.5297113752122241, 'mrr': 0.3079710027757569}"
      ]
     },
     "execution_count": 29,
     "metadata": {},
     "output_type": "execute_result"
    }
   ],
   "source": [
    "evaluate(ground_truth, lambda q: minsearch_search(q['question']))"
   ]
  },
  {
   "cell_type": "markdown",
   "id": "dc3edab1",
   "metadata": {},
   "source": [
    "### 2) Basic chunking, Minsearch based on the article_id"
   ]
  },
  {
   "cell_type": "code",
   "execution_count": 39,
   "id": "61acd428",
   "metadata": {},
   "outputs": [],
   "source": [
    "def evaluate2(ground_truth, search_function):\n",
    "    relevance_total = []\n",
    "\n",
    "    for q in tqdm(ground_truth):\n",
    "        doc_id = q['article']\n",
    "        results = search_function(q)\n",
    "        \n",
    "        # Ensure that only the first relevant result counts for the MRR\n",
    "        relevance = []\n",
    "        seen_article = False\n",
    "        for d in results:\n",
    "            if d['article_id'] == doc_id and not seen_article:\n",
    "                relevance.append(True)\n",
    "                seen_article = True\n",
    "            else:\n",
    "                relevance.append(False)\n",
    "\n",
    "        relevance_total.append(relevance)\n",
    "\n",
    "    return {\n",
    "        'hit_rate': hit_rate(relevance_total),\n",
    "        'mrr': mrr(relevance_total),\n",
    "    }\n"
   ]
  },
  {
   "cell_type": "code",
   "execution_count": 40,
   "id": "6bc44ea7",
   "metadata": {},
   "outputs": [
    {
     "data": {
      "application/vnd.jupyter.widget-view+json": {
       "model_id": "b7b021bafdcb4b7db20221fa8859e5cf",
       "version_major": 2,
       "version_minor": 0
      },
      "text/plain": [
       "  0%|          | 0/2945 [00:00<?, ?it/s]"
      ]
     },
     "metadata": {},
     "output_type": "display_data"
    },
    {
     "data": {
      "text/plain": [
       "{'hit_rate': 0.5911714770797962, 'mrr': 0.4871826070552721}"
      ]
     },
     "execution_count": 40,
     "metadata": {},
     "output_type": "execute_result"
    }
   ],
   "source": [
    "evaluate2(ground_truth, lambda q: minsearch_search(q['question']))"
   ]
  },
  {
   "cell_type": "markdown",
   "id": "283be245",
   "metadata": {},
   "source": [
    "### 3) Find the best boost parameters"
   ]
  },
  {
   "cell_type": "code",
   "execution_count": 83,
   "id": "30da8ae0",
   "metadata": {},
   "outputs": [],
   "source": [
    "df_validation = df_question[:100]\n",
    "df_test = df_question[100:]"
   ]
  },
  {
   "cell_type": "code",
   "execution_count": 58,
   "id": "5c06ccb8",
   "metadata": {},
   "outputs": [],
   "source": [
    "import random\n",
    "\n",
    "def simple_optimize(param_ranges, objective_function, n_iterations=10):\n",
    "    best_params = None\n",
    "    best_score = float('-inf')  # Assuming we're minimizing. Use float('-inf') if maximizing.\n",
    "\n",
    "    for _ in range(n_iterations):\n",
    "        # Generate random parameters\n",
    "        current_params = {}\n",
    "        for param, (min_val, max_val) in param_ranges.items():\n",
    "            if isinstance(min_val, int) and isinstance(max_val, int):\n",
    "                current_params[param] = random.randint(min_val, max_val)\n",
    "            else:\n",
    "                current_params[param] = random.uniform(min_val, max_val)\n",
    "        \n",
    "        # Evaluate the objective function\n",
    "        current_score = objective_function(current_params)\n",
    "        \n",
    "        # Update best if current is better\n",
    "        if current_score > best_score:  # Change to > if maximizing\n",
    "            best_score = current_score\n",
    "            best_params = current_params\n",
    "    \n",
    "    return best_params, best_score"
   ]
  },
  {
   "cell_type": "code",
   "execution_count": 59,
   "id": "425ac4a6",
   "metadata": {},
   "outputs": [],
   "source": [
    "gt_val = df_validation.to_dict(orient='records')"
   ]
  },
  {
   "cell_type": "code",
   "execution_count": 84,
   "id": "4797e158",
   "metadata": {},
   "outputs": [],
   "source": [
    "def minsearch_search(query, boost=None):\n",
    "    if boost is None:\n",
    "        boost = {}\n",
    "\n",
    "    results = index.search(\n",
    "        query=query,\n",
    "        filter_dict={},\n",
    "        boost_dict=boost,\n",
    "        num_results=10\n",
    "    )\n",
    "\n",
    "    return results"
   ]
  },
  {
   "cell_type": "code",
   "execution_count": 85,
   "id": "775ffd90",
   "metadata": {},
   "outputs": [],
   "source": [
    "param_ranges = {\n",
    "    'title': (0.0, 3.0),\n",
    "    'tags': (0.0, 3.0),\n",
    "    'chunk_text': (0.0, 3.0)\n",
    "}\n",
    "\n",
    "def objective(boost_params):\n",
    "    def search_function(q):\n",
    "        return minsearch_search(q['question'], boost_params)\n",
    "\n",
    "    results = evaluate(gt_val, search_function)\n",
    "    return results['mrr']"
   ]
  },
  {
   "cell_type": "code",
   "execution_count": 86,
   "id": "beaecfd3",
   "metadata": {},
   "outputs": [
    {
     "data": {
      "application/vnd.jupyter.widget-view+json": {
       "model_id": "fe8791a2bd2b43abadf3aa52440c0149",
       "version_major": 2,
       "version_minor": 0
      },
      "text/plain": [
       "  0%|          | 0/100 [00:00<?, ?it/s]"
      ]
     },
     "metadata": {},
     "output_type": "display_data"
    },
    {
     "data": {
      "application/vnd.jupyter.widget-view+json": {
       "model_id": "041c0880808e4ac48657c3ef4c3c48af",
       "version_major": 2,
       "version_minor": 0
      },
      "text/plain": [
       "  0%|          | 0/100 [00:00<?, ?it/s]"
      ]
     },
     "metadata": {},
     "output_type": "display_data"
    },
    {
     "data": {
      "application/vnd.jupyter.widget-view+json": {
       "model_id": "b25004b54fb6423ebf21f2022a215d7d",
       "version_major": 2,
       "version_minor": 0
      },
      "text/plain": [
       "  0%|          | 0/100 [00:00<?, ?it/s]"
      ]
     },
     "metadata": {},
     "output_type": "display_data"
    },
    {
     "data": {
      "application/vnd.jupyter.widget-view+json": {
       "model_id": "411d6a17cda34ddeb82123098474cd5d",
       "version_major": 2,
       "version_minor": 0
      },
      "text/plain": [
       "  0%|          | 0/100 [00:00<?, ?it/s]"
      ]
     },
     "metadata": {},
     "output_type": "display_data"
    },
    {
     "data": {
      "application/vnd.jupyter.widget-view+json": {
       "model_id": "592f8d8f565b41a998a08556988fbba9",
       "version_major": 2,
       "version_minor": 0
      },
      "text/plain": [
       "  0%|          | 0/100 [00:00<?, ?it/s]"
      ]
     },
     "metadata": {},
     "output_type": "display_data"
    },
    {
     "data": {
      "application/vnd.jupyter.widget-view+json": {
       "model_id": "f81578559f8c4f41a1d84004bccc51c0",
       "version_major": 2,
       "version_minor": 0
      },
      "text/plain": [
       "  0%|          | 0/100 [00:00<?, ?it/s]"
      ]
     },
     "metadata": {},
     "output_type": "display_data"
    },
    {
     "data": {
      "application/vnd.jupyter.widget-view+json": {
       "model_id": "f85518ce30c74db089fe7c377368bbe0",
       "version_major": 2,
       "version_minor": 0
      },
      "text/plain": [
       "  0%|          | 0/100 [00:00<?, ?it/s]"
      ]
     },
     "metadata": {},
     "output_type": "display_data"
    },
    {
     "data": {
      "application/vnd.jupyter.widget-view+json": {
       "model_id": "a53abc733f8d40bb9e4e1b26d675d5e6",
       "version_major": 2,
       "version_minor": 0
      },
      "text/plain": [
       "  0%|          | 0/100 [00:00<?, ?it/s]"
      ]
     },
     "metadata": {},
     "output_type": "display_data"
    },
    {
     "data": {
      "application/vnd.jupyter.widget-view+json": {
       "model_id": "8699d363e7b542e99ab9bc8e9cd182f1",
       "version_major": 2,
       "version_minor": 0
      },
      "text/plain": [
       "  0%|          | 0/100 [00:00<?, ?it/s]"
      ]
     },
     "metadata": {},
     "output_type": "display_data"
    },
    {
     "data": {
      "application/vnd.jupyter.widget-view+json": {
       "model_id": "9283bdda7ad84d4ba8ba81a46b66a87d",
       "version_major": 2,
       "version_minor": 0
      },
      "text/plain": [
       "  0%|          | 0/100 [00:00<?, ?it/s]"
      ]
     },
     "metadata": {},
     "output_type": "display_data"
    },
    {
     "data": {
      "application/vnd.jupyter.widget-view+json": {
       "model_id": "36a26ea704224ce78d7768cba5c08428",
       "version_major": 2,
       "version_minor": 0
      },
      "text/plain": [
       "  0%|          | 0/100 [00:00<?, ?it/s]"
      ]
     },
     "metadata": {},
     "output_type": "display_data"
    },
    {
     "data": {
      "application/vnd.jupyter.widget-view+json": {
       "model_id": "2dcc09695d96487abac140317243e091",
       "version_major": 2,
       "version_minor": 0
      },
      "text/plain": [
       "  0%|          | 0/100 [00:00<?, ?it/s]"
      ]
     },
     "metadata": {},
     "output_type": "display_data"
    },
    {
     "data": {
      "application/vnd.jupyter.widget-view+json": {
       "model_id": "cd7ec4bdde654ce8963226e844fc239f",
       "version_major": 2,
       "version_minor": 0
      },
      "text/plain": [
       "  0%|          | 0/100 [00:00<?, ?it/s]"
      ]
     },
     "metadata": {},
     "output_type": "display_data"
    },
    {
     "data": {
      "application/vnd.jupyter.widget-view+json": {
       "model_id": "0e8a1c4b48024ef5a652ea8579622366",
       "version_major": 2,
       "version_minor": 0
      },
      "text/plain": [
       "  0%|          | 0/100 [00:00<?, ?it/s]"
      ]
     },
     "metadata": {},
     "output_type": "display_data"
    },
    {
     "data": {
      "application/vnd.jupyter.widget-view+json": {
       "model_id": "761e73dbbe35415e8109a2aca99e7c25",
       "version_major": 2,
       "version_minor": 0
      },
      "text/plain": [
       "  0%|          | 0/100 [00:00<?, ?it/s]"
      ]
     },
     "metadata": {},
     "output_type": "display_data"
    },
    {
     "data": {
      "application/vnd.jupyter.widget-view+json": {
       "model_id": "290e3616be914008baad3ba383ebc95a",
       "version_major": 2,
       "version_minor": 0
      },
      "text/plain": [
       "  0%|          | 0/100 [00:00<?, ?it/s]"
      ]
     },
     "metadata": {},
     "output_type": "display_data"
    },
    {
     "data": {
      "application/vnd.jupyter.widget-view+json": {
       "model_id": "1450121f47c8453c95496361f45c117e",
       "version_major": 2,
       "version_minor": 0
      },
      "text/plain": [
       "  0%|          | 0/100 [00:00<?, ?it/s]"
      ]
     },
     "metadata": {},
     "output_type": "display_data"
    },
    {
     "data": {
      "application/vnd.jupyter.widget-view+json": {
       "model_id": "36b2087ecf2f431880c7fc63ecd81342",
       "version_major": 2,
       "version_minor": 0
      },
      "text/plain": [
       "  0%|          | 0/100 [00:00<?, ?it/s]"
      ]
     },
     "metadata": {},
     "output_type": "display_data"
    },
    {
     "data": {
      "application/vnd.jupyter.widget-view+json": {
       "model_id": "ac554fa94ac44ad38678a415275c6749",
       "version_major": 2,
       "version_minor": 0
      },
      "text/plain": [
       "  0%|          | 0/100 [00:00<?, ?it/s]"
      ]
     },
     "metadata": {},
     "output_type": "display_data"
    },
    {
     "data": {
      "application/vnd.jupyter.widget-view+json": {
       "model_id": "aca7b251122747bdb2ce3f82704cbbdc",
       "version_major": 2,
       "version_minor": 0
      },
      "text/plain": [
       "  0%|          | 0/100 [00:00<?, ?it/s]"
      ]
     },
     "metadata": {},
     "output_type": "display_data"
    },
    {
     "data": {
      "text/plain": [
       "({'title': 0.5164183119720305,\n",
       "  'tags': 1.172271157905152,\n",
       "  'chunk_text': 2.2336086621388977},\n",
       " 0.18979365079365076)"
      ]
     },
     "execution_count": 86,
     "metadata": {},
     "output_type": "execute_result"
    }
   ],
   "source": [
    "simple_optimize(param_ranges, objective, n_iterations=20)"
   ]
  },
  {
   "cell_type": "code",
   "execution_count": 89,
   "id": "5d7efeb4",
   "metadata": {},
   "outputs": [],
   "source": [
    "def minsearch_improved(query):\n",
    "    boost = {\n",
    "        'title': 0.31,\n",
    "        'tags': 0.22,\n",
    "        'chunk_text': 1.56\n",
    "    }\n",
    "\n",
    "    results = index.search(\n",
    "        query=query,\n",
    "        filter_dict={},\n",
    "        boost_dict=boost,\n",
    "        num_results=10\n",
    "    )\n",
    "\n",
    "    return results"
   ]
  },
  {
   "cell_type": "code",
   "execution_count": 45,
   "id": "e5ea2fc8",
   "metadata": {},
   "outputs": [
    {
     "data": {
      "application/vnd.jupyter.widget-view+json": {
       "model_id": "798a18ed341a4a6187250e5b6f3a38bf",
       "version_major": 2,
       "version_minor": 0
      },
      "text/plain": [
       "  0%|          | 0/2945 [00:00<?, ?it/s]"
      ]
     },
     "metadata": {},
     "output_type": "display_data"
    },
    {
     "data": {
      "text/plain": [
       "{'hit_rate': 0.664855687606112, 'mrr': 0.40281981836311226}"
      ]
     },
     "execution_count": 45,
     "metadata": {},
     "output_type": "execute_result"
    }
   ],
   "source": [
    "evaluate(ground_truth, lambda q: minsearch_improved(q['question']))"
   ]
  },
  {
   "cell_type": "markdown",
   "id": "5176186f",
   "metadata": {},
   "source": [
    "### 4) Dynamic chunking size 300, overlap 50 - Minsearch, text search"
   ]
  },
  {
   "cell_type": "code",
   "execution_count": 56,
   "id": "6e104209",
   "metadata": {},
   "outputs": [
    {
     "data": {
      "application/vnd.jupyter.widget-view+json": {
       "model_id": "4bfea4a73a0b40659e0b2b9262937493",
       "version_major": 2,
       "version_minor": 0
      },
      "text/plain": [
       "  0%|          | 0/2860 [00:00<?, ?it/s]"
      ]
     },
     "metadata": {},
     "output_type": "display_data"
    },
    {
     "data": {
      "text/plain": [
       "{'hit_rate': 0.529020979020979, 'mrr': 0.2984319846819851}"
      ]
     },
     "execution_count": 56,
     "metadata": {},
     "output_type": "execute_result"
    }
   ],
   "source": [
    "evaluate(ground_truth, lambda q: minsearch_search(q['question']))"
   ]
  },
  {
   "cell_type": "code",
   "execution_count": 70,
   "id": "43c66696",
   "metadata": {},
   "outputs": [
    {
     "data": {
      "application/vnd.jupyter.widget-view+json": {
       "model_id": "d69aa2e235b0412c8e02c82d396ae3f2",
       "version_major": 2,
       "version_minor": 0
      },
      "text/plain": [
       "  0%|          | 0/2860 [00:00<?, ?it/s]"
      ]
     },
     "metadata": {},
     "output_type": "display_data"
    },
    {
     "data": {
      "text/plain": [
       "{'hit_rate': 0.848951048951049, 'mrr': 0.5353556166056164}"
      ]
     },
     "execution_count": 70,
     "metadata": {},
     "output_type": "execute_result"
    }
   ],
   "source": [
    "evaluate(ground_truth, lambda q: minsearch_improved(q['question']))"
   ]
  },
  {
   "cell_type": "markdown",
   "id": "8f02d98b",
   "metadata": {},
   "source": [
    "### 5) Dynamic chunking size 350, overlap 30 - Minsearch, text search"
   ]
  },
  {
   "cell_type": "code",
   "execution_count": 80,
   "id": "04bd16b4",
   "metadata": {},
   "outputs": [
    {
     "data": {
      "application/vnd.jupyter.widget-view+json": {
       "model_id": "ae4137cc726b4626a51e3869ec816122",
       "version_major": 2,
       "version_minor": 0
      },
      "text/plain": [
       "  0%|          | 0/2215 [00:00<?, ?it/s]"
      ]
     },
     "metadata": {},
     "output_type": "display_data"
    },
    {
     "data": {
      "text/plain": [
       "{'hit_rate': 0.5544018058690745, 'mrr': 0.31290193127664956}"
      ]
     },
     "execution_count": 80,
     "metadata": {},
     "output_type": "execute_result"
    }
   ],
   "source": [
    "evaluate(ground_truth, lambda q: minsearch_search(q['question']))"
   ]
  },
  {
   "cell_type": "code",
   "execution_count": 90,
   "id": "f78ca9d0",
   "metadata": {},
   "outputs": [
    {
     "data": {
      "application/vnd.jupyter.widget-view+json": {
       "model_id": "746c142619814ee9bef01354d3ba835f",
       "version_major": 2,
       "version_minor": 0
      },
      "text/plain": [
       "  0%|          | 0/2215 [00:00<?, ?it/s]"
      ]
     },
     "metadata": {},
     "output_type": "display_data"
    },
    {
     "data": {
      "text/plain": [
       "{'hit_rate': 0.7972911963882618, 'mrr': 0.4890395571321085}"
      ]
     },
     "execution_count": 90,
     "metadata": {},
     "output_type": "execute_result"
    }
   ],
   "source": [
    "evaluate(ground_truth, lambda q: minsearch_improved(q['question']))"
   ]
  },
  {
   "cell_type": "markdown",
   "id": "8d7639da",
   "metadata": {},
   "source": [
    "### 6) Dynamic chunking - Elasticsearch, text search"
   ]
  },
  {
   "cell_type": "markdown",
   "id": "38608d2f",
   "metadata": {},
   "source": [
    "chunk size 300, overlap 50:"
   ]
  },
  {
   "cell_type": "code",
   "execution_count": 16,
   "id": "147bd79e",
   "metadata": {},
   "outputs": [
    {
     "data": {
      "application/vnd.jupyter.widget-view+json": {
       "model_id": "1acfc5852d6946ab9ee8726ed805c726",
       "version_major": 2,
       "version_minor": 0
      },
      "text/plain": [
       "  0%|          | 0/2860 [00:00<?, ?it/s]"
      ]
     },
     "metadata": {},
     "output_type": "display_data"
    },
    {
     "data": {
      "text/plain": [
       "{'hit_rate': 0.8744755244755245, 'mrr': 0.607808719058718}"
      ]
     },
     "execution_count": 16,
     "metadata": {},
     "output_type": "execute_result"
    }
   ],
   "source": [
    "evaluate(ground_truth, lambda q: elastic_search(q['question'], q['category']))"
   ]
  },
  {
   "cell_type": "markdown",
   "id": "1310de2d",
   "metadata": {},
   "source": [
    "chunk size 300, overlap 50, boosted:"
   ]
  },
  {
   "cell_type": "code",
   "execution_count": null,
   "id": "5bd1090d",
   "metadata": {},
   "outputs": [],
   "source": [
    "evaluate(ground_truth, lambda q: elastic_search(q['question'], q['category']))"
   ]
  },
  {
   "cell_type": "markdown",
   "id": "eba24db6",
   "metadata": {},
   "source": [
    "chunk size 350, overlap 30:"
   ]
  },
  {
   "cell_type": "code",
   "execution_count": 94,
   "id": "aefc0d29",
   "metadata": {},
   "outputs": [
    {
     "data": {
      "application/vnd.jupyter.widget-view+json": {
       "model_id": "0071dc211db848c29f5a001e11d2fc6c",
       "version_major": 2,
       "version_minor": 0
      },
      "text/plain": [
       "  0%|          | 0/2215 [00:00<?, ?it/s]"
      ]
     },
     "metadata": {},
     "output_type": "display_data"
    },
    {
     "data": {
      "text/plain": [
       "{'hit_rate': 0.8600451467268623, 'mrr': 0.5898710093518226}"
      ]
     },
     "execution_count": 94,
     "metadata": {},
     "output_type": "execute_result"
    }
   ],
   "source": [
    "evaluate(ground_truth, lambda q: elastic_search(q['question'], q['category']))"
   ]
  },
  {
   "cell_type": "markdown",
   "id": "acfb9826",
   "metadata": {},
   "source": [
    "chunk size 350, overlap 30, boosted:"
   ]
  },
  {
   "cell_type": "markdown",
   "id": "19281969-db02-42ae-a1a9-59c3caf86798",
   "metadata": {},
   "source": [
    "# RAG evaluation"
   ]
  },
  {
   "cell_type": "code",
   "execution_count": 98,
   "id": "015c6999-12d3-41f2-ade9-9841722e5be4",
   "metadata": {},
   "outputs": [],
   "source": [
    "prompt2_template = \"\"\"\n",
    "You are an expert evaluator for a RAG system.\n",
    "Your task is to analyze the relevance of the generated answer to the given question.\n",
    "Based on the relevance of the generated answer, you will classify it\n",
    "as \"NON_RELEVANT\", \"PARTLY_RELEVANT\", or \"RELEVANT\".\n",
    "\n",
    "Here is the data for evaluation:\n",
    "\n",
    "Question: {question}\n",
    "Generated Answer: {answer_llm}\n",
    "\n",
    "Please analyze the content and context of the generated answer in relation to the question\n",
    "and provide your evaluation in parsable JSON without using code blocks:\n",
    "\n",
    "{{\n",
    "  \"Relevance\": \"NON_RELEVANT\" | \"PARTLY_RELEVANT\" | \"RELEVANT\",\n",
    "  \"Explanation\": \"[Provide a brief explanation for your evaluation]\"\n",
    "}}\n",
    "\"\"\".strip()"
   ]
  },
  {
   "cell_type": "code",
   "execution_count": 147,
   "id": "90986137",
   "metadata": {},
   "outputs": [
    {
     "data": {
      "text/plain": [
       "2860"
      ]
     },
     "execution_count": 147,
     "metadata": {},
     "output_type": "execute_result"
    }
   ],
   "source": [
    "len(ground_truth)"
   ]
  },
  {
   "cell_type": "code",
   "execution_count": 148,
   "id": "a5306095",
   "metadata": {},
   "outputs": [
    {
     "data": {
      "text/plain": [
       "{'question': \"Quel est l'impact de l'IA sur la post-production audio et musicale\",\n",
       " 'category': 'LA POST-PROD',\n",
       " 'chunk': '4615db39-1',\n",
       " 'article': '4615db39'}"
      ]
     },
     "execution_count": 148,
     "metadata": {},
     "output_type": "execute_result"
    }
   ],
   "source": [
    "record = ground_truth[0]\n",
    "record"
   ]
  },
  {
   "cell_type": "code",
   "execution_count": 149,
   "id": "7d82575b",
   "metadata": {},
   "outputs": [],
   "source": [
    "question = record['question']\n",
    "answer_llm = rag(question)"
   ]
  },
  {
   "cell_type": "code",
   "execution_count": 150,
   "id": "bcd7bf73",
   "metadata": {},
   "outputs": [
    {
     "name": "stdout",
     "output_type": "stream",
     "text": [
      "L'impact de l'intelligence artificielle (IA) sur la post-production audio et musicale est significatif. Les outils et plug-ins basés sur l'IA révolutionnent le domaine, permettant à une plus grande variété d'utilisateurs—des amateurs aux professionnels—d'atteindre des résultats audio de qualité professionnelle sans nécessiter de formation approfondie en ingénierie du son. Cela favorise l'autonomie des artistes dans leur processus créatif, réduisant la dépendance à des experts pour des tâches courantes en post-production.\n",
      "\n",
      "Les technologies IA facilitent la gestion de problèmes complexes dans le mixage et le mastering, rendant même le démarrage plus accessible pour les novices. Par exemple, les plug-ins utilisant l'IA peuvent automatiser des tâches comme l'harmonisation de samples audio ou la réduction du bruit, ce qui est une avancée majeure pour la restauration audio.\n",
      "\n",
      "En résumé, l'IA continue de démocratiser l'accès à des outils de qualité en audio, tout en augmentant l'efficacité des professionnels en leur permettant de se concentrer sur la créativité plutôt que sur des tâches techniques répétitives.\n",
      "\n",
      "Pour aller plus loin dans ce sujet, je recommande de lire les articles suivants :\n",
      "\n",
      "1. **L’intelligence artificielle (IA) dans le studio de production audio (6/6)** \n",
      "2. **L’intelligence artificielle (IA) dans le studio de production audio (1/6)** \n",
      "3. **L’intelligence artificielle (IA) dans le studio de production audio (5/6)**\n"
     ]
    }
   ],
   "source": [
    "print(answer_llm)"
   ]
  },
  {
   "cell_type": "code",
   "execution_count": 151,
   "id": "566e8de9",
   "metadata": {},
   "outputs": [
    {
     "name": "stdout",
     "output_type": "stream",
     "text": [
      "You are an expert evaluator for a RAG system.\n",
      "Your task is to analyze the relevance of the generated answer to the given question.\n",
      "Based on the relevance of the generated answer, you will classify it\n",
      "as \"NON_RELEVANT\", \"PARTLY_RELEVANT\", or \"RELEVANT\".\n",
      "\n",
      "Here is the data for evaluation:\n",
      "\n",
      "Question: Quel est l'impact de l'IA sur la post-production audio et musicale\n",
      "Generated Answer: L'impact de l'intelligence artificielle (IA) sur la post-production audio et musicale est significatif. Les outils et plug-ins basés sur l'IA révolutionnent le domaine, permettant à une plus grande variété d'utilisateurs—des amateurs aux professionnels—d'atteindre des résultats audio de qualité professionnelle sans nécessiter de formation approfondie en ingénierie du son. Cela favorise l'autonomie des artistes dans leur processus créatif, réduisant la dépendance à des experts pour des tâches courantes en post-production.\n",
      "\n",
      "Les technologies IA facilitent la gestion de problèmes complexes dans le mixage et le mastering, rendant même le démarrage plus accessible pour les novices. Par exemple, les plug-ins utilisant l'IA peuvent automatiser des tâches comme l'harmonisation de samples audio ou la réduction du bruit, ce qui est une avancée majeure pour la restauration audio.\n",
      "\n",
      "En résumé, l'IA continue de démocratiser l'accès à des outils de qualité en audio, tout en augmentant l'efficacité des professionnels en leur permettant de se concentrer sur la créativité plutôt que sur des tâches techniques répétitives.\n",
      "\n",
      "Pour aller plus loin dans ce sujet, je recommande de lire les articles suivants :\n",
      "\n",
      "1. **L’intelligence artificielle (IA) dans le studio de production audio (6/6)** \n",
      "2. **L’intelligence artificielle (IA) dans le studio de production audio (1/6)** \n",
      "3. **L’intelligence artificielle (IA) dans le studio de production audio (5/6)**\n",
      "\n",
      "Please analyze the content and context of the generated answer in relation to the question\n",
      "and provide your evaluation in parsable JSON without using code blocks:\n",
      "\n",
      "{\n",
      "  \"Relevance\": \"NON_RELEVANT\" | \"PARTLY_RELEVANT\" | \"RELEVANT\",\n",
      "  \"Explanation\": \"[Provide a brief explanation for your evaluation]\"\n",
      "}\n"
     ]
    }
   ],
   "source": [
    "prompt = prompt2_template.format(question=question, answer_llm=answer_llm)\n",
    "print(prompt)"
   ]
  },
  {
   "cell_type": "code",
   "execution_count": 152,
   "id": "0b0302ac",
   "metadata": {},
   "outputs": [],
   "source": [
    "df_sample = df_question.sample(n=200, random_state=1)"
   ]
  },
  {
   "cell_type": "code",
   "execution_count": 153,
   "id": "0b5a16ed",
   "metadata": {},
   "outputs": [],
   "source": [
    "sample = df_sample.to_dict(orient='records')"
   ]
  },
  {
   "cell_type": "code",
   "execution_count": 154,
   "id": "a0a09bad",
   "metadata": {},
   "outputs": [
    {
     "data": {
      "application/vnd.jupyter.widget-view+json": {
       "model_id": "c4f48d40b8754ab7a259c45e0f087698",
       "version_major": 2,
       "version_minor": 0
      },
      "text/plain": [
       "  0%|          | 0/200 [00:00<?, ?it/s]"
      ]
     },
     "metadata": {},
     "output_type": "display_data"
    }
   ],
   "source": [
    "evaluations = []\n",
    "\n",
    "for record in tqdm(sample):\n",
    "    question = record['question']\n",
    "    answer_llm = rag(question) \n",
    "\n",
    "    prompt = prompt2_template.format(\n",
    "        question=question,\n",
    "        answer_llm=answer_llm\n",
    "    )\n",
    "\n",
    "    evaluation = llm(prompt)\n",
    "    evaluation = json.loads(evaluation)\n",
    "\n",
    "    evaluations.append((record, answer_llm, evaluation))"
   ]
  },
  {
   "cell_type": "code",
   "execution_count": 156,
   "id": "fdfa8313",
   "metadata": {},
   "outputs": [
    {
     "data": {
      "text/plain": [
       "({'question': 'Pourquoi est-il nécessaire de faire des choix dans les zones fréquentielles pour chaque instrument',\n",
       "  'category': 'LA POST-PROD',\n",
       "  'chunk': '055c339f-6',\n",
       "  'article': '055c339f'},\n",
       " \"Faire des choix dans les zones fréquentielles pour chaque instrument est essentiel pour garantir un mixage clair et équilibré. Chaque instrument a une plage de fréquences spécifiques qui lui est associée, et lorsque plusieurs instruments sont joués ensemble, leur spectre peut se chevaucher. Cela peut conduire à un phénomène de masquage fréquentiel, où un instrument peut rendre difficile l'audition d'un autre parce que les fréquences qu'ils occupent se chevauchent. En se concentrant sur les bonnes zones fréquentielles pour chaque instrument, on peut créer un espace distinct pour chacun dans le mix, ce qui permet à chaque élément de se distinguer clairement et d'apporter sa contribution individuelle à l'ensemble.\\n\\nPour illustrer, par exemple, un kick (grosse caisse) typique a une fréquence fondamentale entre 40 et 80 Hz, mais sa présence se ressent également dans les hautes fréquences, ce qui lui confère du punch et de l'attaque. Si les fréquences des instruments ne sont pas correctement équilibrées, le mix peut paraître brouillé et manquer de définition.\\n\\nEn résumé, faire des choix dans les zones fréquentielles pour chaque instrument est nécessaire non seulement pour éviter le masquage et pour assurer une bonne séparation des sons, mais aussi pour garantir que l’ensemble du mixage reste harmonieux et cohérent.\\n\\n### Articles recommandés :\\n1. **Comment bien aborder les EQ (2): La perception du timbre**\\n2. **Comment bien aborder les EQ (9): La balance tonale d’un mix**\\n3. **L’intelligence artificielle (IA) dans le studio de production audio (4/6)**\",\n",
       " {'Relevance': 'RELEVANT',\n",
       "  'Explanation': \"The generated answer directly addresses the necessity of making frequency choices for each instrument by explaining the importance of clear and balanced mixing. It discusses how frequency overlap can cause masking, which aligns with the question's focus. The examples provided further illustrate the points made, reinforcing the relevance of the response to the question asked.\"})"
      ]
     },
     "execution_count": 156,
     "metadata": {},
     "output_type": "execute_result"
    }
   ],
   "source": [
    "evaluations[0]"
   ]
  },
  {
   "cell_type": "code",
   "execution_count": 157,
   "id": "dc247327",
   "metadata": {},
   "outputs": [],
   "source": [
    "df_eval = pd.DataFrame(evaluations, columns=['record', 'answer', 'evaluation'])\n",
    "\n",
    "df_eval['id'] = df_eval.record.apply(lambda d: d['chunk'])\n",
    "df_eval['question'] = df_eval.record.apply(lambda d: d['question'])\n",
    "\n",
    "df_eval['relevance'] = df_eval.evaluation.apply(lambda d: d['Relevance'])\n",
    "df_eval['explanation'] = df_eval.evaluation.apply(lambda d: d['Explanation'])\n",
    "\n",
    "del df_eval['record']\n",
    "del df_eval['evaluation']"
   ]
  },
  {
   "cell_type": "markdown",
   "id": "7e9f3147",
   "metadata": {},
   "source": [
    "**Results for chunks_240_20:**"
   ]
  },
  {
   "cell_type": "code",
   "execution_count": 133,
   "id": "1891ce2e",
   "metadata": {},
   "outputs": [
    {
     "data": {
      "text/plain": [
       "relevance\n",
       "RELEVANT           0.980\n",
       "PARTLY_RELEVANT    0.015\n",
       "NON_RELEVANT       0.005\n",
       "Name: proportion, dtype: float64"
      ]
     },
     "execution_count": 133,
     "metadata": {},
     "output_type": "execute_result"
    }
   ],
   "source": [
    "df_eval.relevance.value_counts(normalize=True)"
   ]
  },
  {
   "cell_type": "code",
   "execution_count": 134,
   "id": "187aa368",
   "metadata": {},
   "outputs": [],
   "source": [
    "df_eval.to_csv('../data/rag-eval-gpt-4o-mini-chunks240.csv', index=False)"
   ]
  },
  {
   "cell_type": "code",
   "execution_count": 138,
   "id": "3b4af5d4",
   "metadata": {},
   "outputs": [
    {
     "data": {
      "text/html": [
       "<div>\n",
       "<style scoped>\n",
       "    .dataframe tbody tr th:only-of-type {\n",
       "        vertical-align: middle;\n",
       "    }\n",
       "\n",
       "    .dataframe tbody tr th {\n",
       "        vertical-align: top;\n",
       "    }\n",
       "\n",
       "    .dataframe thead th {\n",
       "        text-align: right;\n",
       "    }\n",
       "</style>\n",
       "<table border=\"1\" class=\"dataframe\">\n",
       "  <thead>\n",
       "    <tr style=\"text-align: right;\">\n",
       "      <th></th>\n",
       "      <th>answer</th>\n",
       "      <th>id</th>\n",
       "      <th>question</th>\n",
       "      <th>relevance</th>\n",
       "      <th>explanation</th>\n",
       "    </tr>\n",
       "  </thead>\n",
       "  <tbody>\n",
       "    <tr>\n",
       "      <th>31</th>\n",
       "      <td>Pour éviter les pièges du make-up gain lors de...</td>\n",
       "      <td>584d0437-3</td>\n",
       "      <td>Quels conseils professionnels peut on suivre p...</td>\n",
       "      <td>NON_RELEVANT</td>\n",
       "      <td>The generated answer discusses techniques rela...</td>\n",
       "    </tr>\n",
       "    <tr>\n",
       "      <th>116</th>\n",
       "      <td>Pour analyser les modifications entre les deux...</td>\n",
       "      <td>584d0437-2</td>\n",
       "      <td>Quelles modifications ai-je apportées entre le...</td>\n",
       "      <td>PARTLY_RELEVANT</td>\n",
       "      <td>The generated answer discusses various paramet...</td>\n",
       "    </tr>\n",
       "    <tr>\n",
       "      <th>139</th>\n",
       "      <td>Dans Ableton, l'effet utilisé pour donner un a...</td>\n",
       "      <td>80af6c63-14</td>\n",
       "      <td>Quel effet est utilisé dans Ableton pour donne...</td>\n",
       "      <td>PARTLY_RELEVANT</td>\n",
       "      <td>The generated answer provides some relevant in...</td>\n",
       "    </tr>\n",
       "    <tr>\n",
       "      <th>149</th>\n",
       "      <td>Pour effectuer un test A/B dans ta session de ...</td>\n",
       "      <td>af597c08-1</td>\n",
       "      <td>Comment effectuer un test A/B dans ma session ...</td>\n",
       "      <td>PARTLY_RELEVANT</td>\n",
       "      <td>The generated answer provides steps related to...</td>\n",
       "    </tr>\n",
       "  </tbody>\n",
       "</table>\n",
       "</div>"
      ],
      "text/plain": [
       "                                                answer           id  \\\n",
       "31   Pour éviter les pièges du make-up gain lors de...   584d0437-3   \n",
       "116  Pour analyser les modifications entre les deux...   584d0437-2   \n",
       "139  Dans Ableton, l'effet utilisé pour donner un a...  80af6c63-14   \n",
       "149  Pour effectuer un test A/B dans ta session de ...   af597c08-1   \n",
       "\n",
       "                                              question        relevance  \\\n",
       "31   Quels conseils professionnels peut on suivre p...     NON_RELEVANT   \n",
       "116  Quelles modifications ai-je apportées entre le...  PARTLY_RELEVANT   \n",
       "139  Quel effet est utilisé dans Ableton pour donne...  PARTLY_RELEVANT   \n",
       "149  Comment effectuer un test A/B dans ma session ...  PARTLY_RELEVANT   \n",
       "\n",
       "                                           explanation  \n",
       "31   The generated answer discusses techniques rela...  \n",
       "116  The generated answer discusses various paramet...  \n",
       "139  The generated answer provides some relevant in...  \n",
       "149  The generated answer provides steps related to...  "
      ]
     },
     "execution_count": 138,
     "metadata": {},
     "output_type": "execute_result"
    }
   ],
   "source": [
    "df_eval[(df_eval.relevance == 'PARTLY_RELEVANT') | (df_eval.relevance == 'NON_RELEVANT')]"
   ]
  },
  {
   "cell_type": "code",
   "execution_count": 171,
   "id": "18342617",
   "metadata": {},
   "outputs": [
    {
     "data": {
      "text/plain": [
       "'The generated answer discusses techniques related to audio production and the use of compressors, which are not relevant to the question about professional advice to avoid pitfalls in makeup gain, likely related to cosmetics or makeup techniques. The content does not address the context of makeup applications or any professional tips relevant to that area.'"
      ]
     },
     "execution_count": 171,
     "metadata": {},
     "output_type": "execute_result"
    }
   ],
   "source": [
    "df240 = pd.read_csv('../data/rag-eval-gpt-4o-mini-chunks240.csv')\n",
    "df240.iloc[31]['explanation']"
   ]
  },
  {
   "cell_type": "markdown",
   "id": "fcae1610",
   "metadata": {},
   "source": [
    "**Results for chunks_300_50:**"
   ]
  },
  {
   "cell_type": "code",
   "execution_count": 158,
   "id": "577d53e5",
   "metadata": {},
   "outputs": [
    {
     "data": {
      "text/plain": [
       "relevance\n",
       "RELEVANT           0.985\n",
       "PARTLY_RELEVANT    0.015\n",
       "Name: proportion, dtype: float64"
      ]
     },
     "execution_count": 158,
     "metadata": {},
     "output_type": "execute_result"
    }
   ],
   "source": [
    "df_eval.relevance.value_counts(normalize=True)"
   ]
  },
  {
   "cell_type": "code",
   "execution_count": 159,
   "id": "05b3c8dc",
   "metadata": {},
   "outputs": [],
   "source": [
    "df_eval.to_csv('../data/rag-eval-gpt-4o-mini-chunks300.csv', index=False)"
   ]
  }
 ],
 "metadata": {
  "kernelspec": {
   "display_name": "Python 3 (ipykernel)",
   "language": "python",
   "name": "python3"
  },
  "language_info": {
   "codemirror_mode": {
    "name": "ipython",
    "version": 3
   },
   "file_extension": ".py",
   "mimetype": "text/x-python",
   "name": "python",
   "nbconvert_exporter": "python",
   "pygments_lexer": "ipython3",
   "version": "3.12.2"
  }
 },
 "nbformat": 4,
 "nbformat_minor": 5
}
