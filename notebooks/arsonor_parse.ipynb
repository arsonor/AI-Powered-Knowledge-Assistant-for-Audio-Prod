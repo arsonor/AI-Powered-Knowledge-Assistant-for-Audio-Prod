{
 "cells": [
  {
   "cell_type": "code",
   "execution_count": 29,
   "metadata": {},
   "outputs": [],
   "source": [
    "import requests\n",
    "from bs4 import BeautifulSoup\n",
    "import re\n",
    "import json\n",
    "from tqdm.auto import tqdm"
   ]
  },
  {
   "cell_type": "code",
   "execution_count": 38,
   "metadata": {},
   "outputs": [],
   "source": [
    "# Fetches and cleans the content of an article from the given URL\n",
    "def extract_article_info(article_url):\n",
    "    response = requests.get(article_url)\n",
    "    # Check if the request was successful\n",
    "    if response.status_code != 200:\n",
    "        print(f\"Failed to retrieve the article. Status code: {response.status_code}\")\n",
    "        return None\n",
    "    \n",
    "    soup = BeautifulSoup(response.content, 'html.parser')\n",
    "\n",
    "    # Find the main content div\n",
    "    content_div = soup.find('div', class_='entry-content')\n",
    "    # If the content div is not found, return None\n",
    "    if not content_div:\n",
    "        print(\"No content found with the class 'entry-content'.\")\n",
    "        return None\n",
    "\n",
    "    # Remove <div id=\"ez-toc-container\"...>\n",
    "    toc_container = content_div.find('div', id='ez-toc-container')\n",
    "    if toc_container:\n",
    "        toc_container.decompose()\n",
    "\n",
    "    # Remove all <div> elements where the class contains \"heateor\"\n",
    "    for heateor_div in content_div.find_all('div', class_=lambda x: x and 'heateor' in x):\n",
    "        heateor_div.decompose()\n",
    "\n",
    "    # Remove the specific <div class=\"elementor-column elementor-col-33...\"> within the <div class=\"elementor-container elementor-column-gap-default\">\n",
    "    for container_div in content_div.find_all('div', class_=lambda x: x and 'elementor-column elementor-col-33' in x):\n",
    "        container_div.decompose()\n",
    "\n",
    "    # Extract the cleaned text content\n",
    "    content = content_div.get_text(separator=\"\\n\").strip()\n",
    "    content = re.sub(r'\\n+', ' ', content)\n",
    "    content = content.replace('\\t', '')\n",
    "    content = content.replace(u'\\xa0', ' ')\n",
    "    content = content.strip()\n",
    "    content = re.sub(r'\\s+', ' ', content)\n",
    "    \n",
    "    cleaned_content = content\n",
    "    \n",
    "    # Find the footer where the tags are located\n",
    "    footer = soup.find('footer', class_='entry-footer')\n",
    "    tags = []\n",
    "    if footer:\n",
    "        # Extract tags from the second 'span' inside 'footer'\n",
    "        tags_span = footer.find_all('span', class_='entry-meta')\n",
    "        if len(tags_span) > 1:\n",
    "            # Second 'span' should contain the tags\n",
    "            tags_links = tags_span[1].find_all('a', rel='tag')\n",
    "            tags = [tag.get_text() for tag in tags_links]\n",
    "\n",
    "    # Return article info as a dictionary\n",
    "    article_info = {\n",
    "        'text': cleaned_content,\n",
    "        'tags': tags\n",
    "    }\n",
    "\n",
    "    return article_info"
   ]
  },
  {
   "cell_type": "code",
   "execution_count": 40,
   "metadata": {},
   "outputs": [
    {
     "data": {
      "text/plain": [
       "['écoute critique',\n",
       " 'espace sonore',\n",
       " 'mono',\n",
       " 'pan',\n",
       " 'profondeur',\n",
       " 'psycho-acoustique',\n",
       " 'reverb',\n",
       " 'stéréo']"
      ]
     },
     "execution_count": 40,
     "metadata": {},
     "output_type": "execute_result"
    }
   ],
   "source": [
    "extract_article_info(\"https://arsonor.com/comment-eduquer-loreille-a-lart-du-mixage-part-3/\")['tags']"
   ]
  },
  {
   "cell_type": "code",
   "execution_count": 11,
   "metadata": {},
   "outputs": [],
   "source": [
    "def extract_articles_from_sitemap(sitemap_url):\n",
    "    response = requests.get(sitemap_url)\n",
    "\n",
    "    if response.status_code != 200:\n",
    "        print(f\"Failed to retrieve the sitemap. Status code: {response.status_code}\")\n",
    "        return None\n",
    "\n",
    "    soup = BeautifulSoup(response.content, 'html.parser')\n",
    "\n",
    "    # List to store the extracted articles\n",
    "    articles = []\n",
    "\n",
    "    # Find all categories (strong with class 'wsp-category-title') and their corresponding articles\n",
    "    for category_section in soup.find_all('ul', class_='wsp-posts-list'):\n",
    "        category_title_tag = category_section.find_previous('strong', class_='wsp-category-title')\n",
    "        \n",
    "        if category_title_tag:\n",
    "            category_link = category_title_tag.find('a')\n",
    "            if category_link:\n",
    "                category_name = category_link.get_text(strip=True)\n",
    "            else:\n",
    "                continue\n",
    "        else:\n",
    "            continue\n",
    "\n",
    "        # Now find the articles under this category\n",
    "        article_items = category_section.find_all('li', class_='wsp-post')\n",
    "        \n",
    "        for article_item in article_items:\n",
    "            article_link = article_item.find('a')\n",
    "            if article_link:\n",
    "                article_url = article_link['href']\n",
    "                article_title = article_link.get_text(strip=True)\n",
    "                \n",
    "                # Add the article details to the list\n",
    "                articles.append({\n",
    "                    'category': category_name,\n",
    "                    'title': article_title,\n",
    "                    'url': article_url\n",
    "                })\n",
    "\n",
    "    return articles\n"
   ]
  },
  {
   "cell_type": "code",
   "execution_count": 41,
   "metadata": {},
   "outputs": [],
   "source": [
    "def create_json_from_sitemap(sitemap_url, output_file):\n",
    " \n",
    "    articles = extract_articles_from_sitemap(sitemap_url)\n",
    "\n",
    "    if not articles:\n",
    "        print(\"No articles found.\")\n",
    "        return\n",
    "\n",
    "    articles_data = []\n",
    "\n",
    "    for article in tqdm(articles):\n",
    "        article_content = extract_article_info(article['url'])\n",
    "\n",
    "        if article_content:\n",
    "            articles_data.append({\n",
    "                'title': article['title'],\n",
    "                'category': article['category'],\n",
    "                'text': article_content['text'],\n",
    "                'tags': article_content['tags']\n",
    "            })\n",
    "        else:\n",
    "            print(f\"Skipping article: {article['title']} due to missing content.\")\n",
    "\n",
    "    # Save the result to a JSON file\n",
    "    with open(output_file, 'w', encoding='utf-8') as json_file:\n",
    "        json.dump(articles_data, json_file, ensure_ascii=False, indent=4)\n",
    "\n",
    "    print(f\"Data saved to {output_file}\")"
   ]
  },
  {
   "cell_type": "code",
   "execution_count": 42,
   "metadata": {},
   "outputs": [
    {
     "name": "stderr",
     "output_type": "stream",
     "text": [
      "100%|██████████| 58/58 [01:39<00:00,  1.72s/it]\n"
     ]
    },
    {
     "name": "stdout",
     "output_type": "stream",
     "text": [
      "Data saved to arsonor_data.json\n"
     ]
    }
   ],
   "source": [
    "sitemap_url = 'https://arsonor.com/plan-du-site/'\n",
    "output_file = 'arsonor_data.json'\n",
    "\n",
    "create_json_from_sitemap(sitemap_url, output_file)"
   ]
  },
  {
   "cell_type": "code",
   "execution_count": 43,
   "metadata": {},
   "outputs": [],
   "source": [
    "with open('arsonor_data.json', 'r', encoding='utf-8') as file:\n",
    "    documents = json.load(file)"
   ]
  },
  {
   "cell_type": "code",
   "execution_count": 83,
   "metadata": {},
   "outputs": [
    {
     "data": {
      "text/plain": [
       "{'title': 'L’intelligence artificielle (IA) dans le studio de production audio (6/6)',\n",
       " 'category': 'LA POST-PROD',\n",
       " 'text': \"Suite et fin du tour d’horizon des logiciels et plug-ins IA dans la post-production audio et leur impact sur l’activité de ce secteur. Quel est l’impact de l’IA à venir dans la post-production audio et musicale? Les nouveaux outils et plug-ins audio sur le marché montrent clairement cette tendance: des interfaces épurées pour une utilisation simplifiée à l’extrême, et en même temps une capacité à résoudre efficacement des « problèmes » audio complexes. Ainsi, tout un chacun est de plus en plus capable d’obtenir un résultat audio professionnel sans avoir forcément fait d’études en ingénierie du son ou même sans une énorme expérience. En fait, cette tendance ne date pas d’hier. L’ère du home-studio , du « Do It Yourself » et des outils audio pro démocratisés au plus grand nombre d’amateurs en herbe a fait son chemin. La technologie IA ne fait qu’accélérer le processus. Les effets actuels de l’IA dans le secteur de la post-production audio On peut y distinguer deux points de vue: – celui du créatif/artiste plus ou moins amateur, cherchant une certaine autonomie dans son travail jusqu’à la sortie finale de ses oeuvres; – celui du professionnel du secteur, producteur ou ingénieur mixeur/mastering , au service de ces mêmes artistes. Une aubaine pour les artistes et créateurs Vous êtes musicien, chanteur, compositeur ou beatmaker? Dans ce cas, les prochaines évolutions IA sont de véritables opportunités pour vous, si vous êtes ambitieux! Avec ces nouveaux outils d’assistance IA en post-production, vous pouvez résoudre les problèmes de base de vos enregistrements et mixages en toute autonomie. Même un débutant peut rapidement démarrer et améliorer facilement ses prods grâce à des outils d’assistance automatique en composition et sound design . Ces derniers (dont je n’ai pas parlé dans cette série d’articles) sortent régulièrement sur le marché. C’est comme mettre vos productions ou mix entre les mains d’un bon ingénieur du son ultra-rapide : il prendra en charge les techniques et les tâches répétitives chronophages pour sortir quelque chose de propre. Néanmoins, cela n’exonère pas d’avoir un minimum de compétences dans les process audio et le sound design. Ne serait-ce que pour communiquer précisément vos attentes avec un professionnel. Je conseille donc de ne pas trop considérer ces outils comme magique . Vous ferez un grand pas dans votre autonomie en restant toujours une personne bien informée. Le secteur professionnel entre incertitude et mutation constante Si vous êtes un professionnel, vous vous posez forcément des questions sur l’avenir dans ce secteur. Oui les métiers du studio de production ne sont plus les mêmes qu’il y a 10 ou 20 ans… et ne seront plus les mêmes qu’aujourd’hui dans 10 ans! Il n’y a pas d’autre choix que d’ embrasser le changement et renouveler sans cesse son offre de service . Cela peut se matérialiser en une collaboration encore plus étroite avec les artistes, voire même comme un véritable partenaire créatif. Mais aussi, comme on l’a vu avec le projet Cloudbounce , la collaboration avec l’IA elle-même aidera à son propre développement. Bien sûr, les ingénieurs du son aiment pouvoir contrôler totalement les sons avec lesquels ils travaillent. Leur bonne oreille et leur expérience leur permet de faire des ajustements fins et précis sans se fier à ce qu’une machine ou un plugin pourrait leur dire. Néanmoins, il y aura toujours des tâches et des processus qui prennent beaucoup plus de temps, et qui sont même ennuyeux. Un plugin IA nettoiera une piste audio en un temps nettement inférieur à celui nécessaire pour le faire manuellement. Et quand on connaît parfois la pression sur la charge de travail et les délais, l’IA est une opportunité qu’il ne faut pas prendre à la légère. Cela rend la vie plus facile et permet de se concentrer sur d’autres aspects qui nécessitent plus de créativité . Impact de l’IA dans les productions audio sur le long terme Les outils présentés dans cette série d’articles ne sont qu’un aperçu des précurseurs. Et beaucoup d’autres outils utilisant l’intelligence artificielle sont à venir. Ou sont déjà en ce moment-même sur le marché à l’heure où j’écris ces lignes. La prédominance de l’IA dans les flux de travail audio ne prendra de l’ampleur que dans les mois et les années à venir. On voit dès aujourd’hui les moyens mis dans l’IA par les GAFAM ainsi que les divers services de streaming. Si bien que nous ne faisons qu’effleurer la surface de ce qui nous attend. Vers une collaboration avec l’IA pour un service personnalisé En effet, la tendance est de mettre en oeuvre des algorithmes d’apprentissage automatique avancé qui ne sont pas seulement utiles dans un but précis, mais qui «collaborent» activement pour atteindre cet objectif avec des méthodes que nous ne pouvons qu’imaginer aujourd’hui. Par exemple, nous passerons d’une manipulation quantitative générique de données numériques à quelque chose à fort caractère qualitatif et personnalisé pour chaque utilisateur individuel (SmartSpeaker, Generative Music, etc…) Outils IA par Google Magenta. Exemples d’applications futures: si votre rêve est de travailler avec Carlos Santana mais que vous n’avez pas les moyens de le réserver pour une session en studio, vous pourriez nourrir l'IA de toute sa discographie et espérer que cela génère des riffs de guitare qui lui ressemblent. Ou encore, jouer de la musique avec des paroles 100% générées par les outils IA de traitement du langage naturel (Natural Language Processing NLP)… Vers un profil unique de producteur audio Quoi qu’il en soit, il y a fort à parier qu’il n’y aura plus de distinction à faire entre amateur ou professionnel, ingénieur mixeur ou artiste beatmaker . Nous nous dirigeons vers un seul profil d’artiste, producteur/créateur audio ou « sound designer » appelons-le comme on veut. Ce dernier pourra se concentrer à 100% sur sa créativité et la mise en valeur de sa personnalité alors que l’IA prendra totalement en charge la technique pure. Si bien que des compétences ou une longue expérience humaine en ingénierie du son ou MAO ne seront plus nécessaires? Il est clair que les créations musicales plus « fonctionnelles », qui répondent à des critères très précis (comme le domaine des « library music » ) seront de plus en plus remplacées par des IA. Par contre, de là à dire que l’IA finisse également par remplacer l’alchimie et la créativité qui découlent du relationnel et la collaboration entre deux humains… c’est encore de la science-fiction et une toute autre histoire qui commence…\",\n",
       " 'tags': ['collaboration IA',\n",
       "  'intelligence artificielle',\n",
       "  'producteur audio',\n",
       "  'production musicale']}"
      ]
     },
     "execution_count": 83,
     "metadata": {},
     "output_type": "execute_result"
    }
   ],
   "source": [
    "documents[0]\n",
    "# print(json.dumps(documents, indent=4, ensure_ascii=False))"
   ]
  }
 ],
 "metadata": {
  "kernelspec": {
   "display_name": "Python 3",
   "language": "python",
   "name": "python3"
  },
  "language_info": {
   "codemirror_mode": {
    "name": "ipython",
    "version": 3
   },
   "file_extension": ".py",
   "mimetype": "text/x-python",
   "name": "python",
   "nbconvert_exporter": "python",
   "pygments_lexer": "ipython3",
   "version": "3.12.2"
  }
 },
 "nbformat": 4,
 "nbformat_minor": 2
}
