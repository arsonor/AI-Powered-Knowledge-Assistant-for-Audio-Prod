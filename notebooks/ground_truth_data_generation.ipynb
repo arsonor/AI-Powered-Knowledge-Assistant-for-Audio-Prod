{
 "cells": [
  {
   "cell_type": "code",
   "execution_count": 1,
   "id": "f9fd7173-6b44-40d3-9677-a091e414e9de",
   "metadata": {},
   "outputs": [],
   "source": [
    "import pandas as pd\n",
    "import json"
   ]
  },
  {
   "cell_type": "code",
   "execution_count": 40,
   "id": "2be179b5-f2c3-4d28-bf4f-2ff97e5d3bd1",
   "metadata": {},
   "outputs": [],
   "source": [
    "with open('../data/arsonor_chunks_350_30.json', 'r', encoding='utf-8') as file:\n",
    "    documents = json.load(file)"
   ]
  },
  {
   "cell_type": "code",
   "execution_count": 41,
   "id": "22141924-3e9f-4e00-8e57-1f1d071c992a",
   "metadata": {},
   "outputs": [
    {
     "data": {
      "text/plain": [
       "{'article_id': '9ca72a61',\n",
       " 'url': 'https://arsonor.com/principes-de-fonctionnement-dun-synthetiseur-8-modulations-courantes/',\n",
       " 'title': 'Principes de fonctionnement d’un synthétiseur (8): Modulations courantes',\n",
       " 'category': 'LE SOUND DESIGN',\n",
       " 'tags': 'cut-off, enveloppe ADSR, filtres, key track, LFO, modwheel, pitch, pitch bend, vélocité',\n",
       " 'chunk_id': '9ca72a61-4',\n",
       " 'chunk_text': \"Modulation secondaire: → Sur le decay de l’enveloppe d’amplitude Permet de contrôler la longueur de notes percussives le long du clavier. Les notes plus aiguës ont un decay plus court que les notes plus graves. → Sur le LFO rate Cela peut être parfois judicieux que la hauteur de note influe sur la vitesse du LFO (vitesse de variation qui augmente avec les notes aiguës). La Vélocité Avec le KEY, la vélocité est aussi un modulateur très important dans l’objectif de s’approcher le plus possible de la sonorité et du jeu d’instruments réels. C’est un paramètre clé si tu veux « humaniser » le jeu de ton instrument. → Sur l’amplitude (volume de sortie) Il paraît logique que les notes jouées avec plus d’énergie (je rappelle que la vélocité s’apparente à la vitesse d’enfoncement de la touche d’un clavier) soient entendues plus fortes en volume. Attention car même si cette fonction paraît évidente, il faut activer la modulation de la vélocité sur le volume dans la plupart des synthés ou samplers si on veut qu’elle fasse effet. Réglage de l'action de la vélocité sur l'amplitude. On y trouve également des réglages de l'influence du Key et de la vélocité sur les paramètres temporels de l'enveloppe d'amplitude. → Sur le cut-off du filtre Dans la même idée que sur l’amplitude, la vélocité appliquée au cut-off a pour résultat logique de rendre les notes plus accentuées avec plus de brillance (moins filtrées). Dans un sampler: → Sur la sélection du sample (Sample Select) Comme dit plus haut avec le KEY, une autre fonction de base du sampler est de jouer différents échantillons qui ont été enregistrés à différentes vélocités (force de frappe, de frottement ou de souffle suivant l’instrument). Les échantillons sont alors ajoutés dans le sampler de manière verticale sur la même position de note correspondant à leur hauteur. Mais la différenciation se fait cette fois par la vélocité. → Sur le point de départ du sample (Sample Start) En appuyant plus fort sur la touche, on fait jouer un échantillon avec plus d’attaque que si l’on appuie doucement.\"}"
      ]
     },
     "execution_count": 41,
     "metadata": {},
     "output_type": "execute_result"
    }
   ],
   "source": [
    "documents[372]"
   ]
  },
  {
   "cell_type": "markdown",
   "id": "6019d059-dad4-4856-b899-b411702b00d9",
   "metadata": {},
   "source": [
    "## Generate Questions for each doc:"
   ]
  },
  {
   "cell_type": "code",
   "execution_count": 44,
   "id": "dec0a7c3-e6f7-492c-9a1e-8992766780ef",
   "metadata": {},
   "outputs": [],
   "source": [
    "prompt_template = \"\"\"\n",
    "You emulate a beginner person in the domain of sound engineering and sound design.\n",
    "Formulate 5 questions for which you will find the answer in a provided record.\n",
    "These questions are in french and are questions you might generally ask in your learning path to computer music, sound design and audio post-production.\n",
    "Do not refer to the document record when you ask the question.\n",
    "Do not use any special characters or question mark to formulate the questions.\n",
    "These questions should be complete and not too short. Use as fewer words as possible from the record. \n",
    "\n",
    "The record:\n",
    "\n",
    "category: {category}\n",
    "title: {title}\n",
    "keywords: {tags}\n",
    "answer: {chunk_text}\n",
    "\n",
    "Provide the output in parsable JSON without using code blocks:\n",
    "\n",
    "[\"question1\", \"question2\", ..., \"question5\"]\n",
    "\"\"\".strip()"
   ]
  },
  {
   "cell_type": "code",
   "execution_count": 45,
   "id": "46c6d598-110f-45f5-ae3f-9fbf26b8d088",
   "metadata": {},
   "outputs": [
    {
     "name": "stdout",
     "output_type": "stream",
     "text": [
      "You emulate a beginner person in the domain of sound engineering and sound design.\n",
      "Formulate 5 questions for which you will find the answer in a provided record.\n",
      "These questions are in french and are questions you might generally ask in your learning path to computer music, sound design and audio post-production.\n",
      "Do not refer to the document record when you ask the question.\n",
      "Do not use any special characters or question mark to formulate the questions.\n",
      "These questions should be complete and not too short. Use as fewer words as possible from the record. \n",
      "\n",
      "The record:\n",
      "\n",
      "category: LE HOME STUDIO\n",
      "title: La gestion des niveaux sonores (1): les mesures en décibels\n",
      "keywords: dB SPL, dBFS, dBm, dBu, dBV, headroom, intensité, pression, puissance, Vu-mètre\n",
      "answer: Exemple de Vu-mètre sous forme de plug-in (ici celui de Waves) Cette visualisation du volume sonore est tellement pratique que l’on peut aujourd’hui retrouver ce genre d’analyseur sous forme de plugin! L’image ci-dessous représente ce volume « moyen » (trait noir) en comparaison avec le signal (en gris). Bien entendu, j’irai plus en détail su ce que signifie ce niveau moyen dans un article ultérieur sur la dynamique du son et les types de mesure . Sur le Vu-mètre, l’unité de mesure est le VU (« Volume Unit ») . Un intervalle de 1 VU = 1 dB . Il est établi que le 0 VU correspond généralement au niveau nominal électrique +4 dBu. Mais en terme de volume perçu, on est libre de choisir le niveau moyen en dB (le niveau « 0 » nominal) auquel correspond ce 0 VU. En effet, le niveau moyen de chaque piste est choisi en fonction de son caractère plus ou moins dynamique . Par exemple, une nappe de synthé est peu dynamique et son niveau moyen est donc à 0 VU, voire au-dessus. Par contre, pour une caisse claire, le signal est très dynamique et le niveau moyen sera choisi bien en-dessous du 0 VU. C’est de là que vient le terme « headroom » . Il s’agit de l’écart entre ce niveau moyen nominal et le maximum avant écrêtage du signal. Il faut savoir que dans tout appareil analogique, cette zone est mal définie (4 dB, 10 dB, 20 dB?). Tant que l’on a pas atteint le maximum, le signal est peu distordu (« soft clipping »). Ce niveau moyen choisi est donc un compromis à faire entre le bruit de fond et la saturation du signal . Le dB numérique: dBFS (décibel \"Full Scale\") Voyons maintenant le cas où le signal électrique passe dans un convertisseur A/N pour être transformé en un signal numérique pouvant être lu par l’ordinateur. Les tensions en volts sont alors converties en nombres discrets (codages de bits en 0 ou 1). En numérique, il n’y a plus de référence physique.\n",
      "\n",
      "Provide the output in parsable JSON without using code blocks:\n",
      "\n",
      "[\"question1\", \"question2\", ..., \"question5\"]\n"
     ]
    }
   ],
   "source": [
    "doc = documents[308]\n",
    "prompt = prompt_template.format(**doc)\n",
    "print (prompt)"
   ]
  },
  {
   "cell_type": "markdown",
   "id": "3a6ca471-3895-4c12-97ee-014f30d4d477",
   "metadata": {},
   "source": [
    "### test on this prompt"
   ]
  },
  {
   "cell_type": "code",
   "execution_count": 18,
   "id": "82b90e38-3034-412a-9675-89ffea158380",
   "metadata": {},
   "outputs": [],
   "source": [
    "from openai import OpenAI\n",
    "client = OpenAI()"
   ]
  },
  {
   "cell_type": "code",
   "execution_count": 19,
   "id": "728da042-b48d-45c9-90dd-245f22a211d6",
   "metadata": {},
   "outputs": [],
   "source": [
    "def llm(prompt):\n",
    "    response = client.chat.completions.create(\n",
    "        model='gpt-4o-mini',\n",
    "        messages=[{\"role\": \"user\", \"content\": prompt}]\n",
    "    )\n",
    "    \n",
    "    return response.choices[0].message.content"
   ]
  },
  {
   "cell_type": "code",
   "execution_count": 46,
   "id": "d8b109dd-7c74-4562-a798-fb4e48a81d19",
   "metadata": {},
   "outputs": [
    {
     "data": {
      "text/plain": [
       "['Quelles sont les différentes unités de mesure en son et leur signification',\n",
       " 'Comment fonctionne un Vu-mètre et quelle est son utilité dans un enregistrement',\n",
       " \"Qu'est-ce que le headroom et pourquoi est-il important dans le mixage audio\",\n",
       " 'Comment le niveau moyen est-il déterminé pour différents types de signaux sonores',\n",
       " 'Quelle est la différence entre le dB analogique et le dB numérique dans les enregistrements audio']"
      ]
     },
     "execution_count": 46,
     "metadata": {},
     "output_type": "execute_result"
    }
   ],
   "source": [
    "questions = llm(prompt)\n",
    "json.loads(questions)"
   ]
  },
  {
   "cell_type": "code",
   "execution_count": 23,
   "id": "bf43e8a6-d5e5-475c-a550-4ce0d72a4dcb",
   "metadata": {},
   "outputs": [],
   "source": [
    "def generate_questions(doc):\n",
    "    prompt = prompt_template.format(**doc)\n",
    "\n",
    "    response = client.chat.completions.create(\n",
    "        model='gpt-4o-mini',\n",
    "        messages=[{\"role\": \"user\", \"content\": prompt}]\n",
    "    )\n",
    "\n",
    "    json_response = response.choices[0].message.content\n",
    "    return json_response"
   ]
  },
  {
   "cell_type": "code",
   "execution_count": 24,
   "id": "334fd82f-3706-403f-9ee3-499ac98ee9f1",
   "metadata": {},
   "outputs": [],
   "source": [
    "import time\n",
    "\n",
    "MAX_RETRIES = 3\n",
    "\n",
    "def generate_questions_with_retry(doc):\n",
    "    for attempt in range(MAX_RETRIES):\n",
    "        try:\n",
    "            return generate_questions(doc)\n",
    "        except Exception as e:\n",
    "            print(f\"Attempt {attempt + 1}/{MAX_RETRIES} failed for doc_id {doc['chunk_id']}. Retrying...\")\n",
    "            time.sleep(1)  # Optional: wait before retrying\n",
    "    return None"
   ]
  },
  {
   "cell_type": "code",
   "execution_count": 47,
   "id": "c4985e5f-b920-4d8c-882f-2207ef3d87b9",
   "metadata": {},
   "outputs": [
    {
     "data": {
      "application/vnd.jupyter.widget-view+json": {
       "model_id": "390c6801e506402eaa2a51cd4c7aa15a",
       "version_major": 2,
       "version_minor": 0
      },
      "text/plain": [
       "  0%|          | 0/443 [00:00<?, ?it/s]"
      ]
     },
     "metadata": {},
     "output_type": "display_data"
    }
   ],
   "source": [
    "from tqdm.auto import tqdm\n",
    "results = {}\n",
    "\n",
    "for doc in tqdm(documents):\n",
    "    doc_id = doc['chunk_id']\n",
    "    \n",
    "    # Skip already processed documents\n",
    "    if doc_id in results:\n",
    "        continue\n",
    "\n",
    "    try:\n",
    "        questions_raw = generate_questions_with_retry(doc)\n",
    "        \n",
    "        # Try to parse the response into JSON\n",
    "        questions = json.loads(questions_raw)\n",
    "        results[doc_id] = questions\n",
    "\n",
    "    except json.JSONDecodeError as e:\n",
    "        # Handle JSON decoding issues and log the problematic document\n",
    "        print(f\"JSONDecodeError for doc_id {doc_id}: {e}\")\n",
    "        print(f\"Problematic response: {questions_raw[:500]}\")  # Print a portion of the response\n",
    "        continue\n",
    "\n",
    "    except Exception as e:\n",
    "        # Handle any other unexpected errors\n",
    "        print(f\"Unexpected error for doc_id {doc_id}: {e}\")\n",
    "        continue"
   ]
  },
  {
   "cell_type": "code",
   "execution_count": 48,
   "id": "de2ca3b2-c7f7-452b-bf8b-c4177eef2951",
   "metadata": {},
   "outputs": [],
   "source": [
    "final_results = []\n",
    "\n",
    "for doc_id, questions in results.items():\n",
    "    for q in questions:\n",
    "        final_results.append((doc_id, q))"
   ]
  },
  {
   "cell_type": "code",
   "execution_count": 49,
   "id": "3448b1b5-ac81-4f00-9ac3-acae62151d47",
   "metadata": {},
   "outputs": [
    {
     "data": {
      "text/plain": [
       "('aa81eb34-2',\n",
       " \"Quelles sont les différentes parties à prendre en compte avant d'utiliser un compresseur audio\")"
      ]
     },
     "execution_count": 49,
     "metadata": {},
     "output_type": "execute_result"
    }
   ],
   "source": [
    "final_results[282]"
   ]
  },
  {
   "cell_type": "markdown",
   "id": "7fa44958-b1e8-4211-a3f2-889b87443fab",
   "metadata": {},
   "source": [
    "## Create a CSV file of the results questions:"
   ]
  },
  {
   "cell_type": "code",
   "execution_count": 50,
   "id": "a402691e-286b-4612-87e7-8402a6faa37c",
   "metadata": {},
   "outputs": [],
   "source": [
    "doc_index = {d['chunk_id']: d for d in documents}"
   ]
  },
  {
   "cell_type": "code",
   "execution_count": 51,
   "id": "f5d18438-904b-459c-8707-afbfed528257",
   "metadata": {},
   "outputs": [],
   "source": [
    "final_results = []\n",
    "\n",
    "for doc_id, questions in results.items():\n",
    "    category = doc_index[doc_id]['category']\n",
    "    article_id = doc_index[doc_id]['article_id']\n",
    "    for q in questions:\n",
    "        final_results.append((q, category, doc_id, article_id))"
   ]
  },
  {
   "cell_type": "code",
   "execution_count": 52,
   "id": "10b1731d-7a3a-4a50-a321-2386990c948b",
   "metadata": {},
   "outputs": [],
   "source": [
    "df = pd.DataFrame(final_results, columns=['question', 'category', 'chunk', 'article'])"
   ]
  },
  {
   "cell_type": "code",
   "execution_count": 53,
   "id": "a9a84c97-89fa-47e0-81cd-3a0810bf7cb8",
   "metadata": {},
   "outputs": [
    {
     "data": {
      "text/html": [
       "<div>\n",
       "<style scoped>\n",
       "    .dataframe tbody tr th:only-of-type {\n",
       "        vertical-align: middle;\n",
       "    }\n",
       "\n",
       "    .dataframe tbody tr th {\n",
       "        vertical-align: top;\n",
       "    }\n",
       "\n",
       "    .dataframe thead th {\n",
       "        text-align: right;\n",
       "    }\n",
       "</style>\n",
       "<table border=\"1\" class=\"dataframe\">\n",
       "  <thead>\n",
       "    <tr style=\"text-align: right;\">\n",
       "      <th></th>\n",
       "      <th>question</th>\n",
       "      <th>category</th>\n",
       "      <th>chunk</th>\n",
       "      <th>article</th>\n",
       "    </tr>\n",
       "  </thead>\n",
       "  <tbody>\n",
       "    <tr>\n",
       "      <th>0</th>\n",
       "      <td>Quels sont les avantages de l'utilisation de l...</td>\n",
       "      <td>LA POST-PROD</td>\n",
       "      <td>4615db39-1</td>\n",
       "      <td>4615db39</td>\n",
       "    </tr>\n",
       "    <tr>\n",
       "      <th>1</th>\n",
       "      <td>Comment l'IA influence-t-elle le rôle des prod...</td>\n",
       "      <td>LA POST-PROD</td>\n",
       "      <td>4615db39-1</td>\n",
       "      <td>4615db39</td>\n",
       "    </tr>\n",
       "    <tr>\n",
       "      <th>2</th>\n",
       "      <td>Quelles compétences sont nécessaires pour util...</td>\n",
       "      <td>LA POST-PROD</td>\n",
       "      <td>4615db39-1</td>\n",
       "      <td>4615db39</td>\n",
       "    </tr>\n",
       "    <tr>\n",
       "      <th>3</th>\n",
       "      <td>Comment l'essor des home-studios a-t-il changé...</td>\n",
       "      <td>LA POST-PROD</td>\n",
       "      <td>4615db39-1</td>\n",
       "      <td>4615db39</td>\n",
       "    </tr>\n",
       "    <tr>\n",
       "      <th>4</th>\n",
       "      <td>Quels types de problèmes audio l'intelligence ...</td>\n",
       "      <td>LA POST-PROD</td>\n",
       "      <td>4615db39-1</td>\n",
       "      <td>4615db39</td>\n",
       "    </tr>\n",
       "    <tr>\n",
       "      <th>...</th>\n",
       "      <td>...</td>\n",
       "      <td>...</td>\n",
       "      <td>...</td>\n",
       "      <td>...</td>\n",
       "    </tr>\n",
       "    <tr>\n",
       "      <th>2210</th>\n",
       "      <td>Quels sont les éléments importants à considére...</td>\n",
       "      <td>LE SOUND DESIGN</td>\n",
       "      <td>f0da0852-14</td>\n",
       "      <td>f0da0852</td>\n",
       "    </tr>\n",
       "    <tr>\n",
       "      <th>2211</th>\n",
       "      <td>Comment puis-je maîtriser ma DAW avant de me c...</td>\n",
       "      <td>LE SOUND DESIGN</td>\n",
       "      <td>f0da0852-14</td>\n",
       "      <td>f0da0852</td>\n",
       "    </tr>\n",
       "    <tr>\n",
       "      <th>2212</th>\n",
       "      <td>Quels sont les avantages d'utiliser les plugin...</td>\n",
       "      <td>LE SOUND DESIGN</td>\n",
       "      <td>f0da0852-14</td>\n",
       "      <td>f0da0852</td>\n",
       "    </tr>\n",
       "    <tr>\n",
       "      <th>2213</th>\n",
       "      <td>Pourquoi est-il essentiel de ne pas se laisser...</td>\n",
       "      <td>LE SOUND DESIGN</td>\n",
       "      <td>f0da0852-14</td>\n",
       "      <td>f0da0852</td>\n",
       "    </tr>\n",
       "    <tr>\n",
       "      <th>2214</th>\n",
       "      <td>Y a-t-il des recommandations spécifiques conce...</td>\n",
       "      <td>LE SOUND DESIGN</td>\n",
       "      <td>f0da0852-14</td>\n",
       "      <td>f0da0852</td>\n",
       "    </tr>\n",
       "  </tbody>\n",
       "</table>\n",
       "<p>2215 rows × 4 columns</p>\n",
       "</div>"
      ],
      "text/plain": [
       "                                               question         category  \\\n",
       "0     Quels sont les avantages de l'utilisation de l...     LA POST-PROD   \n",
       "1     Comment l'IA influence-t-elle le rôle des prod...     LA POST-PROD   \n",
       "2     Quelles compétences sont nécessaires pour util...     LA POST-PROD   \n",
       "3     Comment l'essor des home-studios a-t-il changé...     LA POST-PROD   \n",
       "4     Quels types de problèmes audio l'intelligence ...     LA POST-PROD   \n",
       "...                                                 ...              ...   \n",
       "2210  Quels sont les éléments importants à considére...  LE SOUND DESIGN   \n",
       "2211  Comment puis-je maîtriser ma DAW avant de me c...  LE SOUND DESIGN   \n",
       "2212  Quels sont les avantages d'utiliser les plugin...  LE SOUND DESIGN   \n",
       "2213  Pourquoi est-il essentiel de ne pas se laisser...  LE SOUND DESIGN   \n",
       "2214  Y a-t-il des recommandations spécifiques conce...  LE SOUND DESIGN   \n",
       "\n",
       "            chunk   article  \n",
       "0      4615db39-1  4615db39  \n",
       "1      4615db39-1  4615db39  \n",
       "2      4615db39-1  4615db39  \n",
       "3      4615db39-1  4615db39  \n",
       "4      4615db39-1  4615db39  \n",
       "...           ...       ...  \n",
       "2210  f0da0852-14  f0da0852  \n",
       "2211  f0da0852-14  f0da0852  \n",
       "2212  f0da0852-14  f0da0852  \n",
       "2213  f0da0852-14  f0da0852  \n",
       "2214  f0da0852-14  f0da0852  \n",
       "\n",
       "[2215 rows x 4 columns]"
      ]
     },
     "execution_count": 53,
     "metadata": {},
     "output_type": "execute_result"
    }
   ],
   "source": [
    "df.to_csv('ground-truth-350.csv', index=False)\n",
    "pd.read_csv('ground-truth-350.csv')"
   ]
  }
 ],
 "metadata": {
  "kernelspec": {
   "display_name": "Python 3 (ipykernel)",
   "language": "python",
   "name": "python3"
  },
  "language_info": {
   "codemirror_mode": {
    "name": "ipython",
    "version": 3
   },
   "file_extension": ".py",
   "mimetype": "text/x-python",
   "name": "python",
   "nbconvert_exporter": "python",
   "pygments_lexer": "ipython3",
   "version": "3.12.2"
  }
 },
 "nbformat": 4,
 "nbformat_minor": 5
}
