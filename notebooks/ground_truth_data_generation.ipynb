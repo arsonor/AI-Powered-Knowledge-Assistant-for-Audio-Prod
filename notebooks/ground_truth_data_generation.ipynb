{
 "cells": [
  {
   "cell_type": "code",
   "execution_count": 6,
   "id": "f9fd7173-6b44-40d3-9677-a091e414e9de",
   "metadata": {},
   "outputs": [],
   "source": [
    "import pandas as pd\n",
    "import json"
   ]
  },
  {
   "cell_type": "code",
   "execution_count": 7,
   "id": "2be179b5-f2c3-4d28-bf4f-2ff97e5d3bd1",
   "metadata": {},
   "outputs": [],
   "source": [
    "with open('../data/arsonor_chunks_id.json', 'r', encoding='utf-8') as file:\n",
    "    documents = json.load(file)"
   ]
  },
  {
   "cell_type": "code",
   "execution_count": 83,
   "id": "22141924-3e9f-4e00-8e57-1f1d071c992a",
   "metadata": {},
   "outputs": [
    {
     "data": {
      "text/plain": [
       "{'article_id': '3fe10ebc',\n",
       " 'title': 'Par où commencer dans l’apprentissage d’une DAW pour produire sa musique?',\n",
       " 'category': 'LE HOME STUDIO',\n",
       " 'tags': 'apprentissage, Audio, composition, DAW, home-studio, MIDI, production musicale',\n",
       " 'chunk_id': '3fe10ebc-6',\n",
       " 'chunk_text': \"plus satisfaisant que de finir sa propre musique et que les gens l’apprécient. Les récompenses l’emportent de loin sur la frustration. Si tu cherches un passe-temps facile, ce n’est pas fait pour toi. Mais si tu cherches quelque chose qui aura un impact positif sur ta vie, te fera réfléchir de manière critique et artistique et te donnera la joie de créer quelque chose, alors fonce. Mais avant, il est nécessaire de faire le point sur quelques interrogations issues de croyances limitantes sans fondements et qui freinent ton évolution: → J'ai pas d'expérience en musique. Est-ce vraiment fait pour moi? Oui! Beaucoup de tes producteurs préférés ont commencé à produire sans expérience musicale préalable. Bien sûr, cela aide, mais tu peux acquérir des compétences en « songwriting » et en écriture de mélodies et harmonisation comme on va le voir dans la suite de cet article. → Je n'ai pas assez de moyens pour tout le matériel que cela nécessite Mon avis à destination des novices dans le domaine est de ne pas se soucier de ça pour commencer. Comme je l’ai dit, tout commence avec un ordinateur et une DAW (tu peux aussi aller revoir cet article: comment bien débuter en MAO ). Il est largement possible de commencer avec une version d’essai gratuite ou une version simplifiée de la DAW à prix réduit voire gratuitement là encore. Reste à pouvoir écouter le son en sortie: un casque décent\"}"
      ]
     },
     "execution_count": 83,
     "metadata": {},
     "output_type": "execute_result"
    }
   ],
   "source": [
    "documents[308]"
   ]
  },
  {
   "cell_type": "markdown",
   "id": "6019d059-dad4-4856-b899-b411702b00d9",
   "metadata": {},
   "source": [
    "## Generate Questions for each doc:"
   ]
  },
  {
   "cell_type": "code",
   "execution_count": 102,
   "id": "dec0a7c3-e6f7-492c-9a1e-8992766780ef",
   "metadata": {},
   "outputs": [],
   "source": [
    "prompt_template = \"\"\"\n",
    "You emulate a user of our 'knowledge assistant for audio production' application.\n",
    "Formulate 5 questions in french this user might generally ask in his learning path to computer music, sound design and audio post-production.\n",
    "The answer to these questions is found in a provided record.\n",
    "Do not use special characters to formulate the questions, except the final question mark ('?').\n",
    "These questions should be complete and not too short. Use as fewer words as possible from the record. \n",
    "\n",
    "The record:\n",
    "\n",
    "category: {category}\n",
    "title: {title}\n",
    "keywords: {tags}\n",
    "answer: {chunk_text}\n",
    "\n",
    "Provide the output in parsable JSON without using code blocks:\n",
    "\n",
    "[\"question1\", \"question2\", ..., \"question5\"]\n",
    "\"\"\".strip()"
   ]
  },
  {
   "cell_type": "code",
   "execution_count": 103,
   "id": "46c6d598-110f-45f5-ae3f-9fbf26b8d088",
   "metadata": {},
   "outputs": [
    {
     "name": "stdout",
     "output_type": "stream",
     "text": [
      "You emulate a user of our 'knowledge assistant for audio production' application.\n",
      "Formulate 5 questions in french this user might generally ask in his learning path to computer music, sound design and audio post-production.\n",
      "The answer to these questions is found in a provided record.\n",
      "Do not use special characters to formulate the questions, except the final question mark ('?').\n",
      "These questions should be complete and not too short. Use as fewer words as possible from the record. \n",
      "\n",
      "The record:\n",
      "\n",
      "category: LE HOME STUDIO\n",
      "title: La gestion des niveaux (5): ta DAW en 32 bits float\n",
      "keywords: -18 dBFS, 0 VU, 32 bits float, DR, in the box, niveau nominal\n",
      "answer: bits float facilite bien des choses dans le traitement audio des pistes d’une production musicale. Néanmoins, l’avantage du 32 bits float disparaît quand le signal n’est pas encore enregistré dans la DAW ou que l’on veut l’exporter hors de la DAW. De plus, l’enchaînement des étapes de production d’une track, de l’enregistrement au mastering, nécessite une vigilance particulière sur la dynamique des signaux audio de chaque piste, 32 bits float ou pas. Dans le prochain article , je m’attacherai à présenter tous les points importants à surveiller au niveau de la dynamique des signaux dans le travail audionumérique « in the box ».\n",
      "\n",
      "Provide the output in parsable JSON without using code blocks:\n",
      "\n",
      "[\"question1\", \"question2\", ..., \"question5\"]\n"
     ]
    }
   ],
   "source": [
    "doc = documents[372]\n",
    "prompt = prompt_template.format(**doc)\n",
    "print (prompt)"
   ]
  },
  {
   "cell_type": "markdown",
   "id": "3a6ca471-3895-4c12-97ee-014f30d4d477",
   "metadata": {},
   "source": [
    "### test on this prompt"
   ]
  },
  {
   "cell_type": "code",
   "execution_count": 3,
   "id": "82b90e38-3034-412a-9675-89ffea158380",
   "metadata": {},
   "outputs": [],
   "source": [
    "from openai import OpenAI\n",
    "client = OpenAI()"
   ]
  },
  {
   "cell_type": "code",
   "execution_count": 4,
   "id": "728da042-b48d-45c9-90dd-245f22a211d6",
   "metadata": {},
   "outputs": [],
   "source": [
    "def llm(prompt):\n",
    "    response = client.chat.completions.create(\n",
    "        model='gpt-4o-mini',\n",
    "        messages=[{\"role\": \"user\", \"content\": prompt}]\n",
    "    )\n",
    "    \n",
    "    return response.choices[0].message.content"
   ]
  },
  {
   "cell_type": "code",
   "execution_count": 104,
   "id": "d8b109dd-7c74-4562-a798-fb4e48a81d19",
   "metadata": {},
   "outputs": [
    {
     "data": {
      "text/plain": [
       "['Quels sont les avantages du 32 bits float dans le traitement audio ?',\n",
       " 'Pourquoi est-il important de surveiller la dynamique des signaux audio ?',\n",
       " 'Quel est le niveau nominal recommandé en audio ?',\n",
       " \"Quels sont les inconvénients du 32 bits float pour l'exportation ?\",\n",
       " 'Quelles étapes de production nécessitent une attention particulière sur la dynamique ?']"
      ]
     },
     "execution_count": 104,
     "metadata": {},
     "output_type": "execute_result"
    }
   ],
   "source": [
    "questions = llm(prompt)\n",
    "json.loads(questions)"
   ]
  },
  {
   "cell_type": "code",
   "execution_count": 19,
   "id": "bf43e8a6-d5e5-475c-a550-4ce0d72a4dcb",
   "metadata": {},
   "outputs": [],
   "source": [
    "def generate_questions(doc):\n",
    "    prompt = prompt_template.format(**doc)\n",
    "\n",
    "    response = client.chat.completions.create(\n",
    "        model='gpt-4o-mini',\n",
    "        messages=[{\"role\": \"user\", \"content\": prompt}]\n",
    "    )\n",
    "\n",
    "    json_response = response.choices[0].message.content\n",
    "    return json_response"
   ]
  },
  {
   "cell_type": "code",
   "execution_count": 76,
   "id": "334fd82f-3706-403f-9ee3-499ac98ee9f1",
   "metadata": {},
   "outputs": [],
   "source": [
    "import time\n",
    "\n",
    "MAX_RETRIES = 3\n",
    "\n",
    "def generate_questions_with_retry(doc):\n",
    "    for attempt in range(MAX_RETRIES):\n",
    "        try:\n",
    "            return generate_questions(doc)\n",
    "        except Exception as e:\n",
    "            print(f\"Attempt {attempt + 1}/{MAX_RETRIES} failed for doc_id {doc['chunk_id']}. Retrying...\")\n",
    "            time.sleep(1)  # Optional: wait before retrying\n",
    "    return None"
   ]
  },
  {
   "cell_type": "code",
   "execution_count": 105,
   "id": "c4985e5f-b920-4d8c-882f-2207ef3d87b9",
   "metadata": {},
   "outputs": [
    {
     "data": {
      "application/vnd.jupyter.widget-view+json": {
       "model_id": "67e4254362334e0cad20703902921a2e",
       "version_major": 2,
       "version_minor": 0
      },
      "text/plain": [
       "  0%|          | 0/589 [00:00<?, ?it/s]"
      ]
     },
     "metadata": {},
     "output_type": "display_data"
    }
   ],
   "source": [
    "from tqdm.auto import tqdm\n",
    "results = {}\n",
    "\n",
    "for doc in tqdm(documents):\n",
    "    doc_id = doc['chunk_id']\n",
    "    \n",
    "    # Skip already processed documents\n",
    "    if doc_id in results:\n",
    "        continue\n",
    "\n",
    "    try:\n",
    "        questions_raw = generate_questions_with_retry(doc)\n",
    "        \n",
    "        # Try to parse the response into JSON\n",
    "        questions = json.loads(questions_raw)\n",
    "        results[doc_id] = questions\n",
    "\n",
    "    except json.JSONDecodeError as e:\n",
    "        # Handle JSON decoding issues and log the problematic document\n",
    "        print(f\"JSONDecodeError for doc_id {doc_id}: {e}\")\n",
    "        print(f\"Problematic response: {questions_raw[:500]}\")  # Print a portion of the response\n",
    "        continue\n",
    "\n",
    "    except Exception as e:\n",
    "        # Handle any other unexpected errors\n",
    "        print(f\"Unexpected error for doc_id {doc_id}: {e}\")\n",
    "        continue"
   ]
  },
  {
   "cell_type": "code",
   "execution_count": 106,
   "id": "de2ca3b2-c7f7-452b-bf8b-c4177eef2951",
   "metadata": {},
   "outputs": [],
   "source": [
    "final_results = []\n",
    "\n",
    "for doc_id, questions in results.items():\n",
    "    for q in questions:\n",
    "        final_results.append((doc_id, q))"
   ]
  },
  {
   "cell_type": "code",
   "execution_count": 123,
   "id": "3448b1b5-ac81-4f00-9ac3-acae62151d47",
   "metadata": {},
   "outputs": [
    {
     "data": {
      "text/plain": [
       "(\"Quelle est l'importance du délai dans la perception stéréo?\",\n",
       " 'LA POST-PROD',\n",
       " '0ab34f0f-2',\n",
       " '0ab34f0f')"
      ]
     },
     "execution_count": 123,
     "metadata": {},
     "output_type": "execute_result"
    }
   ],
   "source": [
    "final_results[588]"
   ]
  },
  {
   "cell_type": "markdown",
   "id": "237637f6-6d68-433a-ab39-a0105e7d3b61",
   "metadata": {},
   "source": [
    "## Save and Parse the results:"
   ]
  },
  {
   "cell_type": "code",
   "execution_count": null,
   "id": "c1febd4f-099d-4a02-9c1b-255e00a592a2",
   "metadata": {},
   "outputs": [],
   "source": [
    "import pickle\n",
    "with open('results.bin', 'rb') as f_in:\n",
    "    results = pickle.load(f_in)"
   ]
  },
  {
   "cell_type": "code",
   "execution_count": null,
   "id": "f848ba98-b98a-4ad1-b45a-6c4b1098045a",
   "metadata": {},
   "outputs": [],
   "source": [
    "parsed_results = {}\n",
    "\n",
    "for doc_id, json_questions in results.items():\n",
    "    parsed_results[doc_id] = json.loads(json_questions)"
   ]
  },
  {
   "cell_type": "markdown",
   "id": "7fa44958-b1e8-4211-a3f2-889b87443fab",
   "metadata": {},
   "source": [
    "## Create a CSV file of the results questions:"
   ]
  },
  {
   "cell_type": "code",
   "execution_count": 110,
   "id": "a402691e-286b-4612-87e7-8402a6faa37c",
   "metadata": {},
   "outputs": [],
   "source": [
    "doc_index = {d['chunk_id']: d for d in documents}"
   ]
  },
  {
   "cell_type": "code",
   "execution_count": 114,
   "id": "f5d18438-904b-459c-8707-afbfed528257",
   "metadata": {},
   "outputs": [],
   "source": [
    "final_results = []\n",
    "\n",
    "for doc_id, questions in results.items():\n",
    "    category = doc_index[doc_id]['category']\n",
    "    article_id = doc_index[doc_id]['article_id']\n",
    "    for q in questions:\n",
    "        final_results.append((q, category, doc_id, article_id))"
   ]
  },
  {
   "cell_type": "code",
   "execution_count": 125,
   "id": "10b1731d-7a3a-4a50-a321-2386990c948b",
   "metadata": {},
   "outputs": [],
   "source": [
    "df = pd.DataFrame(final_results, columns=['question', 'category', 'chunk', 'article'])"
   ]
  },
  {
   "cell_type": "code",
   "execution_count": 124,
   "id": "a9a84c97-89fa-47e0-81cd-3a0810bf7cb8",
   "metadata": {},
   "outputs": [
    {
     "data": {
      "text/html": [
       "<div>\n",
       "<style scoped>\n",
       "    .dataframe tbody tr th:only-of-type {\n",
       "        vertical-align: middle;\n",
       "    }\n",
       "\n",
       "    .dataframe tbody tr th {\n",
       "        vertical-align: top;\n",
       "    }\n",
       "\n",
       "    .dataframe thead th {\n",
       "        text-align: right;\n",
       "    }\n",
       "</style>\n",
       "<table border=\"1\" class=\"dataframe\">\n",
       "  <thead>\n",
       "    <tr style=\"text-align: right;\">\n",
       "      <th></th>\n",
       "      <th>question</th>\n",
       "      <th>category</th>\n",
       "      <th>chunk</th>\n",
       "      <th>article</th>\n",
       "    </tr>\n",
       "  </thead>\n",
       "  <tbody>\n",
       "    <tr>\n",
       "      <th>0</th>\n",
       "      <td>Quel est l'impact de l'intelligence artificiel...</td>\n",
       "      <td>LA POST-PROD</td>\n",
       "      <td>4615db39-1</td>\n",
       "      <td>4615db39</td>\n",
       "    </tr>\n",
       "    <tr>\n",
       "      <th>1</th>\n",
       "      <td>Comment l'IA influence-t-elle la production mu...</td>\n",
       "      <td>LA POST-PROD</td>\n",
       "      <td>4615db39-1</td>\n",
       "      <td>4615db39</td>\n",
       "    </tr>\n",
       "    <tr>\n",
       "      <th>2</th>\n",
       "      <td>Quelles sont les tendances des outils audio ut...</td>\n",
       "      <td>LA POST-PROD</td>\n",
       "      <td>4615db39-1</td>\n",
       "      <td>4615db39</td>\n",
       "    </tr>\n",
       "    <tr>\n",
       "      <th>3</th>\n",
       "      <td>En quoi l'IA permet-elle aux amateurs d'obteni...</td>\n",
       "      <td>LA POST-PROD</td>\n",
       "      <td>4615db39-1</td>\n",
       "      <td>4615db39</td>\n",
       "    </tr>\n",
       "    <tr>\n",
       "      <th>4</th>\n",
       "      <td>Quels avantages l'IA offre-t-elle aux artistes...</td>\n",
       "      <td>LA POST-PROD</td>\n",
       "      <td>4615db39-1</td>\n",
       "      <td>4615db39</td>\n",
       "    </tr>\n",
       "    <tr>\n",
       "      <th>...</th>\n",
       "      <td>...</td>\n",
       "      <td>...</td>\n",
       "      <td>...</td>\n",
       "      <td>...</td>\n",
       "    </tr>\n",
       "    <tr>\n",
       "      <th>2940</th>\n",
       "      <td>Quels sont les logiciels incontournables pour ...</td>\n",
       "      <td>LE SOUND DESIGN</td>\n",
       "      <td>f0da0852-18</td>\n",
       "      <td>f0da0852</td>\n",
       "    </tr>\n",
       "    <tr>\n",
       "      <th>2941</th>\n",
       "      <td>Pourquoi est-il important de maîtriser sa DAW ...</td>\n",
       "      <td>LE SOUND DESIGN</td>\n",
       "      <td>f0da0852-18</td>\n",
       "      <td>f0da0852</td>\n",
       "    </tr>\n",
       "    <tr>\n",
       "      <th>2942</th>\n",
       "      <td>Quels plugins de Soundtoys sont mentionnés dan...</td>\n",
       "      <td>LE SOUND DESIGN</td>\n",
       "      <td>f0da0852-18</td>\n",
       "      <td>f0da0852</td>\n",
       "    </tr>\n",
       "    <tr>\n",
       "      <th>2943</th>\n",
       "      <td>Quelles marques sont citées pour des plugins i...</td>\n",
       "      <td>LE SOUND DESIGN</td>\n",
       "      <td>f0da0852-18</td>\n",
       "      <td>f0da0852</td>\n",
       "    </tr>\n",
       "    <tr>\n",
       "      <th>2944</th>\n",
       "      <td>Comment de nouveaux outils de sound design app...</td>\n",
       "      <td>LE SOUND DESIGN</td>\n",
       "      <td>f0da0852-18</td>\n",
       "      <td>f0da0852</td>\n",
       "    </tr>\n",
       "  </tbody>\n",
       "</table>\n",
       "<p>2945 rows × 4 columns</p>\n",
       "</div>"
      ],
      "text/plain": [
       "                                               question         category  \\\n",
       "0     Quel est l'impact de l'intelligence artificiel...     LA POST-PROD   \n",
       "1     Comment l'IA influence-t-elle la production mu...     LA POST-PROD   \n",
       "2     Quelles sont les tendances des outils audio ut...     LA POST-PROD   \n",
       "3     En quoi l'IA permet-elle aux amateurs d'obteni...     LA POST-PROD   \n",
       "4     Quels avantages l'IA offre-t-elle aux artistes...     LA POST-PROD   \n",
       "...                                                 ...              ...   \n",
       "2940  Quels sont les logiciels incontournables pour ...  LE SOUND DESIGN   \n",
       "2941  Pourquoi est-il important de maîtriser sa DAW ...  LE SOUND DESIGN   \n",
       "2942  Quels plugins de Soundtoys sont mentionnés dan...  LE SOUND DESIGN   \n",
       "2943  Quelles marques sont citées pour des plugins i...  LE SOUND DESIGN   \n",
       "2944  Comment de nouveaux outils de sound design app...  LE SOUND DESIGN   \n",
       "\n",
       "            chunk   article  \n",
       "0      4615db39-1  4615db39  \n",
       "1      4615db39-1  4615db39  \n",
       "2      4615db39-1  4615db39  \n",
       "3      4615db39-1  4615db39  \n",
       "4      4615db39-1  4615db39  \n",
       "...           ...       ...  \n",
       "2940  f0da0852-18  f0da0852  \n",
       "2941  f0da0852-18  f0da0852  \n",
       "2942  f0da0852-18  f0da0852  \n",
       "2943  f0da0852-18  f0da0852  \n",
       "2944  f0da0852-18  f0da0852  \n",
       "\n",
       "[2945 rows x 4 columns]"
      ]
     },
     "execution_count": 124,
     "metadata": {},
     "output_type": "execute_result"
    }
   ],
   "source": [
    "df.to_csv('ground-truth-data.csv', index=False)\n",
    "pd.read_csv('ground-truth-data.csv')"
   ]
  }
 ],
 "metadata": {
  "kernelspec": {
   "display_name": "Python 3 (ipykernel)",
   "language": "python",
   "name": "python3"
  },
  "language_info": {
   "codemirror_mode": {
    "name": "ipython",
    "version": 3
   },
   "file_extension": ".py",
   "mimetype": "text/x-python",
   "name": "python",
   "nbconvert_exporter": "python",
   "pygments_lexer": "ipython3",
   "version": "3.12.2"
  }
 },
 "nbformat": 4,
 "nbformat_minor": 5
}
