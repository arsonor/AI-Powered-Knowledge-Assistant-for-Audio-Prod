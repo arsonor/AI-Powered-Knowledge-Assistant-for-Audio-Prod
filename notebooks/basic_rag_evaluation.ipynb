{
 "cells": [
  {
   "cell_type": "code",
   "execution_count": 1,
   "id": "9fbd7bbe-145f-4e58-a874-b005dbed225c",
   "metadata": {},
   "outputs": [],
   "source": [
    "import pandas as pd\n",
    "import json\n",
    "import minsearch"
   ]
  },
  {
   "cell_type": "markdown",
   "id": "2454e399-424c-422e-9c60-8a83cf54b729",
   "metadata": {},
   "source": [
    "# Ingestion"
   ]
  },
  {
   "cell_type": "code",
   "execution_count": 152,
   "id": "21c60918-87b5-4156-88b7-291eb26ed85a",
   "metadata": {},
   "outputs": [],
   "source": [
    "with open('../data/arsonor_chunks_300_50.json', 'r', encoding='utf-8') as file:\n",
    "    documents = json.load(file)"
   ]
  },
  {
   "cell_type": "code",
   "execution_count": 153,
   "id": "11b71249-d25b-4100-b256-98e07092ebe0",
   "metadata": {},
   "outputs": [
    {
     "data": {
      "text/plain": [
       "{'article_id': '3632a3b4',\n",
       " 'url': 'https://arsonor.com/lintelligence-artificielle-ia-dans-le-studio-de-production-audio-5-6/',\n",
       " 'title': 'L’intelligence artificielle (IA) dans le studio de production audio (5/6)',\n",
       " 'category': 'LA POST-PROD',\n",
       " 'tags': 'dé-mixage, de-noise, de-reverb, deep learning, plug-in audio, restauration audio, stems',\n",
       " 'chunk_id': '3632a3b4-11',\n",
       " 'chunk_text': \"Ce plugin, de part sa simplicité d’utilisation (un ou deux potards à régler) est vite devenu une référence absolue, un « must-have » auprès de tout les ingénieurs du son d’un studio de musique. Plug-in Drumatom de Accusonus Accusonus Regroover pour séparer les éléments d'une boucle de batterie Un autre de leurs logiciels remarquables est Regroover . Celui-ci permet de décomposer efficacement une boucle audio complexe (souvent rythmique, de batterie) en plusieurs boucles contenant chacune un élément/instrument séparé de la boucle principale! Très utile par exemple pour isoler le kick, la snare, les high hats, etc… de n’importe quel fichier audio de drums. C’est la porte ouverte à plus de liberté et de créativité dans la manipulation des boucles audio au-delà de leur forme originale. A sa sortie en 2016, Regroover reçut plusieurs prix d’innovation et fut considéré comme le futur du sampling. Enfin, le bundle ERA , sorti en 2018, est la gamme de produits d’Accusonus qui connaît la croissance la plus rapide. Avec des plugins, comme le « Noise Remover » ou le « Voice leveler » , toujours plus nombreux et rassemblés en une seule interface, le « Audio Clean-up Assistant » , l’ERA Bundle s’impose peu à peu comme un sérieux concurrent à iZotope RX dans le domaine des logiciels de nettoyage et restauration sonore. La simplicité d’utilisation des plugins (souvent munis d’un simple potard à tourner), permet aux créateurs débutants et professionnels d’améliorer instantanément leurs enregistrements audio, pour une réparation audio rapide et efficace. Le bundle ERA de Accusonus Les Zynaptiq Un-Series: Unfilter, Unveil, Unchirp, Unmix Drums Spécialiste dans les algorithmes audio IA avancés, il est logique que Zynaptiq propose une série de plugins performants dans la réparation et restauration sonore.\"}"
      ]
     },
     "execution_count": 153,
     "metadata": {},
     "output_type": "execute_result"
    }
   ],
   "source": [
    "documents[15]"
   ]
  },
  {
   "cell_type": "markdown",
   "id": "dac5a7a7",
   "metadata": {},
   "source": [
    "### With Minsearch:"
   ]
  },
  {
   "cell_type": "code",
   "execution_count": 111,
   "id": "46d3d15f-2c46-47ed-a0ac-1df6d3f56159",
   "metadata": {},
   "outputs": [],
   "source": [
    "index = minsearch.Index(\n",
    "    text_fields=['title', 'tags', 'chunk_text'],\n",
    "    keyword_fields=['article_id', 'category', 'chunk_id']\n",
    ")"
   ]
  },
  {
   "cell_type": "code",
   "execution_count": 112,
   "id": "376cc4c0-efd8-4437-ba79-2de0a7a02265",
   "metadata": {},
   "outputs": [
    {
     "data": {
      "text/plain": [
       "<minsearch.Index at 0x12c01d78770>"
      ]
     },
     "execution_count": 112,
     "metadata": {},
     "output_type": "execute_result"
    }
   ],
   "source": [
    "index.fit(documents)"
   ]
  },
  {
   "cell_type": "markdown",
   "id": "f75a32ed",
   "metadata": {},
   "source": [
    "### With Elasticsearch"
   ]
  },
  {
   "cell_type": "code",
   "execution_count": 154,
   "id": "ccde57f1",
   "metadata": {},
   "outputs": [],
   "source": [
    "from elasticsearch import Elasticsearch\n",
    "from elasticsearch.helpers import bulk\n",
    "import json"
   ]
  },
  {
   "cell_type": "code",
   "execution_count": 155,
   "id": "95eeaaa6",
   "metadata": {},
   "outputs": [],
   "source": [
    "es = Elasticsearch(\"http://localhost:9200\")"
   ]
  },
  {
   "cell_type": "code",
   "execution_count": 200,
   "id": "869defd3",
   "metadata": {},
   "outputs": [],
   "source": [
    "index_name = \"arsonor_chunks_300\"\n",
    "\n",
    "# Create index if not already created\n",
    "if not es.indices.exists(index=index_name):\n",
    "    es.indices.create(index=index_name, body={\n",
    "        \"mappings\": {\n",
    "            \"properties\": {\n",
    "                \"article_id\": {\"type\": \"keyword\"},\n",
    "                \"title\": {\"type\": \"text\"},\n",
    "                \"url\": {\"type\": \"keyword\"},\n",
    "                \"category\": {\"type\": \"keyword\"},\n",
    "                \"tags\": {\"type\": \"text\"},\n",
    "                \"chunk_id\": {\"type\": \"keyword\"},\n",
    "                \"chunk_text\": {\"type\": \"text\"},\n",
    "                # \"embedding\": {\"type\": \"dense_vector\", \"dims\": 768}  # assuming 768-dim embeddings\n",
    "            }\n",
    "        }\n",
    "    })"
   ]
  },
  {
   "cell_type": "code",
   "execution_count": 201,
   "id": "0e16761c",
   "metadata": {},
   "outputs": [
    {
     "data": {
      "text/plain": [
       "(572, [])"
      ]
     },
     "execution_count": 201,
     "metadata": {},
     "output_type": "execute_result"
    }
   ],
   "source": [
    "def prepare_documents_for_indexing(docs):\n",
    "    for doc in docs:\n",
    "        yield {\n",
    "            \"_index\": index_name,\n",
    "            \"_id\": doc['chunk_id'],\n",
    "            \"_source\": {\n",
    "                \"article_id\": doc['article_id'],\n",
    "                \"title\": doc['title'],\n",
    "                \"url\": doc['url'],\n",
    "                \"category\": doc['category'],\n",
    "                \"tags\": doc['tags'],\n",
    "                \"chunk_id\": doc['chunk_id'],\n",
    "                \"chunk_text\": doc['chunk_text'],\n",
    "                # \"embedding\": generate_embedding(doc['chunk_text'])  # Add embedding here\n",
    "            }\n",
    "        }\n",
    "\n",
    "# Index the documents in bulk\n",
    "bulk(es, prepare_documents_for_indexing(documents))"
   ]
  },
  {
   "cell_type": "markdown",
   "id": "7ad4c969-765d-4ad2-b773-30cd5a790bf9",
   "metadata": {},
   "source": [
    "# RAG flow"
   ]
  },
  {
   "cell_type": "code",
   "execution_count": 158,
   "id": "2371fd42",
   "metadata": {},
   "outputs": [],
   "source": [
    "from openai import OpenAI\n",
    "client = OpenAI()"
   ]
  },
  {
   "cell_type": "code",
   "execution_count": 175,
   "id": "0dd6789d-dbcd-4bb8-a19c-70213e286f05",
   "metadata": {},
   "outputs": [],
   "source": [
    "query = 'De quel matériel ai-je besoin pour créer ma musique dans mon home-studio?'"
   ]
  },
  {
   "cell_type": "code",
   "execution_count": 12,
   "id": "c73c08c8-ce03-43ec-ad67-f9cad23e0d23",
   "metadata": {},
   "outputs": [
    {
     "data": {
      "text/plain": [
       "\"Pour créer de la musique dans un home-studio, voici une liste du matériel nécessaire :\\n\\n### 1. **Ordinateur**\\n   - Un ordinateur performant (PC ou Mac) avec une bonne quantité de RAM et un processeur rapide pour faire tourner des logiciels de production musicale.\\n\\n### 2. **Logiciel de Production Musicale (DAW)**\\n   - Logiciels tels que Ableton Live, FL Studio, Logic Pro, Pro Tools, ou Reaper pour l'enregistrement, l'édition et la production de musique.\\n\\n### 3. **Interfaces Audio**\\n   - Une interface audio pour connecter vos instruments et microphones à votre ordinateur avec une meilleure qualité sonore.\\n\\n### 4. **Moniteurs de Studio**\\n   - Des enceintes de monitoring pour écouter votre musique avec précision. Choisissez des modèles adaptés à la taille de votre pièce.\\n\\n### 5. **Casque Audio**\\n   - Un bon casque de studio pour le mixage et l'enregistrement, offrant une isolation phonique et une réponse plate.\\n\\n### 6. **Clavier MIDI**\\n   - Un clavier MIDI pour jouer des instruments virtuels et contrôler des plugins.\\n\\n### 7. **Microphone**\\n   - Un microphone de bonne qualité pour l'enregistrement vocal ou d'instruments. Considérez un microphone dynamique ou à condensateur selon vos besoins.\\n\\n### 8. **Support de Microphone**\\n   - Un pied de micro et éventuellement un filtre anti-pop pour les enregistrements vocaux.\\n\\n### 9. **Câbles**\\n   - Des câbles XLR pour connecter le microphone, des câbles TRS ou TS pour les moniteurs et les autres instruments.\\n\\n### 10. **Acoustic treatment (optionnel)**\\n   - Des panneaux acoustiques pour traiter le son de votre pièce et minimiser les résonances et les échos.\\n\\n### 11. **Contrôleur MIDI (optionnel)**\\n   - Pour un contrôle plus élaboré de votre DAW et des instruments virtuels.\\n\\n### 12. **Échantillons et Boucles**\\n   - Bibliothèques d'échantillons et de boucles pour enrichir vos compositions.\\n\\n### 13. **Plugins VST**\\n   - Instruments virtuels et effets audio pour élargir vos possibilités sonores.\\n\\n### 14. **Station de travail ergonomique**\\n   - Un bureau et une chaise confortables pour travailler de manière productive.\\n\\n### Autres accessoires :\\n- **Une bonne connexion Internet** pour télécharger des plugins, des mises à jour, et des tutoriels.\\n- **Un système de sauvegarde** pour protéger vos projets musicaux.\\n\\nEn fonction de votre budget et de votre style musical, vous pouvez ajuster cette liste et investir dans du matériel de meilleure qualité ou dans des éléments spécifiques à vos besoins.\""
      ]
     },
     "execution_count": 12,
     "metadata": {},
     "output_type": "execute_result"
    }
   ],
   "source": [
    "response = client.chat.completions.create(\n",
    "        model='gpt-4o-mini',\n",
    "        messages=[{\"role\": \"user\", \"content\": query}]\n",
    "    )\n",
    "    \n",
    "response.choices[0].message.content"
   ]
  },
  {
   "cell_type": "markdown",
   "id": "b674dc18",
   "metadata": {},
   "source": [
    "### Search results with Minsearch"
   ]
  },
  {
   "cell_type": "code",
   "execution_count": 62,
   "id": "297ea691-22dd-4982-abd3-4104f6467a46",
   "metadata": {},
   "outputs": [],
   "source": [
    "def search(query):\n",
    "    boost = {}\n",
    "\n",
    "    results = index.search(\n",
    "        query=query,\n",
    "        filter_dict={},\n",
    "        boost_dict=boost,\n",
    "        num_results=10\n",
    "    )\n",
    "\n",
    "    return results"
   ]
  },
  {
   "cell_type": "markdown",
   "id": "f7a998c0",
   "metadata": {},
   "source": [
    "### Search results with Elasticsearch"
   ]
  },
  {
   "cell_type": "code",
   "execution_count": 217,
   "id": "2b089124",
   "metadata": {},
   "outputs": [],
   "source": [
    "def elastic_search(query, category):\n",
    "    search_query = {\n",
    "        \"size\": 10,\n",
    "        \"query\": {\n",
    "            \"bool\": {\n",
    "                \"must\": {\n",
    "                    \"multi_match\": {\n",
    "                        \"query\": query,\n",
    "                        \"fields\": [\"title\", \"tags\", \"chunk_text\"],\n",
    "                        \"type\": \"best_fields\"\n",
    "                    }\n",
    "                },\n",
    "                \"filter\": {\n",
    "                    \"term\": {\n",
    "                        \"category\": category\n",
    "                    }\n",
    "                }\n",
    "            }\n",
    "        }\n",
    "    }\n",
    "\n",
    "    response = es.search(index=index_name, body=search_query)\n",
    "    \n",
    "    result_docs = []\n",
    "    \n",
    "    for hit in response['hits']['hits']:\n",
    "        result_docs.append(hit['_source'])\n",
    "    \n",
    "    return result_docs"
   ]
  },
  {
   "cell_type": "markdown",
   "id": "0fc3b25a",
   "metadata": {},
   "source": [
    "### Prompt"
   ]
  },
  {
   "cell_type": "code",
   "execution_count": 207,
   "id": "460e2c4b-d2b5-416a-aeb8-b2a503f8c448",
   "metadata": {},
   "outputs": [],
   "source": [
    "prompt_template = \"\"\"\n",
    "You're an audio engineer and sound designer instructor for beginners.\n",
    "You're particularly specialized in audio home-studio set-up, computer music production and audio post-production in general (editing, mixing and mastering). \n",
    "Answer the QUESTION based on the CONTEXT from our arsonor knowledge database (articles).\n",
    "Use only the facts from the CONTEXT when answering the QUESTION.\n",
    "Finally, recommend the top 3 Arsonor articles (refer to their 'title') that are the best to read for answering this question.\n",
    "\n",
    "QUESTION: {question}\n",
    "\n",
    "CONTEXT:\n",
    "{context}\n",
    "\"\"\".strip()\n",
    "\n",
    "entry_template = \"\"\"\n",
    "article title: {title}\n",
    "article keywords: {tags}\n",
    "content: {chunk_text}\n",
    "\"\"\".strip()\n"
   ]
  },
  {
   "cell_type": "code",
   "execution_count": 230,
   "id": "c874bb9e",
   "metadata": {},
   "outputs": [],
   "source": [
    "def build_prompt(query, search_results):\n",
    "    context = \"\"\n",
    "    \n",
    "    for doc in search_results:\n",
    "        context += entry_template.format(**doc) + \"\\n\\n\"\n",
    "\n",
    "    prompt = prompt_template.format(question=query, context=context)\n",
    "    return prompt"
   ]
  },
  {
   "cell_type": "code",
   "execution_count": 222,
   "id": "6383065f-7541-4718-8c05-b577ade7d377",
   "metadata": {},
   "outputs": [],
   "source": [
    "search_results = elastic_search(query, category='LE HOME STUDIO')\n",
    "prompt = build_prompt(query, search_results)"
   ]
  },
  {
   "cell_type": "code",
   "execution_count": 223,
   "id": "a90e3571-822d-457d-815a-38530f98c112",
   "metadata": {},
   "outputs": [
    {
     "name": "stdout",
     "output_type": "stream",
     "text": [
      "You're an audio engineer and sound designer instructor for beginners.\n",
      "You're particularly specialized in audio home-studio set-up, computer music production and audio post-production in general (editing, mixing and mastering). \n",
      "Answer the QUESTION based on the CONTEXT from our arsonor knowledge database (articles).\n",
      "Use only the facts from the CONTEXT when answering the QUESTION.\n",
      "Finally, recommend the top 3 Arsonor articles (refer to their 'title') that are the best to read for answering this question.\n",
      "\n",
      "QUESTION: De quel matériel ai-je besoin pour créer ma musique dans mon home-studio?\n",
      "\n",
      "CONTEXT:\n",
      "article title: Deviens toi aussi producteur musical depuis ton home studio\n",
      "article keywords: home-studio, ingénieur du son, MAO, production musicale\n",
      "content: Avis à tous les passionnés de musique, c’est avec grand plaisir que j’ouvre ce blog afin de partager ma passion de la MAO (Musique Assistée par Ordinateur) et du home studio , de la création au mixage audio. Alors tu te demandes sûrement… … Qu’est-ce que Arsonor? Contexte De nos jours, la musique est omniprésente. Les médias traditionnels (radio, télé) et surtout maintenant Internet et les réseaux sociaux nous font découvrir de nouveaux artistes tous les jours. Des sites comme Soundcloud ou Bandcamp sont absolument remplis de création de tout bords de façon continue. Quant à Youtube , c’est devenu la plus grande plateforme d’écoute de musique en ligne où il est devenu très facile d’écouter et de publier. Depuis quelques années, le monde de la création et de la production musicale s’est considérablement ouvert grâce à l’évolution ininterrompue et considérable de l’informatique, l’émergence d’internet à haut débit et le développement des échanges de fichier à grande échelle. Par le passé, les premiers home studio pouvaient ressembler à un véritable arsenal où s’enchevêtraient câbles, patchs et racks remplis de matériel, et le tout à un coût exorbitant! Aujourd’hui tout commence avec un simple ordinateur et un casque car le matériel a été remplacé par son équivalent logiciel. De plus en plus d’artistes émergent en composant chez eux, depuis leur home studio avant de finaliser leurs projets dans un studio professionnel (voire toujours depuis chez soi) . On parle alors de plus en plus de création DIY (“Do It Yourself”) et d’un nouveau rôle des amateurs qui sont en mesure de travailler avec des moyens équivalents aux professionnels.\n",
      "\n",
      "article title: Par où commencer dans l’apprentissage d’une DAW pour produire sa musique?\n",
      "article keywords: apprentissage, Audio, composition, DAW, home-studio, MIDI, production musicale\n",
      "content: Si comme moi, tu as décidé un jour de produire et mixer ta propre musique, tu es forcément passé par l’étape d’apprentissage d’une DAW. Oui, ce que j’appelle DAW (« Digital Audio Workstation ») , c’est la station audio-numérique (donc STAN en français), soit Le logiciel audio au centre de toutes les opérations du home-studio. Pour ce premier article de l’année, il me tenait à cœur de revenir aux fondamentaux. A savoir, donner une vision plus claire à destination de tout débutant qui souhaite se lancer dans l’aventure. Car si tu es confronté de près ou de loin à la prise en main d’une DAW tout en ne sachant pas par quel bout commencer , alors cet article est fait pour toi! Je t’y donne des pistes qui m’ont personnellement permis de faire un bond en avant dans mon évolution. Cela tombe bien car cet article fait parti de l’événement inter-blogueurs “quand j’ai compris ça, j’ai fait un bond en avant dans mon évolution !” organisé par Cazimir Costea du blog Libérer Son Piano . Ce blog, dont j ’apprécie beaucoup les conseils et analyses de Cazimir, t’aide à libérer ton potentiel au piano (et tu verras dans la suite de cet article en quoi cela te serait utile). Pour bien comprendre la complexité d’une DAW, il faut d’abord revenir aux origines du home-studio: L'avènement du home-studio et son effet pervers L’apprentissage d’une DAW est donc l’étape incontournable de tout « home-studiste ». On retrouve même la DAW dans tout studio de production musicale professionnel actuel. Elle permet en effet à un seul ordinateur polyvalent d’émuler toutes les fonctions à la fois de routage, d’enregistrement, de traitement et de mixage de l’audio. Toutes ces fonctions étaient autrefois assurées par des unités matérielles ‘hardware’.\n",
      "\n",
      "article title: Comment bien débuter en MAO: le home-studio démystifié\n",
      "article keywords: DAW, hardware, home-studio, MAO, matériel audio, plugin, software\n",
      "content: La MAO (Musique Assistée par Ordinateur) est en vogue depuis l’ère du numérique. Un ordinateur peut devenir facilement un centre de production musicale et audiovisuelle. Si en plus c’est un portable, te voilà à la tête d’un studio d’enregistrement mobile! Il est néanmoins nécessaire de comprendre le cheminement du signal audio et les divers éléments constituant un véritable petit studio. Un ordinateur c’est déjà pas mal mais il ne reste qu’un support. Il faut ensuite les éléments qui vont permettre de faire rentrer l’audio si on veut enregistrer des sons extérieurs, les manipuler puis les ressortir pour finalement pouvoir écouter du mieux possible. Dans l’univers de la MAO, tu découvriras vite une jungle de matériels et de fabricants divers où il sera facile de s’y perdre ou de se décourager. Aussi, je n’aborderai pas ici le détail des marques, prix et caractéristiques de chaque élément, le but de l’article étant surtout de présenter un aperçu global de ce qui constitue un home-studio avant qu’on entre dans le vif du sujet. Le home studio, de l'audio professionnel à domicile Je sais que pour la plupart des novices cet univers de l’audio peut paraître effrayant, surtout à la vue de certains studios suréquipés ou à la lecture d’un article sur la dernière machine en vogue dans un journal spécialisé. C’est sûr tu trouveras toujours quelqu’un pour te montrer ses 50 synthétiseurs analogiques, ses 10 boîtes à rythmes, ses 3 ordinateurs et quelques interfaces audio multi-pistes avec leurs micros, le tout pour plus de 10000€. La vérité : Pour commencer, tu n’as besoin d’aucune machine autre qu’un simple ordinateur. L’autre vérité : Pour créer du grand art, tu n’as toujours pas besoin d’appareil en plus.\n",
      "\n",
      "article title: Comment bien débuter en MAO: le home-studio démystifié\n",
      "article keywords: DAW, hardware, home-studio, MAO, matériel audio, plugin, software\n",
      "content: C’est sûr tu trouveras toujours quelqu’un pour te montrer ses 50 synthétiseurs analogiques, ses 10 boîtes à rythmes, ses 3 ordinateurs et quelques interfaces audio multi-pistes avec leurs micros, le tout pour plus de 10000€. La vérité : Pour commencer, tu n’as besoin d’aucune machine autre qu’un simple ordinateur. L’autre vérité : Pour créer du grand art, tu n’as toujours pas besoin d’appareil en plus. I - Ce qu'il te faut dans ton home studio 1) L'ordinateur Oui celui que tu utilises en ce moment fera sûrement l’affaire. Outre l’éternel débat Mac ou PC, aujourd’hui, si ton ordinateur, quel qu’il soit, est relativement récent, tu ne devrais pas avoir trop de problèmes pour travailler de l’audio au départ. Voici tout de même quelques recommandations importantes : – S’assurer d’avoir un processeur rapide et fiable et une carte mère qui possède suffisamment de place pour y ajouter de la RAM (mémoire vive). Anticipes l’avenir, tes besoins iront crescendo au fur et à mesure que tu seras impliqué dans la musique numérique. – Suivant tes objectifs, il sera préférable de garder ton ordinateur uniquement pour la musique et donc de le configurer spécifiquement pour cela. Sois réaliste et vérifies si ta machine sera capable de supporter tous tes logiciels musicaux en plus d’autres applications que tu possèdes déjà. Attention avec les PC avec notamment l’antivirus qui prend beaucoup de ressources. Personnellement j’ai un macbook avec le strict minimum, par exemple aucun jeu ou autre application gourmande en énergie n’y est installée (à part tout ce qui est lié à la musique bien sûr).\n",
      "\n",
      "article title: Par où commencer dans l’apprentissage d’une DAW pour produire sa musique?\n",
      "article keywords: apprentissage, Audio, composition, DAW, home-studio, MIDI, production musicale\n",
      "content: Un manager, un coach, d’autres musiciens, plusieurs ingénieurs du son à l’enregistrement, au mixage puis au mastering, etc… Les musiques électroniques pionnières du home-studio La réalité du home-studiste est qu’il fait généralement tout cela! C’est ce que j’appelle le producteur musical moderne: son rôle est polyvalent, de la proposition d’idées musicales à leur organisation, finalisation puis distribution. Ce rôle multi-casquettes et du DIY (« Do It Yourself », fais tout par toi-même) s’est d’ailleurs initialement développé avec l’avènement des musiques électroniques. Le travail énorme que représentait la production d’un morceau de house, techno, etc…, fut au début largement incompris par les médias de masse et les musiciens traditionnels. Ce sont tous ces producteurs qui ont pourtant contribué à l’émergence du home-studio et la démocratisation de la production musicale. Voir d’ailleurs cet excellent documentaire à ce sujet: Aujourd’hui, on ne compte plus toutes les productions à succès et hits commerciaux qui se sont conçus de A à Z dans une chambre à coucher ou une cave aménagée. Et ceci plus seulement pour des musiques électroniques mais pour tout autre style, du jazz au rock, en passant par le son à l’image et les musiques de film! Obstacles à l'apprentissage d'une DAW Alors rempli d’enthousiasme et de motivation, comme toute personne normale, tu vas sur Google pour savoir comment commencer et ce dont tu as besoin. Malheureusement, cela ne se passe pas comme prévu, tu finis par télécharger un programme obscur sans aucune idée de ce que c’est ni comment l’utiliser. La confusion s’installe… Et comme moi, tu t’es peut être aperçu rapidement à quel point le chemin allait être long et tortueux avant d’arriver à quelque chose de potable. Jusqu’à même se décourager et passer finalement à autre chose tellement la montagne que représente le vaste monde de l’audio-numérique semblait insurmontable.\n",
      "\n",
      "article title: Deviens toi aussi producteur musical depuis ton home studio\n",
      "article keywords: home-studio, ingénieur du son, MAO, production musicale\n",
      "content: De plus en plus d’artistes émergent en composant chez eux, depuis leur home studio avant de finaliser leurs projets dans un studio professionnel (voire toujours depuis chez soi) . On parle alors de plus en plus de création DIY (“Do It Yourself”) et d’un nouveau rôle des amateurs qui sont en mesure de travailler avec des moyens équivalents aux professionnels. Exemple de home studio à ses débuts plus minimaliste et actuel Souvent téléchargés de manière illégale, les développeurs de logiciels ont rapidement saisi le potentiel grand public de ces outils qui existaient pour la plupart depuis des années. Le logiciel Logic Pro d’Apple passe autour de 200 Euros en téléchargement direct (il coûtait près de 1000 Euros à l’origine). Et Ableton Live , un des logiciels les plus dynamiques du marché, se pare de nouvelles interfaces colorées et mise avant tout sur une plus grande accessibilité (pour 600 Euros la version complète). A côté de ces logiciels, un véritable écosystème se crée de lui-même: communauté et forums s’échangent des conseils et des “tips” pour mieux produire, tandis que des milliers de tutoriels pour débutant ou niveau plus avancé sont disponibles sur des plateformes de vidéos. Cette nouvelle ère du monde de la musique post-crise du disque remplace peu à peu notre rôle de simple auditeur à un rôle de créateur: avec l’accessibilité de la musique moderne, n’importe quel passionné de musique devient créateur! Développes l'artiste qui est en toi! Mais est-ce suffisant pour obtenir des résultats en home studio? Non! Encore faut-il acquérir les connaissances théoriques et pratiques du musicien/ingénieur du son. Pour cela, plusieurs obstacles viendront entraver ta route. En voici deux exemples: 1) Technologie VS Créativité En tant qu’artiste, tu te rendras compte que la créativité l’emporte toujours sur la technologie .\n",
      "\n",
      "article title: La gestion des niveaux sonores (9): Les normes de mesure du loudness\n",
      "article keywords: Calm Act, EBU R128, loudness normalization, loudness unit, loudness war, LUFS, streaming\n",
      "content: L’algorithme « Sound Check » d’Apple est également basé sur ce standard. le « K-system » conçu et proposé par le célèbre ingénieur en mastering Bob Katz pour normaliser le rapport entre dBFS et dBSPL. Cela se présente comme un système de calibration d’enceintes de studio combiné à une échelle spécifique de mesure des niveaux pour atteindre une plage dynamique satisfaisante. Le système proposé par Bob Katz consiste à calibrer ses enceintes de manière à ce que le 0 dB VU corresponde à 83 dB SPL. Et ceci suivant trois domaines d'application exigeant une plage dynamique différente: K-12 (Broadcast), K-14 (Pop music, home-studio) et K-20 (grands studios, musique classique). La norme EBU de mesure du loudness s'impose peu à peu... Ceci étant dit, à mon avis, il est inutile de s’embrouiller encore plus avec ce « système K » de Bob Katz. Je l’ai mentionné uniquement pour ton information et cas où tu tombes sur des plugins de mesure qui en font encore référence. Etant donné que de nombreux fabricants de plugins et de périphériques audio faisaient partie du groupe qui a rédigé la norme EBU, c’est donc le système LUFS qui finit par s’imposer, même aux Etats-Unis! On trouve de plus en plus de plugins « EBU-compliant », des gratuits jusqu’aux professionnels confirmés comme Izotope ou NuGen Audio (voir prochain article). Il semble en effet que le « système K » de Bob Katz tombe peu à peu en désuétude. Et c’est pas plus mal car le système LUFS a le mérite de donner une mesure universelle, commune à tout le monde, tout en se désolidarisant de la dualité entre valeur Peak et RMS. ... mais pour quelle valeur cible? A quoi correspond vraiment -23 LUFS recommandé par l'EBU?\n",
      "\n",
      "article title: Deviens toi aussi producteur musical depuis ton home studio\n",
      "article keywords: home-studio, ingénieur du son, MAO, production musicale\n",
      "content: Mais est-ce suffisant pour obtenir des résultats en home studio? Non! Encore faut-il acquérir les connaissances théoriques et pratiques du musicien/ingénieur du son. Pour cela, plusieurs obstacles viendront entraver ta route. En voici deux exemples: 1) Technologie VS Créativité En tant qu’artiste, tu te rendras compte que la créativité l’emporte toujours sur la technologie . Il est néanmoins important de comprendre la technologie et la science qui se cache derrière, de manière à produire de la musique innovante et de qualité. L’accès à la musique s’est certes démocratisé mais la technologie et l’apparente complexité des logiciels de création ont vite fait de décourager les amateurs en herbe. L’évolution est tellement rapide qu’on est arrivé à un point où l’artiste est submergé de tas d’outils à sa disposition, ce qui peut être un frein à sa créativité. Une bonne production musicale en ces temps est de surtout décider quoi ne pas utiliser, afin de rester concentrer et créatif dans nos propres limitations. 2) Musicien VS Ingénieur du son En donnant des cours particuliers en MAO, de plus en plus de musiciens me contactent parce qu’ils veulent produire et finaliser leur morceau eux-mêmes depuis chez eux. Pour cela, ils veulent donc être formé aux outils modernes de production en quelques cours sur un logiciel. Malheureusement, la réalité est toute autre. En général, ma réponse à ceci en décourage plus d’un. Il leur faut en effet réapprendre un nouveau langage, une nouvelle façon d’appréhender la musique d’une manière “moderne”. Et ce langage s’accompagne également d’une nouvelle paire d’oreille à acquérir. Il faut réapprendre à écouter d’une autre manière. Musique moderne? L’extrait qui suit résume bien le concept de Musique moderne.\n",
      "\n",
      "article title: Par où commencer dans l’apprentissage d’une DAW pour produire sa musique?\n",
      "article keywords: apprentissage, Audio, composition, DAW, home-studio, MIDI, production musicale\n",
      "content: On retrouve même la DAW dans tout studio de production musicale professionnel actuel. Elle permet en effet à un seul ordinateur polyvalent d’émuler toutes les fonctions à la fois de routage, d’enregistrement, de traitement et de mixage de l’audio. Toutes ces fonctions étaient autrefois assurées par des unités matérielles ‘hardware’. La constante amélioration dans la fiabilité et les fonctionnalités des traitements numériques et du stockage des données informatiques au cours des 20 dernières années a permis à la DAW de largement les remplacer. Si nécessaire, la connexion au monde analogique intervient via une interface audio : un appareil comportant des prises d’entrée/sortie (E/S) audio et les convertisseurs du signal analogique vers numérique (ADC) et vice-versa (DAC). Tout cela conjugué aux prix en baisse, la production musicale est devenue beaucoup plus accessible . Une musique de qualité peut se créer sur un ordinateur portable standard, sans hardware coûteux. Vue de la DAW Protools sur lécran d'ordinateur Rôle(s) du producteur musical moderne Mais cette tendance vers une « simplification » des traitements audio a en même temps engendré un effet pervers: la polyvalence nécessaire dans les tâches à accomplir. Selon la définition traditionnelle, le producteur supervise, gère et guide le processus d’enregistrement et de production d’une chanson. Pour des productions de haut calibre (pense Top 40, musique commerciale…), on retrouve normalement un certains nombres de personnes à la production en plus de l’artiste et du producteur. Un manager, un coach, d’autres musiciens, plusieurs ingénieurs du son à l’enregistrement, au mixage puis au mastering, etc… Les musiques électroniques pionnières du home-studio La réalité du home-studiste est qu’il fait généralement tout cela! C’est ce que j’appelle le producteur musical moderne: son rôle est polyvalent, de la proposition d’idées musicales à leur organisation, finalisation puis distribution.\n",
      "\n",
      "article title: Par où commencer dans l’apprentissage d’une DAW pour produire sa musique?\n",
      "article keywords: apprentissage, Audio, composition, DAW, home-studio, MIDI, production musicale\n",
      "content: Ce qui permet de produire entièrement dans un environnement logiciel. Dans la pratique, cependant, la plupart des studios occupent un juste milieu entre les extrêmes tout analogique et tout numérique. La mode est à l’hybride, combinant ancien et nouveau, matériel et logiciel, en fonction des priorités de production, des restrictions d’espace/budget et des préférences personnelles. Prise en main rapide d'un synthétiseur Dès qu’on a assimilé tous les concepts et le vocabulaire sous-jacents à la synthèse sonore, il est possible de rapidement prendre en main n’importe quel synthétiseur. Voir à ce propos ma série d’article sur les principes de fonctionnement d’un synthé qui vont grandement t’éclaircir les idées si tu n’y connais rien à la base. Une fois devant le synthé, une méthode très efficace pour apprendre est de décortiquer des presets, des sons complexes déjà à disposition, pour savoir comment ils ont été conçus. C’est ce qu’on appelle faire du « Reverse engineering » en anglais. Concrètement, cela consiste donc à prendre le processus de conception à l’envers: à partir du son fini, commence par désactiver les effets car tu verras que ces derniers prennent souvent une grande part dans la sonorité finale. Continue de même (activer/désactiver) section par section (oscillateurs, filtres puis modulations) pour constater l’effet sur le son de tel ou tel paramètre. Ensuite, amuse-toi à façonner tes propres sons en considérant ces trois concepts: la sonorité générale (avec les oscillateurs, filtres et effets), l’enveloppe (bref ou long? stable ou évolutif? ), l’espacement (centré, large, en mouvement?). Lien entre design sonore et composition dans la DAW Comme je le disais, il existe une connexion profonde entre sonorité et composition. Le son émis par l’instrument virtuel est le résultat de la conversion par ce même instrument des informations de note MIDI en données audio.\n",
      "\n",
      "\n"
     ]
    }
   ],
   "source": [
    "print(prompt)"
   ]
  },
  {
   "cell_type": "code",
   "execution_count": 17,
   "id": "6a54c74a-78fa-4684-b19b-f6bba6273cec",
   "metadata": {},
   "outputs": [],
   "source": [
    "def llm(prompt, model='gpt-4o-mini'):\n",
    "    response = client.chat.completions.create(\n",
    "        model=model,\n",
    "        messages=[{\"role\": \"user\", \"content\": prompt}]\n",
    "    )\n",
    "    \n",
    "    return response.choices[0].message.content"
   ]
  },
  {
   "cell_type": "code",
   "execution_count": 18,
   "id": "200a1d40-a113-4737-99ec-ac7e1c6114d4",
   "metadata": {},
   "outputs": [],
   "source": [
    "def rag(query, category=None, model='gpt-4o-mini'):\n",
    "    search_results = elastic_search(query, category)\n",
    "    prompt = build_prompt(query, search_results)\n",
    "    #print(prompt)\n",
    "    answer = llm(prompt, model=model)\n",
    "    return answer"
   ]
  },
  {
   "cell_type": "code",
   "execution_count": 65,
   "id": "58469b47-a3ee-4941-9466-d944c82d7265",
   "metadata": {},
   "outputs": [
    {
     "name": "stdout",
     "output_type": "stream",
     "text": [
      "Pour créer ta musique dans un home-studio, tu auras besoin des éléments suivants :\n",
      "\n",
      "1. **Ordinateur** : Un ordinateur récent, que ce soit un Mac ou un PC, capable de gérer des applications audio. Il doit avoir un processeur rapide, une carte mère avec de la capacité pour ajouter de la RAM, et suffisamment d'espace de disque.\n",
      "\n",
      "2. **DAW (Digital Audio Workstation)** : C'est le logiciel principal que tu utiliseras pour enregistrer, jouer et créer ta musique. Les options populaires incluent Ableton Live, ProTools, Logic Pro, et bien d'autres. La DAW te permet d'éditer des fichiers audio et de manipuler les sons en suivant une ligne de temps.\n",
      "\n",
      "3. **Casque audio** : Un casque de bonne qualité est essentiel pour commencer à écouter et affiner ton son, sans nécessiter tout de suite des enceintes de monitoring.\n",
      "\n",
      "4. **Interface audio (optionnelle mais recommandée à long terme)** : Bien que la plupart des ordinateurs aient une carte son intégrée, une interface audio externe rendra l'enregistrement avec des micros et des instruments plus facile et de meilleure qualité.\n",
      "\n",
      "5. **Enceintes de monitoring (optionnelles)** : Si tu prévois de faire du mixage de manière plus sérieuse, des enceintes conçues pour cela t'aideront à obtenir une réponse en fréquence plus fidèle.\n",
      "\n",
      "6. **Micro (optionnel, selon tes besoins)** : Si tu souhaites enregistrer des voix ou des instruments acoustiques, tu auras besoin d'un micro.\n",
      "\n",
      "Ces équipements de base te permettront de lancer ta création musicale. Avec le temps et l'expérience, tu pourras évaluer des matériels supplémentaires selon tes besoins spécifiques.\n",
      "\n",
      "Les trois articles recommandés pour approfondir ce sujet sont :\n",
      "1. **Comment bien débuter en MAO: le home-studio démystifié**\n",
      "2. **Par où commencer dans l’apprentissage d’une DAW pour produire sa musique?**\n",
      "3. **Deviens toi aussi producteur musical depuis ton home studio**\n"
     ]
    }
   ],
   "source": [
    "category = 'LE HOME STUDIO'\n",
    "question = 'De quel matériel ai-je besoin pour créer ma musique dans mon home-studio?'\n",
    "answer = rag(question)\n",
    "print(answer)"
   ]
  },
  {
   "cell_type": "markdown",
   "id": "73be4d02-5d0f-465b-9b75-26dac1b1cbb7",
   "metadata": {},
   "source": [
    "# Retrieval evaluation"
   ]
  },
  {
   "cell_type": "code",
   "execution_count": 148,
   "id": "286045b2-a6a9-4120-9d75-8bdf4318f18a",
   "metadata": {},
   "outputs": [
    {
     "data": {
      "text/html": [
       "<div>\n",
       "<style scoped>\n",
       "    .dataframe tbody tr th:only-of-type {\n",
       "        vertical-align: middle;\n",
       "    }\n",
       "\n",
       "    .dataframe tbody tr th {\n",
       "        vertical-align: top;\n",
       "    }\n",
       "\n",
       "    .dataframe thead th {\n",
       "        text-align: right;\n",
       "    }\n",
       "</style>\n",
       "<table border=\"1\" class=\"dataframe\">\n",
       "  <thead>\n",
       "    <tr style=\"text-align: right;\">\n",
       "      <th></th>\n",
       "      <th>question</th>\n",
       "      <th>category</th>\n",
       "      <th>chunk</th>\n",
       "      <th>article</th>\n",
       "    </tr>\n",
       "  </thead>\n",
       "  <tbody>\n",
       "    <tr>\n",
       "      <th>0</th>\n",
       "      <td>Quel est l'impact de l'IA sur la post-producti...</td>\n",
       "      <td>LA POST-PROD</td>\n",
       "      <td>4615db39-1</td>\n",
       "      <td>4615db39</td>\n",
       "    </tr>\n",
       "    <tr>\n",
       "      <th>1</th>\n",
       "      <td>Comment les outils IA simplifient-ils le trava...</td>\n",
       "      <td>LA POST-PROD</td>\n",
       "      <td>4615db39-1</td>\n",
       "      <td>4615db39</td>\n",
       "    </tr>\n",
       "    <tr>\n",
       "      <th>2</th>\n",
       "      <td>Quels avantages l'IA apporte-t-elle aux artist...</td>\n",
       "      <td>LA POST-PROD</td>\n",
       "      <td>4615db39-1</td>\n",
       "      <td>4615db39</td>\n",
       "    </tr>\n",
       "    <tr>\n",
       "      <th>3</th>\n",
       "      <td>Comment un débutant peut-il améliorer ses prod...</td>\n",
       "      <td>LA POST-PROD</td>\n",
       "      <td>4615db39-1</td>\n",
       "      <td>4615db39</td>\n",
       "    </tr>\n",
       "    <tr>\n",
       "      <th>4</th>\n",
       "      <td>Quelle est l'évolution des outils audio pour l...</td>\n",
       "      <td>LA POST-PROD</td>\n",
       "      <td>4615db39-1</td>\n",
       "      <td>4615db39</td>\n",
       "    </tr>\n",
       "  </tbody>\n",
       "</table>\n",
       "</div>"
      ],
      "text/plain": [
       "                                            question      category  \\\n",
       "0  Quel est l'impact de l'IA sur la post-producti...  LA POST-PROD   \n",
       "1  Comment les outils IA simplifient-ils le trava...  LA POST-PROD   \n",
       "2  Quels avantages l'IA apporte-t-elle aux artist...  LA POST-PROD   \n",
       "3  Comment un débutant peut-il améliorer ses prod...  LA POST-PROD   \n",
       "4  Quelle est l'évolution des outils audio pour l...  LA POST-PROD   \n",
       "\n",
       "        chunk   article  \n",
       "0  4615db39-1  4615db39  \n",
       "1  4615db39-1  4615db39  \n",
       "2  4615db39-1  4615db39  \n",
       "3  4615db39-1  4615db39  \n",
       "4  4615db39-1  4615db39  "
      ]
     },
     "execution_count": 148,
     "metadata": {},
     "output_type": "execute_result"
    }
   ],
   "source": [
    "df_question = pd.read_csv('../data/ground-truth-300.csv')\n",
    "df_question.head()"
   ]
  },
  {
   "cell_type": "code",
   "execution_count": 149,
   "id": "2d0a4048",
   "metadata": {},
   "outputs": [
    {
     "data": {
      "text/plain": [
       "{'question': \"Quel est l'impact de l'IA sur la post-production audio et musicale\",\n",
       " 'category': 'LA POST-PROD',\n",
       " 'chunk': '4615db39-1',\n",
       " 'article': '4615db39'}"
      ]
     },
     "execution_count": 149,
     "metadata": {},
     "output_type": "execute_result"
    }
   ],
   "source": [
    "ground_truth = df_question.to_dict(orient='records')\n",
    "ground_truth[0]"
   ]
  },
  {
   "cell_type": "code",
   "execution_count": 22,
   "id": "7bd63de1",
   "metadata": {},
   "outputs": [],
   "source": [
    "def hit_rate(relevance_total):\n",
    "    cnt = 0\n",
    "\n",
    "    for line in relevance_total:\n",
    "        if True in line:\n",
    "            cnt = cnt + 1\n",
    "\n",
    "    return cnt / len(relevance_total)\n",
    "\n",
    "def mrr(relevance_total):\n",
    "    total_score = 0.0\n",
    "\n",
    "    for line in relevance_total:\n",
    "        for rank in range(len(line)):\n",
    "            if line[rank] == True:\n",
    "                total_score = total_score + 1 / (rank + 1)\n",
    "\n",
    "    return total_score / len(relevance_total)"
   ]
  },
  {
   "cell_type": "markdown",
   "id": "382d1a27",
   "metadata": {},
   "source": [
    "### 1) Basic chunking, Minsearch based on the chunk_id"
   ]
  },
  {
   "cell_type": "code",
   "execution_count": 45,
   "id": "eea453c2",
   "metadata": {},
   "outputs": [],
   "source": [
    "def minsearch_search(query):\n",
    "    boost = {}\n",
    "\n",
    "    results = index.search(\n",
    "        query=query,\n",
    "        filter_dict={},\n",
    "        boost_dict=boost,\n",
    "        num_results=10\n",
    "    )\n",
    "\n",
    "    return results"
   ]
  },
  {
   "cell_type": "code",
   "execution_count": 24,
   "id": "957baa48",
   "metadata": {},
   "outputs": [],
   "source": [
    "def evaluate(ground_truth, search_function):\n",
    "    relevance_total = []\n",
    "\n",
    "    for q in tqdm(ground_truth):\n",
    "        doc_id = q['chunk']\n",
    "        results = search_function(q)\n",
    "        relevance = [d['chunk_id'] == doc_id for d in results]\n",
    "        relevance_total.append(relevance)\n",
    "\n",
    "    return {\n",
    "        'hit_rate': hit_rate(relevance_total),\n",
    "        'mrr': mrr(relevance_total),\n",
    "    }"
   ]
  },
  {
   "cell_type": "code",
   "execution_count": 25,
   "id": "63794ce1",
   "metadata": {},
   "outputs": [],
   "source": [
    "from tqdm.auto import tqdm"
   ]
  },
  {
   "cell_type": "code",
   "execution_count": 26,
   "id": "1ff8948c",
   "metadata": {},
   "outputs": [
    {
     "data": {
      "application/vnd.jupyter.widget-view+json": {
       "model_id": "f7e1cb3a46d7470dbaf545a17a8f5793",
       "version_major": 2,
       "version_minor": 0
      },
      "text/plain": [
       "  0%|          | 0/2945 [00:00<?, ?it/s]"
      ]
     },
     "metadata": {},
     "output_type": "display_data"
    },
    {
     "data": {
      "text/plain": [
       "{'hit_rate': 0.5297113752122241, 'mrr': 0.3079710027757569}"
      ]
     },
     "execution_count": 26,
     "metadata": {},
     "output_type": "execute_result"
    }
   ],
   "source": [
    "evaluate(ground_truth, lambda q: minsearch_search(q['question']))"
   ]
  },
  {
   "cell_type": "markdown",
   "id": "dc3edab1",
   "metadata": {},
   "source": [
    "### 2) Basic chunking, Minsearch based on the article_id"
   ]
  },
  {
   "cell_type": "code",
   "execution_count": 27,
   "id": "61acd428",
   "metadata": {},
   "outputs": [],
   "source": [
    "def evaluate(ground_truth, search_function):\n",
    "    relevance_total = []\n",
    "\n",
    "    for q in tqdm(ground_truth):\n",
    "        doc_id = q['article']\n",
    "        results = search_function(q)\n",
    "        \n",
    "        # Ensure that only the first relevant result counts for the MRR\n",
    "        relevance = []\n",
    "        seen_article = False\n",
    "        for d in results:\n",
    "            if d['article_id'] == doc_id and not seen_article:\n",
    "                relevance.append(True)\n",
    "                seen_article = True\n",
    "            else:\n",
    "                relevance.append(False)\n",
    "\n",
    "        relevance_total.append(relevance)\n",
    "\n",
    "    return {\n",
    "        'hit_rate': hit_rate(relevance_total),\n",
    "        'mrr': mrr(relevance_total),\n",
    "    }\n"
   ]
  },
  {
   "cell_type": "code",
   "execution_count": 28,
   "id": "bc1b265f",
   "metadata": {},
   "outputs": [
    {
     "data": {
      "application/vnd.jupyter.widget-view+json": {
       "model_id": "41faac58623540c1abaca06f09984894",
       "version_major": 2,
       "version_minor": 0
      },
      "text/plain": [
       "  0%|          | 0/2945 [00:00<?, ?it/s]"
      ]
     },
     "metadata": {},
     "output_type": "display_data"
    },
    {
     "data": {
      "text/plain": [
       "{'hit_rate': 0.5911714770797962, 'mrr': 0.4871826070552721}"
      ]
     },
     "execution_count": 28,
     "metadata": {},
     "output_type": "execute_result"
    }
   ],
   "source": [
    "evaluate(ground_truth, lambda q: minsearch_search(q['question']))"
   ]
  },
  {
   "cell_type": "markdown",
   "id": "283be245",
   "metadata": {},
   "source": [
    "### 3) Find the best boost parameters"
   ]
  },
  {
   "cell_type": "code",
   "execution_count": 115,
   "id": "30da8ae0",
   "metadata": {},
   "outputs": [],
   "source": [
    "df_validation = df_question[:100]\n",
    "df_test = df_question[100:]"
   ]
  },
  {
   "cell_type": "code",
   "execution_count": 116,
   "id": "5c06ccb8",
   "metadata": {},
   "outputs": [],
   "source": [
    "import random\n",
    "\n",
    "def simple_optimize(param_ranges, objective_function, n_iterations=10):\n",
    "    best_params = None\n",
    "    best_score = float('-inf')  # Assuming we're minimizing. Use float('-inf') if maximizing.\n",
    "\n",
    "    for _ in range(n_iterations):\n",
    "        # Generate random parameters\n",
    "        current_params = {}\n",
    "        for param, (min_val, max_val) in param_ranges.items():\n",
    "            if isinstance(min_val, int) and isinstance(max_val, int):\n",
    "                current_params[param] = random.randint(min_val, max_val)\n",
    "            else:\n",
    "                current_params[param] = random.uniform(min_val, max_val)\n",
    "        \n",
    "        # Evaluate the objective function\n",
    "        current_score = objective_function(current_params)\n",
    "        \n",
    "        # Update best if current is better\n",
    "        if current_score > best_score:  # Change to > if maximizing\n",
    "            best_score = current_score\n",
    "            best_params = current_params\n",
    "    \n",
    "    return best_params, best_score"
   ]
  },
  {
   "cell_type": "code",
   "execution_count": 117,
   "id": "425ac4a6",
   "metadata": {},
   "outputs": [],
   "source": [
    "gt_val = df_validation.to_dict(orient='records')"
   ]
  },
  {
   "cell_type": "code",
   "execution_count": 118,
   "id": "4797e158",
   "metadata": {},
   "outputs": [],
   "source": [
    "def minsearch_search(query, boost=None):\n",
    "    if boost is None:\n",
    "        boost = {}\n",
    "\n",
    "    results = index.search(\n",
    "        query=query,\n",
    "        filter_dict={},\n",
    "        boost_dict=boost,\n",
    "        num_results=10\n",
    "    )\n",
    "\n",
    "    return results"
   ]
  },
  {
   "cell_type": "code",
   "execution_count": 119,
   "id": "775ffd90",
   "metadata": {},
   "outputs": [],
   "source": [
    "param_ranges = {\n",
    "    'title': (0.0, 3.0),\n",
    "    'tags': (0.0, 3.0),\n",
    "    'chunk_text': (0.0, 3.0)\n",
    "}\n",
    "\n",
    "def objective(boost_params):\n",
    "    def search_function(q):\n",
    "        return minsearch_search(q['question'], boost_params)\n",
    "\n",
    "    results = evaluate(gt_val, search_function)\n",
    "    return results['mrr']"
   ]
  },
  {
   "cell_type": "code",
   "execution_count": 123,
   "id": "beaecfd3",
   "metadata": {},
   "outputs": [
    {
     "data": {
      "application/vnd.jupyter.widget-view+json": {
       "model_id": "c301601353fc4e7898d39df0a723e907",
       "version_major": 2,
       "version_minor": 0
      },
      "text/plain": [
       "  0%|          | 0/100 [00:00<?, ?it/s]"
      ]
     },
     "metadata": {},
     "output_type": "display_data"
    },
    {
     "data": {
      "application/vnd.jupyter.widget-view+json": {
       "model_id": "f35c94a11d4b4d83beaaa2679132c978",
       "version_major": 2,
       "version_minor": 0
      },
      "text/plain": [
       "  0%|          | 0/100 [00:00<?, ?it/s]"
      ]
     },
     "metadata": {},
     "output_type": "display_data"
    },
    {
     "data": {
      "application/vnd.jupyter.widget-view+json": {
       "model_id": "d6fbbd2f5a264866be11d15eb4cae01a",
       "version_major": 2,
       "version_minor": 0
      },
      "text/plain": [
       "  0%|          | 0/100 [00:00<?, ?it/s]"
      ]
     },
     "metadata": {},
     "output_type": "display_data"
    },
    {
     "data": {
      "application/vnd.jupyter.widget-view+json": {
       "model_id": "23a77961c4314a83a007a11d16f546ae",
       "version_major": 2,
       "version_minor": 0
      },
      "text/plain": [
       "  0%|          | 0/100 [00:00<?, ?it/s]"
      ]
     },
     "metadata": {},
     "output_type": "display_data"
    },
    {
     "data": {
      "application/vnd.jupyter.widget-view+json": {
       "model_id": "7eb20888f0e644ecb2c7ae09a75b0897",
       "version_major": 2,
       "version_minor": 0
      },
      "text/plain": [
       "  0%|          | 0/100 [00:00<?, ?it/s]"
      ]
     },
     "metadata": {},
     "output_type": "display_data"
    },
    {
     "data": {
      "application/vnd.jupyter.widget-view+json": {
       "model_id": "58286f51fef14098af64f138292d0087",
       "version_major": 2,
       "version_minor": 0
      },
      "text/plain": [
       "  0%|          | 0/100 [00:00<?, ?it/s]"
      ]
     },
     "metadata": {},
     "output_type": "display_data"
    },
    {
     "data": {
      "application/vnd.jupyter.widget-view+json": {
       "model_id": "c9d84c7f64ab46d38b0740a123851bcd",
       "version_major": 2,
       "version_minor": 0
      },
      "text/plain": [
       "  0%|          | 0/100 [00:00<?, ?it/s]"
      ]
     },
     "metadata": {},
     "output_type": "display_data"
    },
    {
     "data": {
      "application/vnd.jupyter.widget-view+json": {
       "model_id": "41eee40bb1a94b109c2ecd1de24ef0b4",
       "version_major": 2,
       "version_minor": 0
      },
      "text/plain": [
       "  0%|          | 0/100 [00:00<?, ?it/s]"
      ]
     },
     "metadata": {},
     "output_type": "display_data"
    },
    {
     "data": {
      "application/vnd.jupyter.widget-view+json": {
       "model_id": "181749fde20943aabda2be14b6fd2f70",
       "version_major": 2,
       "version_minor": 0
      },
      "text/plain": [
       "  0%|          | 0/100 [00:00<?, ?it/s]"
      ]
     },
     "metadata": {},
     "output_type": "display_data"
    },
    {
     "data": {
      "application/vnd.jupyter.widget-view+json": {
       "model_id": "ceccb8bf6e354cdca575ac209315b452",
       "version_major": 2,
       "version_minor": 0
      },
      "text/plain": [
       "  0%|          | 0/100 [00:00<?, ?it/s]"
      ]
     },
     "metadata": {},
     "output_type": "display_data"
    },
    {
     "data": {
      "application/vnd.jupyter.widget-view+json": {
       "model_id": "52214a6700f94f7eafe53e7c7166862b",
       "version_major": 2,
       "version_minor": 0
      },
      "text/plain": [
       "  0%|          | 0/100 [00:00<?, ?it/s]"
      ]
     },
     "metadata": {},
     "output_type": "display_data"
    },
    {
     "data": {
      "application/vnd.jupyter.widget-view+json": {
       "model_id": "3b390f6838b3402bb9fd52189a33b70c",
       "version_major": 2,
       "version_minor": 0
      },
      "text/plain": [
       "  0%|          | 0/100 [00:00<?, ?it/s]"
      ]
     },
     "metadata": {},
     "output_type": "display_data"
    },
    {
     "data": {
      "application/vnd.jupyter.widget-view+json": {
       "model_id": "84f12ae004a7458f8b0b302b8d869a64",
       "version_major": 2,
       "version_minor": 0
      },
      "text/plain": [
       "  0%|          | 0/100 [00:00<?, ?it/s]"
      ]
     },
     "metadata": {},
     "output_type": "display_data"
    },
    {
     "data": {
      "application/vnd.jupyter.widget-view+json": {
       "model_id": "31c833d537b44e3d9a210f5aa010c5d6",
       "version_major": 2,
       "version_minor": 0
      },
      "text/plain": [
       "  0%|          | 0/100 [00:00<?, ?it/s]"
      ]
     },
     "metadata": {},
     "output_type": "display_data"
    },
    {
     "data": {
      "application/vnd.jupyter.widget-view+json": {
       "model_id": "fd91410204c447f1a889d1e56616912b",
       "version_major": 2,
       "version_minor": 0
      },
      "text/plain": [
       "  0%|          | 0/100 [00:00<?, ?it/s]"
      ]
     },
     "metadata": {},
     "output_type": "display_data"
    },
    {
     "data": {
      "application/vnd.jupyter.widget-view+json": {
       "model_id": "5f56ce90df5a42429aaa4bd14a22248c",
       "version_major": 2,
       "version_minor": 0
      },
      "text/plain": [
       "  0%|          | 0/100 [00:00<?, ?it/s]"
      ]
     },
     "metadata": {},
     "output_type": "display_data"
    },
    {
     "data": {
      "application/vnd.jupyter.widget-view+json": {
       "model_id": "739d72d032b54479a6ca99bcc2a5eb0a",
       "version_major": 2,
       "version_minor": 0
      },
      "text/plain": [
       "  0%|          | 0/100 [00:00<?, ?it/s]"
      ]
     },
     "metadata": {},
     "output_type": "display_data"
    },
    {
     "data": {
      "application/vnd.jupyter.widget-view+json": {
       "model_id": "3b984da68e244a5daf726139b8c990f1",
       "version_major": 2,
       "version_minor": 0
      },
      "text/plain": [
       "  0%|          | 0/100 [00:00<?, ?it/s]"
      ]
     },
     "metadata": {},
     "output_type": "display_data"
    },
    {
     "data": {
      "application/vnd.jupyter.widget-view+json": {
       "model_id": "64c607f24ce24705a816cbed141ea7e3",
       "version_major": 2,
       "version_minor": 0
      },
      "text/plain": [
       "  0%|          | 0/100 [00:00<?, ?it/s]"
      ]
     },
     "metadata": {},
     "output_type": "display_data"
    },
    {
     "data": {
      "application/vnd.jupyter.widget-view+json": {
       "model_id": "b0ae11c42eb9421380f8c13150336c3b",
       "version_major": 2,
       "version_minor": 0
      },
      "text/plain": [
       "  0%|          | 0/100 [00:00<?, ?it/s]"
      ]
     },
     "metadata": {},
     "output_type": "display_data"
    },
    {
     "data": {
      "text/plain": [
       "({'title': 0.3144003830483091,\n",
       "  'tags': 0.21750500549018636,\n",
       "  'chunk_text': 1.55775214448781},\n",
       " 0.8056071428571429)"
      ]
     },
     "execution_count": 123,
     "metadata": {},
     "output_type": "execute_result"
    }
   ],
   "source": [
    "simple_optimize(param_ranges, objective, n_iterations=20)"
   ]
  },
  {
   "cell_type": "code",
   "execution_count": 124,
   "id": "5d7efeb4",
   "metadata": {},
   "outputs": [],
   "source": [
    "def minsearch_improved(query):\n",
    "    boost = {\n",
    "        'title': 0.31,\n",
    "        'tags': 0.22,\n",
    "        'chunk_text': 1.56\n",
    "    }\n",
    "\n",
    "    results = index.search(\n",
    "        query=query,\n",
    "        filter_dict={},\n",
    "        boost_dict=boost,\n",
    "        num_results=10\n",
    "    )\n",
    "\n",
    "    return results\n",
    "\n",
    "# evaluate(ground_truth, lambda q: minsearch_improved(q['question']))"
   ]
  },
  {
   "cell_type": "markdown",
   "id": "5176186f",
   "metadata": {},
   "source": [
    "### 4) Dynamic chunking size 300, overlap 50 - Minsearch, text search"
   ]
  },
  {
   "cell_type": "code",
   "execution_count": 101,
   "id": "6e104209",
   "metadata": {},
   "outputs": [
    {
     "data": {
      "application/vnd.jupyter.widget-view+json": {
       "model_id": "2a4080aecc6d478d8b68e50b60e1d795",
       "version_major": 2,
       "version_minor": 0
      },
      "text/plain": [
       "  0%|          | 0/2860 [00:00<?, ?it/s]"
      ]
     },
     "metadata": {},
     "output_type": "display_data"
    },
    {
     "data": {
      "text/plain": [
       "{'hit_rate': 0.5814685314685315, 'mrr': 0.47083888333888235}"
      ]
     },
     "execution_count": 101,
     "metadata": {},
     "output_type": "execute_result"
    }
   ],
   "source": [
    "evaluate(ground_truth, lambda q: minsearch_search(q['question']))"
   ]
  },
  {
   "cell_type": "code",
   "execution_count": 108,
   "id": "43c66696",
   "metadata": {},
   "outputs": [
    {
     "data": {
      "application/vnd.jupyter.widget-view+json": {
       "model_id": "fc8ccb4f3b554632aaf8eb566954d198",
       "version_major": 2,
       "version_minor": 0
      },
      "text/plain": [
       "  0%|          | 0/2860 [00:00<?, ?it/s]"
      ]
     },
     "metadata": {},
     "output_type": "display_data"
    },
    {
     "data": {
      "text/plain": [
       "{'hit_rate': 0.9545454545454546, 'mrr': 0.7798329448329442}"
      ]
     },
     "execution_count": 108,
     "metadata": {},
     "output_type": "execute_result"
    }
   ],
   "source": [
    "evaluate(ground_truth, lambda q: minsearch_improved(q['question']))"
   ]
  },
  {
   "cell_type": "markdown",
   "id": "8f02d98b",
   "metadata": {},
   "source": [
    "### 5) Dynamic chunking size 350, overlap 30 - Minsearch, text search"
   ]
  },
  {
   "cell_type": "code",
   "execution_count": 68,
   "id": "04bd16b4",
   "metadata": {},
   "outputs": [
    {
     "data": {
      "application/vnd.jupyter.widget-view+json": {
       "model_id": "3b07004c0e4c4d1b9598ca7dbb2ad455",
       "version_major": 2,
       "version_minor": 0
      },
      "text/plain": [
       "  0%|          | 0/2215 [00:00<?, ?it/s]"
      ]
     },
     "metadata": {},
     "output_type": "display_data"
    },
    {
     "data": {
      "text/plain": [
       "{'hit_rate': 0.6045146726862303, 'mrr': 0.4794655845784513}"
      ]
     },
     "execution_count": 68,
     "metadata": {},
     "output_type": "execute_result"
    }
   ],
   "source": [
    "evaluate(ground_truth, lambda q: minsearch_search(q['question']))"
   ]
  },
  {
   "cell_type": "code",
   "execution_count": 125,
   "id": "f78ca9d0",
   "metadata": {},
   "outputs": [
    {
     "data": {
      "application/vnd.jupyter.widget-view+json": {
       "model_id": "ceecb3eebfde4d7abcc5991170409eab",
       "version_major": 2,
       "version_minor": 0
      },
      "text/plain": [
       "  0%|          | 0/2215 [00:00<?, ?it/s]"
      ]
     },
     "metadata": {},
     "output_type": "display_data"
    },
    {
     "data": {
      "text/plain": [
       "{'hit_rate': 0.8939051918735892, 'mrr': 0.7163696298685003}"
      ]
     },
     "execution_count": 125,
     "metadata": {},
     "output_type": "execute_result"
    }
   ],
   "source": [
    "evaluate(ground_truth, lambda q: minsearch_improved(q['question']))"
   ]
  },
  {
   "cell_type": "markdown",
   "id": "8d7639da",
   "metadata": {},
   "source": [
    "### 6) Dynamic chunking - Elasticsearch, text search"
   ]
  },
  {
   "cell_type": "markdown",
   "id": "38608d2f",
   "metadata": {},
   "source": [
    "chunk size 300, overlap 50:"
   ]
  },
  {
   "cell_type": "code",
   "execution_count": 150,
   "id": "7cd8ff1e",
   "metadata": {},
   "outputs": [
    {
     "data": {
      "application/vnd.jupyter.widget-view+json": {
       "model_id": "29be6a5fddc94dc7bc8a35fd72b3a065",
       "version_major": 2,
       "version_minor": 0
      },
      "text/plain": [
       "  0%|          | 0/2860 [00:00<?, ?it/s]"
      ]
     },
     "metadata": {},
     "output_type": "display_data"
    },
    {
     "data": {
      "text/plain": [
       "{'hit_rate': 0.9629370629370629, 'mrr': 0.8279434454434451}"
      ]
     },
     "execution_count": 150,
     "metadata": {},
     "output_type": "execute_result"
    }
   ],
   "source": [
    "evaluate(ground_truth, lambda q: elastic_search(q['question'], q['category']))"
   ]
  },
  {
   "cell_type": "markdown",
   "id": "eba24db6",
   "metadata": {},
   "source": [
    "chunk size 350, overlap 30:"
   ]
  },
  {
   "cell_type": "code",
   "execution_count": 142,
   "id": "6261f23c",
   "metadata": {},
   "outputs": [
    {
     "data": {
      "application/vnd.jupyter.widget-view+json": {
       "model_id": "7957464682fa46208a27353f34239f8b",
       "version_major": 2,
       "version_minor": 0
      },
      "text/plain": [
       "  0%|          | 0/2215 [00:00<?, ?it/s]"
      ]
     },
     "metadata": {},
     "output_type": "display_data"
    },
    {
     "data": {
      "text/plain": [
       "{'hit_rate': 0.9616252821670429, 'mrr': 0.7977245691354039}"
      ]
     },
     "execution_count": 142,
     "metadata": {},
     "output_type": "execute_result"
    }
   ],
   "source": [
    "evaluate(ground_truth, lambda q: elastic_search(q['question'], q['category']))"
   ]
  },
  {
   "cell_type": "markdown",
   "id": "19281969-db02-42ae-a1a9-59c3caf86798",
   "metadata": {},
   "source": [
    "# RAG evaluation"
   ]
  },
  {
   "cell_type": "code",
   "execution_count": 83,
   "id": "015c6999-12d3-41f2-ade9-9841722e5be4",
   "metadata": {},
   "outputs": [],
   "source": [
    "prompt2_template = \"\"\"\n",
    "You are an expert evaluator for a RAG system.\n",
    "Your task is to analyze the relevance of the generated answer to the given question.\n",
    "Based on the relevance of the generated answer, you will classify it\n",
    "as \"NON_RELEVANT\", \"PARTLY_RELEVANT\", or \"RELEVANT\".\n",
    "\n",
    "Here is the data for evaluation:\n",
    "\n",
    "Question: {question}\n",
    "Generated Answer: {answer_llm}\n",
    "\n",
    "Please analyze the content and context of the generated answer in relation to the question\n",
    "and provide your evaluation in parsable JSON without using code blocks:\n",
    "\n",
    "{{\n",
    "  \"Relevance\": \"NON_RELEVANT\" | \"PARTLY_RELEVANT\" | \"RELEVANT\",\n",
    "  \"Explanation\": \"[Provide a brief explanation for your evaluation]\"\n",
    "}}\n",
    "\"\"\".strip()"
   ]
  },
  {
   "cell_type": "code",
   "execution_count": 84,
   "id": "90986137",
   "metadata": {},
   "outputs": [
    {
     "data": {
      "text/plain": [
       "2945"
      ]
     },
     "execution_count": 84,
     "metadata": {},
     "output_type": "execute_result"
    }
   ],
   "source": [
    "len(ground_truth)"
   ]
  },
  {
   "cell_type": "code",
   "execution_count": 85,
   "id": "a5306095",
   "metadata": {},
   "outputs": [
    {
     "data": {
      "text/plain": [
       "{'question': \"Quel est l'impact de l'intelligence artificielle dans la post-production audio?\",\n",
       " 'category': 'LA POST-PROD',\n",
       " 'chunk': '4615db39-1',\n",
       " 'article': '4615db39'}"
      ]
     },
     "execution_count": 85,
     "metadata": {},
     "output_type": "execute_result"
    }
   ],
   "source": [
    "record = ground_truth[0]\n",
    "record"
   ]
  },
  {
   "cell_type": "code",
   "execution_count": 87,
   "id": "7d82575b",
   "metadata": {},
   "outputs": [
    {
     "data": {
      "text/plain": [
       "'L\\'impact de l\\'intelligence artificielle (IA) dans la post-production audio est considérable et se manifeste par une amélioration des outils et processus disponibles pour les artistes, producteurs et ingénieurs du son. La démocratisation de l\\'accès à des technologies avancées permet à un plus grand nombre de créateurs de produire des œuvres de qualité professionnelle sans nécessiter une formation approfondie en ingénierie du son.\\n\\nPremièrement, l\\'IA facilite la réalisation des tâches complexes et répétitives, permettant ainsi aux artistes et producteurs de se concentrer sur les aspects créatifs de leur travail. Par exemple, des plugins d\\'IA peuvent s\\'occuper de tâches telles que le nettoyage et la séparation des pistes audio de manière rapide et efficace, ce qui allège la charge de travail des ingénieurs du son. Des technologies avancées comme le dé-mixage, où une piste audio est décomposée en différentes stems (voix, batterie, etc.), sont déjà courantes et en constante amélioration grâce à l\\'IA.\\n\\nDeuxièmement, l\\'IA modifie la manière dont les professionnels interagissent avec la technologie. Plutôt que de se concentrer seulement sur les réglages techniques, les utilisateurs peuvent donner des directives qualitatives, comme \"je veux une voix plus forte et consistante\", et laisser l\\'IA optimiser les paramètres pour obtenir le résultat souhaité. Cela marque une évolution vers des outils plus intuitifs et adaptés aux besoins individuels.\\n\\nCependant, il est essentiel de ne pas considérer ces outils comme des solutions magiques. Une compréhension basique des processus audio est toujours nécessaire pour communiquer efficacement et pour exploiter au mieux ces nouvelles technologies.\\n\\nLes trois articles les plus pertinents pour approfondir ce sujet sont :\\n1. *L’intelligence artificielle (IA) dans le studio de production audio (6/6)* - Cet article offre un aperçu détaillé de l\\'impact de l\\'IA sur la production audio et les opportunités qu\\'elle crée pour les artistes et les producteurs.\\n2. *L’intelligence artificielle (IA) dans le studio de production audio (5/6)* - Il traite spécifiquement des applications de l\\'IA en restauration audio et dé-mixage, illustrant les avancées technologiques dans ce domaine.\\n3. *L’intelligence artificielle (IA) dans le studio de production audio (1/6)* - Cet article pose les bases en définissant ce qu\\'est l\\'IA et comment elle commence à transformer les processus de production audio.'"
      ]
     },
     "execution_count": 87,
     "metadata": {},
     "output_type": "execute_result"
    }
   ],
   "source": [
    "question = record['question']\n",
    "answer_llm = rag(question)"
   ]
  },
  {
   "cell_type": "code",
   "execution_count": 88,
   "id": "bcd7bf73",
   "metadata": {},
   "outputs": [
    {
     "name": "stdout",
     "output_type": "stream",
     "text": [
      "L'impact de l'intelligence artificielle (IA) dans la post-production audio est considérable et se manifeste par une amélioration des outils et processus disponibles pour les artistes, producteurs et ingénieurs du son. La démocratisation de l'accès à des technologies avancées permet à un plus grand nombre de créateurs de produire des œuvres de qualité professionnelle sans nécessiter une formation approfondie en ingénierie du son.\n",
      "\n",
      "Premièrement, l'IA facilite la réalisation des tâches complexes et répétitives, permettant ainsi aux artistes et producteurs de se concentrer sur les aspects créatifs de leur travail. Par exemple, des plugins d'IA peuvent s'occuper de tâches telles que le nettoyage et la séparation des pistes audio de manière rapide et efficace, ce qui allège la charge de travail des ingénieurs du son. Des technologies avancées comme le dé-mixage, où une piste audio est décomposée en différentes stems (voix, batterie, etc.), sont déjà courantes et en constante amélioration grâce à l'IA.\n",
      "\n",
      "Deuxièmement, l'IA modifie la manière dont les professionnels interagissent avec la technologie. Plutôt que de se concentrer seulement sur les réglages techniques, les utilisateurs peuvent donner des directives qualitatives, comme \"je veux une voix plus forte et consistante\", et laisser l'IA optimiser les paramètres pour obtenir le résultat souhaité. Cela marque une évolution vers des outils plus intuitifs et adaptés aux besoins individuels.\n",
      "\n",
      "Cependant, il est essentiel de ne pas considérer ces outils comme des solutions magiques. Une compréhension basique des processus audio est toujours nécessaire pour communiquer efficacement et pour exploiter au mieux ces nouvelles technologies.\n",
      "\n",
      "Les trois articles les plus pertinents pour approfondir ce sujet sont :\n",
      "1. *L’intelligence artificielle (IA) dans le studio de production audio (6/6)* - Cet article offre un aperçu détaillé de l'impact de l'IA sur la production audio et les opportunités qu'elle crée pour les artistes et les producteurs.\n",
      "2. *L’intelligence artificielle (IA) dans le studio de production audio (5/6)* - Il traite spécifiquement des applications de l'IA en restauration audio et dé-mixage, illustrant les avancées technologiques dans ce domaine.\n",
      "3. *L’intelligence artificielle (IA) dans le studio de production audio (1/6)* - Cet article pose les bases en définissant ce qu'est l'IA et comment elle commence à transformer les processus de production audio.\n"
     ]
    }
   ],
   "source": [
    "print(answer_llm)"
   ]
  },
  {
   "cell_type": "code",
   "execution_count": 89,
   "id": "566e8de9",
   "metadata": {},
   "outputs": [
    {
     "name": "stdout",
     "output_type": "stream",
     "text": [
      "You are an expert evaluator for a RAG system.\n",
      "Your task is to analyze the relevance of the generated answer to the given question.\n",
      "Based on the relevance of the generated answer, you will classify it\n",
      "as \"NON_RELEVANT\", \"PARTLY_RELEVANT\", or \"RELEVANT\".\n",
      "\n",
      "Here is the data for evaluation:\n",
      "\n",
      "Question: Quel est l'impact de l'intelligence artificielle dans la post-production audio?\n",
      "Generated Answer: L'impact de l'intelligence artificielle (IA) dans la post-production audio est considérable et se manifeste par une amélioration des outils et processus disponibles pour les artistes, producteurs et ingénieurs du son. La démocratisation de l'accès à des technologies avancées permet à un plus grand nombre de créateurs de produire des œuvres de qualité professionnelle sans nécessiter une formation approfondie en ingénierie du son.\n",
      "\n",
      "Premièrement, l'IA facilite la réalisation des tâches complexes et répétitives, permettant ainsi aux artistes et producteurs de se concentrer sur les aspects créatifs de leur travail. Par exemple, des plugins d'IA peuvent s'occuper de tâches telles que le nettoyage et la séparation des pistes audio de manière rapide et efficace, ce qui allège la charge de travail des ingénieurs du son. Des technologies avancées comme le dé-mixage, où une piste audio est décomposée en différentes stems (voix, batterie, etc.), sont déjà courantes et en constante amélioration grâce à l'IA.\n",
      "\n",
      "Deuxièmement, l'IA modifie la manière dont les professionnels interagissent avec la technologie. Plutôt que de se concentrer seulement sur les réglages techniques, les utilisateurs peuvent donner des directives qualitatives, comme \"je veux une voix plus forte et consistante\", et laisser l'IA optimiser les paramètres pour obtenir le résultat souhaité. Cela marque une évolution vers des outils plus intuitifs et adaptés aux besoins individuels.\n",
      "\n",
      "Cependant, il est essentiel de ne pas considérer ces outils comme des solutions magiques. Une compréhension basique des processus audio est toujours nécessaire pour communiquer efficacement et pour exploiter au mieux ces nouvelles technologies.\n",
      "\n",
      "Les trois articles les plus pertinents pour approfondir ce sujet sont :\n",
      "1. *L’intelligence artificielle (IA) dans le studio de production audio (6/6)* - Cet article offre un aperçu détaillé de l'impact de l'IA sur la production audio et les opportunités qu'elle crée pour les artistes et les producteurs.\n",
      "2. *L’intelligence artificielle (IA) dans le studio de production audio (5/6)* - Il traite spécifiquement des applications de l'IA en restauration audio et dé-mixage, illustrant les avancées technologiques dans ce domaine.\n",
      "3. *L’intelligence artificielle (IA) dans le studio de production audio (1/6)* - Cet article pose les bases en définissant ce qu'est l'IA et comment elle commence à transformer les processus de production audio.\n",
      "\n",
      "Please analyze the content and context of the generated answer in relation to the question\n",
      "and provide your evaluation in parsable JSON without using code blocks:\n",
      "\n",
      "{\n",
      "  \"Relevance\": \"NON_RELEVANT\" | \"PARTLY_RELEVANT\" | \"RELEVANT\",\n",
      "  \"Explanation\": \"[Provide a brief explanation for your evaluation]\"\n",
      "}\n"
     ]
    }
   ],
   "source": [
    "prompt = prompt2_template.format(question=question, answer_llm=answer_llm)\n",
    "print(prompt)"
   ]
  },
  {
   "cell_type": "code",
   "execution_count": 90,
   "id": "006933b8",
   "metadata": {},
   "outputs": [],
   "source": [
    "import json"
   ]
  },
  {
   "cell_type": "code",
   "execution_count": 91,
   "id": "0b0302ac",
   "metadata": {},
   "outputs": [],
   "source": [
    "df_sample = df_question.sample(n=200, random_state=1)"
   ]
  },
  {
   "cell_type": "code",
   "execution_count": 92,
   "id": "0b5a16ed",
   "metadata": {},
   "outputs": [],
   "source": [
    "sample = df_sample.to_dict(orient='records')"
   ]
  },
  {
   "cell_type": "code",
   "execution_count": 93,
   "id": "a0a09bad",
   "metadata": {},
   "outputs": [
    {
     "data": {
      "application/vnd.jupyter.widget-view+json": {
       "model_id": "9d51df44fae44848b51ae3901d37aaa8",
       "version_major": 2,
       "version_minor": 0
      },
      "text/plain": [
       "  0%|          | 0/200 [00:00<?, ?it/s]"
      ]
     },
     "metadata": {},
     "output_type": "display_data"
    }
   ],
   "source": [
    "evaluations = []\n",
    "\n",
    "for record in tqdm(sample):\n",
    "    question = record['question']\n",
    "    answer_llm = rag(question) \n",
    "\n",
    "    prompt = prompt2_template.format(\n",
    "        question=question,\n",
    "        answer_llm=answer_llm\n",
    "    )\n",
    "\n",
    "    evaluation = llm(prompt)\n",
    "    evaluation = json.loads(evaluation)\n",
    "\n",
    "    evaluations.append((record, answer_llm, evaluation))"
   ]
  },
  {
   "cell_type": "code",
   "execution_count": 94,
   "id": "fdfa8313",
   "metadata": {},
   "outputs": [
    {
     "data": {
      "text/plain": [
       "({'question': \"Pourquoi le 32 bits float ne suffit pas avant l'enregistrement dans la DAW ?\",\n",
       "  'category': 'LE HOME STUDIO',\n",
       "  'chunk': 'e55c4a41-6',\n",
       "  'article': 'e55c4a41'},\n",
       " 'Le format 32 bits float est très utile pour le traitement audio au sein d\\'une station de travail audionumérique (DAW) car il offre une large plage dynamique et permet d’éviter le clipping pendant les manipulations internes. Cependant, il ne suffit pas avant l\\'enregistrement dans la DAW pour plusieurs raisons.\\n\\nTout d\\'abord, l\\'avantage du 32 bits float ne s\\'applique pas à la phase de l\\'enregistrement, qui se déroule encore dans le domaine analogique. Pendant cette étape, il est crucial de s\\'assurer que le signal audio ne dépasse pas le 0 dBFS pour éviter la saturation. De plus, une gestion rigoureuse des niveaux est essentielle dès le moment de l\\'enregistrement pour maintenir une bonne qualité audio et éviter des problèmes de bruit de quantification lors des conversions numériques.\\n\\nEnsuite, une fois que le signal audio est exporté hors de la DAW, l\\'avantage des 32 bits float disparaît totalement. Lors de l\\'exportation ou de tout \"bounce\", le signal est converti, ce qui peut entraîner une détérioration de la qualité si la résolution des fichiers de sortie est inférieure (par exemple, 16 ou 24 bits). \\n\\nEn résumé, bien qu\\'un DAW en 32 bits float facilite certains aspects du traitement audio, une vigilance continue sur les niveaux est nécessaire tout au long du processus de production, depuis l\\'enregistrement jusqu\\'à l\\'exportation.\\n\\nPour approfondir ce sujet, je recommande les trois articles suivants :\\n\\n1. **La gestion des niveaux (5): ta DAW en 32 bits float**\\n2. **La gestion des niveaux (6): Maîtriser la dynamique sonore**\\n3. **Par où commencer dans l’apprentissage d’une DAW pour produire sa musique?**',\n",
       " {'Relevance': 'RELEVANT',\n",
       "  'Explanation': 'The generated answer clearly explains why the 32 bits float format is not sufficient before recording in a DAW, discussing the importance of managing audio levels during the analog recording phase and addressing issues that arise when exporting the signal. It provides relevant information that directly answers the question.'})"
      ]
     },
     "execution_count": 94,
     "metadata": {},
     "output_type": "execute_result"
    }
   ],
   "source": [
    "evaluations[0]"
   ]
  },
  {
   "cell_type": "code",
   "execution_count": 95,
   "id": "dc247327",
   "metadata": {},
   "outputs": [],
   "source": [
    "df_eval = pd.DataFrame(evaluations, columns=['record', 'answer', 'evaluation'])\n",
    "\n",
    "df_eval['id'] = df_eval.record.apply(lambda d: d['chunk'])\n",
    "df_eval['question'] = df_eval.record.apply(lambda d: d['question'])\n",
    "\n",
    "df_eval['relevance'] = df_eval.evaluation.apply(lambda d: d['Relevance'])\n",
    "df_eval['explanation'] = df_eval.evaluation.apply(lambda d: d['Explanation'])\n",
    "\n",
    "del df_eval['record']\n",
    "del df_eval['evaluation']"
   ]
  },
  {
   "cell_type": "code",
   "execution_count": 96,
   "id": "1891ce2e",
   "metadata": {},
   "outputs": [
    {
     "data": {
      "text/plain": [
       "relevance\n",
       "RELEVANT           0.985\n",
       "PARTLY_RELEVANT    0.015\n",
       "Name: proportion, dtype: float64"
      ]
     },
     "execution_count": 96,
     "metadata": {},
     "output_type": "execute_result"
    }
   ],
   "source": [
    "df_eval.relevance.value_counts(normalize=True)"
   ]
  },
  {
   "cell_type": "code",
   "execution_count": 97,
   "id": "187aa368",
   "metadata": {},
   "outputs": [],
   "source": [
    "df_eval.to_csv('../data/rag-eval-gpt-4o-mini.csv', index=False)"
   ]
  },
  {
   "cell_type": "code",
   "execution_count": 99,
   "id": "3b4af5d4",
   "metadata": {},
   "outputs": [
    {
     "data": {
      "text/html": [
       "<div>\n",
       "<style scoped>\n",
       "    .dataframe tbody tr th:only-of-type {\n",
       "        vertical-align: middle;\n",
       "    }\n",
       "\n",
       "    .dataframe tbody tr th {\n",
       "        vertical-align: top;\n",
       "    }\n",
       "\n",
       "    .dataframe thead th {\n",
       "        text-align: right;\n",
       "    }\n",
       "</style>\n",
       "<table border=\"1\" class=\"dataframe\">\n",
       "  <thead>\n",
       "    <tr style=\"text-align: right;\">\n",
       "      <th></th>\n",
       "      <th>answer</th>\n",
       "      <th>id</th>\n",
       "      <th>question</th>\n",
       "      <th>relevance</th>\n",
       "      <th>explanation</th>\n",
       "    </tr>\n",
       "  </thead>\n",
       "  <tbody>\n",
       "    <tr>\n",
       "      <th>18</th>\n",
       "      <td>Pour changer le pitch naturellement dans Ablet...</td>\n",
       "      <td>173567a9-2</td>\n",
       "      <td>Quelle méthode peut-on utiliser pour changer l...</td>\n",
       "      <td>PARTLY_RELEVANT</td>\n",
       "      <td>The generated answer discusses changing pitch ...</td>\n",
       "    </tr>\n",
       "    <tr>\n",
       "      <th>31</th>\n",
       "      <td>Pour éviter les pièges du make-up gain lors de...</td>\n",
       "      <td>584d0437-3</td>\n",
       "      <td>Quels conseils professionnels peut on suivre p...</td>\n",
       "      <td>PARTLY_RELEVANT</td>\n",
       "      <td>The generated answer discusses make-up gain an...</td>\n",
       "    </tr>\n",
       "    <tr>\n",
       "      <th>146</th>\n",
       "      <td>La question concernant l'activation du mode Th...</td>\n",
       "      <td>173567a9-11</td>\n",
       "      <td>Quelles sont les étapes pour activer le mode T...</td>\n",
       "      <td>PARTLY_RELEVANT</td>\n",
       "      <td>The generated answer acknowledges the question...</td>\n",
       "    </tr>\n",
       "  </tbody>\n",
       "</table>\n",
       "</div>"
      ],
      "text/plain": [
       "                                                answer           id  \\\n",
       "18   Pour changer le pitch naturellement dans Ablet...   173567a9-2   \n",
       "31   Pour éviter les pièges du make-up gain lors de...   584d0437-3   \n",
       "146  La question concernant l'activation du mode Th...  173567a9-11   \n",
       "\n",
       "                                              question        relevance  \\\n",
       "18   Quelle méthode peut-on utiliser pour changer l...  PARTLY_RELEVANT   \n",
       "31   Quels conseils professionnels peut on suivre p...  PARTLY_RELEVANT   \n",
       "146  Quelles sont les étapes pour activer le mode T...  PARTLY_RELEVANT   \n",
       "\n",
       "                                           explanation  \n",
       "18   The generated answer discusses changing pitch ...  \n",
       "31   The generated answer discusses make-up gain an...  \n",
       "146  The generated answer acknowledges the question...  "
      ]
     },
     "execution_count": 99,
     "metadata": {},
     "output_type": "execute_result"
    }
   ],
   "source": [
    "\n",
    "df_eval[df_eval.relevance == 'PARTLY_RELEVANT']"
   ]
  }
 ],
 "metadata": {
  "kernelspec": {
   "display_name": "Python 3 (ipykernel)",
   "language": "python",
   "name": "python3"
  },
  "language_info": {
   "codemirror_mode": {
    "name": "ipython",
    "version": 3
   },
   "file_extension": ".py",
   "mimetype": "text/x-python",
   "name": "python",
   "nbconvert_exporter": "python",
   "pygments_lexer": "ipython3",
   "version": "3.12.2"
  }
 },
 "nbformat": 4,
 "nbformat_minor": 5
}
