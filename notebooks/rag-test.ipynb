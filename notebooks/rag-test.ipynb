{
 "cells": [
  {
   "cell_type": "code",
   "execution_count": 1,
   "id": "9fbd7bbe-145f-4e58-a874-b005dbed225c",
   "metadata": {},
   "outputs": [],
   "source": [
    "import pandas as pd\n",
    "import json\n",
    "import minsearch"
   ]
  },
  {
   "cell_type": "markdown",
   "id": "2454e399-424c-422e-9c60-8a83cf54b729",
   "metadata": {},
   "source": [
    "# Ingestion"
   ]
  },
  {
   "cell_type": "code",
   "execution_count": 2,
   "id": "21c60918-87b5-4156-88b7-291eb26ed85a",
   "metadata": {},
   "outputs": [],
   "source": [
    "with open('../data/arsonor_chunks_id.json', 'r', encoding='utf-8') as file:\n",
    "    documents = json.load(file)"
   ]
  },
  {
   "cell_type": "code",
   "execution_count": 3,
   "id": "11b71249-d25b-4100-b256-98e07092ebe0",
   "metadata": {},
   "outputs": [
    {
     "data": {
      "text/plain": [
       "{'article_id': '3632a3b4',\n",
       " 'title': 'L’intelligence artificielle (IA) dans le studio de production audio (5/6)',\n",
       " 'category': 'LA POST-PROD',\n",
       " 'tags': 'dé-mixage, de-noise, de-reverb, deep learning, plug-in audio, restauration audio, stems',\n",
       " 'chunk_id': '3632a3b4-11',\n",
       " 'chunk_text': 'A sa sortie en 2016, Regroover reçut plusieurs prix d’innovation et fut considéré comme le futur du sampling. Enfin, le bundle ERA , sorti en 2018, est la gamme de produits d’Accusonus qui connaît la croissance la plus rapide. Avec des plugins, comme le « Noise Remover » ou le « Voice leveler » , toujours plus nombreux et rassemblés en une seule interface, le « Audio Clean-up Assistant » , l’ERA Bundle s’impose peu à peu comme un sérieux concurrent à iZotope RX dans le domaine des logiciels de nettoyage et restauration sonore. La simplicité d’utilisation des plugins (souvent munis d’un simple potard à tourner), permet aux créateurs débutants et professionnels d’améliorer instantanément leurs enregistrements audio, pour une réparation audio rapide et efficace. Le bundle ERA de Accusonus Les Zynaptiq Un-Series: Unfilter, Unveil, Unchirp, Unmix Drums Spécialiste dans les algorithmes audio IA avancés, il est logique que Zynaptiq propose une série de plugins performants dans la réparation et restauration sonore. Au-delà de leur fonction principale, ces plugins se révèlent particulièrement intéressants pour leur potentiel en sound design et expérimentation sonore. Unchirp, Unfilter et Unveil de Zynaptiq Par exemple, Unchirp est un plug-in de restauration audio ayant subi un encodage à bas débit ou avec perte. Il supprime les artefacts les plus désagréables et rétablit les plus hautes fréquences perdues. Mais en allant plus loin, c’est aussi un outil qui redonne du peps au transitoires suite à un traitement excessif'}"
      ]
     },
     "execution_count": 3,
     "metadata": {},
     "output_type": "execute_result"
    }
   ],
   "source": [
    "documents[15]"
   ]
  },
  {
   "cell_type": "code",
   "execution_count": 4,
   "id": "46d3d15f-2c46-47ed-a0ac-1df6d3f56159",
   "metadata": {},
   "outputs": [],
   "source": [
    "index = minsearch.Index(\n",
    "    text_fields=['title', 'tags', 'chunk_text'],\n",
    "    keyword_fields=['article_id', 'category', 'chunk_id']\n",
    ")"
   ]
  },
  {
   "cell_type": "code",
   "execution_count": 5,
   "id": "376cc4c0-efd8-4437-ba79-2de0a7a02265",
   "metadata": {},
   "outputs": [
    {
     "data": {
      "text/plain": [
       "<minsearch.Index at 0x1d38714b2f0>"
      ]
     },
     "execution_count": 5,
     "metadata": {},
     "output_type": "execute_result"
    }
   ],
   "source": [
    "index.fit(documents)"
   ]
  },
  {
   "cell_type": "markdown",
   "id": "7ad4c969-765d-4ad2-b773-30cd5a790bf9",
   "metadata": {},
   "source": [
    "# RAG flow"
   ]
  },
  {
   "cell_type": "code",
   "execution_count": 10,
   "id": "62f684d0-f0d5-46fd-8d0a-5e5fbfe7c3b8",
   "metadata": {},
   "outputs": [],
   "source": [
    "from openai import OpenAI\n",
    "\n",
    "client = OpenAI()"
   ]
  },
  {
   "cell_type": "code",
   "execution_count": 14,
   "id": "0dd6789d-dbcd-4bb8-a19c-70213e286f05",
   "metadata": {},
   "outputs": [],
   "source": [
    "query = 'De quel matériel ai-je besoin pour créer ma musique dans mon home-studio?'"
   ]
  },
  {
   "cell_type": "code",
   "execution_count": 6,
   "id": "c73c08c8-ce03-43ec-ad67-f9cad23e0d23",
   "metadata": {},
   "outputs": [
    {
     "data": {
      "text/plain": [
       "\"Créer une musique dans un home-studio nécessite un certain équipement pour garantir une qualité audio satisfaisante. Voici une liste des matériels essentiels pour commencer :\\n\\n### 1. **Ordinateur**\\n   - Un ordinateur puissant (PC ou Mac) capable de faire tourner un logiciel de production audio (DAW).\\n\\n### 2. **Logiciel de Production Audio (DAW)**\\n   - Choisissez un logiciel tel que Ableton Live, FL Studio, Logic Pro, Cubase, ou Pro Tools.\\n\\n### 3. **Interface Audio**\\n   - Permet de connecter des instruments et des microphones à votre ordinateur tout en assurant une meilleure qualité sonore.\\n\\n### 4. **Moniteurs de Studio**\\n   - Des enceintes de monitoring pour écouter votre musique de manière précise (par exemple, KRK, Yamaha, ou JBL).\\n\\n### 5. **Casque Audio**\\n   - Un bon casque de studio pour un suivi audio précis (par exemple, Sennheiser, Audio-Technica).\\n\\n### 6. **Microphone**\\n   - Un micro de bonne qualité pour enregistrer des voix ou des instruments (par exemple, un micro dynamique ou à condensateur).\\n\\n### 7. **Clavier MIDI**\\n   - Pour composer et jouer des instruments virtuels à l'aide de votre DAW.\\n\\n### 8. **Pédales et Effets**\\n   - Si vous travaillez avec des guitares ou d'autres instruments, des pédales d'effet peuvent être utiles.\\n\\n### 9. **Câbles et Accessoires**\\n   - Câbles audio, supports pour microphones, filtres anti-pop, etc.\\n\\n### 10. **Traitement Acoustique**\\n   - Des panneaux acoustiques ou des absorbeurs pour améliorer l'acoustique de votre pièce.\\n\\n### 11. **Échantillons et Plugins**\\n   - Des bibliothèques d'échantillons et des plugins d'effet pour enrichir votre production (synthétiseurs virtuels, réverbération, compression, etc.).\\n\\n### 12. **Station de travail ergonomique**\\n   - Un bon bureau et une chaise confortable pour travailler longtemps sans fatigue.\\n\\n### Bonus : **Formation et Tutoriels**\\n - Investir du temps dans des tutoriels en ligne ou des cours pour se familiariser avec le matériel et le logiciel.\\n\\nCela étant dit, vous pouvez commencer avec un équipement de base et l’étoffer au fur et à mesure que vous progressez et que vos besoins évoluent.\""
      ]
     },
     "execution_count": 6,
     "metadata": {},
     "output_type": "execute_result"
    }
   ],
   "source": [
    "response = client.chat.completions.create(\n",
    "        model='gpt-4o-mini',\n",
    "        messages=[{\"role\": \"user\", \"content\": query}]\n",
    "    )\n",
    "    \n",
    "response.choices[0].message.content"
   ]
  },
  {
   "cell_type": "code",
   "execution_count": 11,
   "id": "297ea691-22dd-4982-abd3-4104f6467a46",
   "metadata": {},
   "outputs": [],
   "source": [
    "def search(query):\n",
    "    boost = {}\n",
    "\n",
    "    results = index.search(\n",
    "        query=query,\n",
    "        filter_dict={},\n",
    "        boost_dict=boost,\n",
    "        num_results=30\n",
    "    )\n",
    "\n",
    "    return results"
   ]
  },
  {
   "cell_type": "code",
   "execution_count": 12,
   "id": "460e2c4b-d2b5-416a-aeb8-b2a503f8c448",
   "metadata": {},
   "outputs": [],
   "source": [
    "prompt_template = \"\"\"\n",
    "You're an audio engineer and sound designer instructor for beginners.\n",
    "You're particularly specialized in audio home-studio set-up, computer music production and audio post-production in general (editing, mixing and mastering). \n",
    "Answer the QUESTION based on the CONTEXT from our arsonor knowledge database (articles).\n",
    "Use only the facts from the CONTEXT when answering the QUESTION.\n",
    "Finally add in your response the top 3 articles of arsonor (refer to the 'title') that are the best to read for answering this question.\n",
    "\n",
    "QUESTION: {question}\n",
    "\n",
    "CONTEXT:\n",
    "{context}\n",
    "\"\"\".strip()\n",
    "\n",
    "entry_template = \"\"\"\n",
    "article title: {title}\n",
    "article keywords: {tags}\n",
    "content: {chunk_text}\n",
    "\"\"\".strip()\n",
    "\n",
    "def build_prompt(query, search_results):\n",
    "    context = \"\"\n",
    "    \n",
    "    for doc in search_results:\n",
    "        context = context + entry_template.format(**doc) + \"\\n\\n\"\n",
    "\n",
    "    prompt = prompt_template.format(question=query, context=context).strip()\n",
    "    return prompt"
   ]
  },
  {
   "cell_type": "code",
   "execution_count": 15,
   "id": "6383065f-7541-4718-8c05-b577ade7d377",
   "metadata": {},
   "outputs": [],
   "source": [
    "search_results = search(query)\n",
    "prompt = build_prompt(query, search_results)"
   ]
  },
  {
   "cell_type": "code",
   "execution_count": 16,
   "id": "a90e3571-822d-457d-815a-38530f98c112",
   "metadata": {},
   "outputs": [
    {
     "name": "stdout",
     "output_type": "stream",
     "text": [
      "You're an audio engineer and sound designer instructor for beginners.\n",
      "You're particularly specialized in audio home-studio set-up, computer music production and audio post-production in general (editing, mixing and mastering). \n",
      "Answer the QUESTION based on the CONTEXT from our arsonor knowledge database (articles).\n",
      "Use only the facts from the CONTEXT when answering the QUESTION.\n",
      "Finally add in your response the top 3 articles of arsonor (refer to the 'title') that are the best to read for answering this question.\n",
      "\n",
      "QUESTION: De quel matériel ai-je besoin pour créer ma musique dans mon home-studio?\n",
      "\n",
      "CONTEXT:\n",
      "article title: Comment bien débuter en MAO: le home-studio démystifié\n",
      "article keywords: DAW, hardware, home-studio, MAO, matériel audio, plugin, software\n",
      "content: trouveras toujours quelqu’un pour te montrer ses 50 synthétiseurs analogiques, ses 10 boîtes à rythmes, ses 3 ordinateurs et quelques interfaces audio multi-pistes avec leurs micros, le tout pour plus de 10000€. La vérité : Pour commencer, tu n’as besoin d’aucune machine autre qu’un simple ordinateur. L’autre vérité : Pour créer du grand art, tu n’as toujours pas besoin d’appareil en plus. I - Ce qu'il te faut dans ton home studio 1) L'ordinateur Oui celui que tu utilises en ce moment fera sûrement l’affaire. Outre l’éternel débat Mac ou PC, aujourd’hui, si ton ordinateur, quel qu’il soit, est relativement récent, tu ne devrais pas avoir trop de problèmes pour travailler de l’audio au départ. Voici tout de même quelques recommandations importantes : – S’assurer d’avoir un processeur rapide et fiable et une carte mère qui possède suffisamment de place pour y ajouter de la RAM (mémoire vive). Anticipes l’avenir, tes besoins iront crescendo au fur et à mesure que tu seras impliqué dans la musique numérique. – Suivant tes objectifs, il sera préférable de garder ton ordinateur uniquement pour la musique et donc de le configurer spécifiquement pour cela. Sois réaliste et vérifies si ta machine sera capable de supporter tous tes logiciels musicaux en plus d’autres applications que tu possèdes déjà. Attention avec les PC avec notamment l’antivirus qui prend beaucoup de ressources. Personnellement j’ai un macbook avec le strict minimum, par exemple aucun jeu ou autre application\n",
      "\n",
      "article title: Comment bien débuter en MAO: le home-studio démystifié\n",
      "article keywords: DAW, hardware, home-studio, MAO, matériel audio, plugin, software\n",
      "content: La MAO (Musique Assistée par Ordinateur) est en vogue depuis l’ère du numérique. Un ordinateur peut devenir facilement un centre de production musicale et audiovisuelle. Si en plus c’est un portable, te voilà à la tête d’un studio d’enregistrement mobile! Il est néanmoins nécessaire de comprendre le cheminement du signal audio et les divers éléments constituant un véritable petit studio. Un ordinateur c’est déjà pas mal mais il ne reste qu’un support. Il faut ensuite les éléments qui vont permettre de faire rentrer l’audio si on veut enregistrer des sons extérieurs, les manipuler puis les ressortir pour finalement pouvoir écouter du mieux possible. Dans l’univers de la MAO, tu découvriras vite une jungle de matériels et de fabricants divers où il sera facile de s’y perdre ou de se décourager. Aussi, je n’aborderai pas ici le détail des marques, prix et caractéristiques de chaque élément, le but de l’article étant surtout de présenter un aperçu global de ce qui constitue un home-studio avant qu’on entre dans le vif du sujet. Le home studio, de l'audio professionnel à domicile Je sais que pour la plupart des novices cet univers de l’audio peut paraître effrayant, surtout à la vue de certains studios suréquipés ou à la lecture d’un article sur la dernière machine en vogue dans un journal spécialisé. C’est sûr tu trouveras toujours quelqu’un pour te montrer ses 50 synthétiseurs analogiques, ses 10 boîtes à rythmes, ses 3 ordinateurs et quelques\n",
      "\n",
      "article title: Comment bien débuter en MAO: le home-studio démystifié\n",
      "article keywords: DAW, hardware, home-studio, MAO, matériel audio, plugin, software\n",
      "content: tout analogique, des unités de traitement externes étaient patchées (physiquement) sur la console. Aujourd’hui, grâce au développement du numérique et des algorithmes appliqués aux données audio, ces unités ont été peu à peu remplacées par des plugins, soit des logiciels, souvent développés par des sociétés tierces, s’intégrant directement dans la DAW. Ainsi, plus besoin de s’encombrer de gros matériel physique couteux, tout peut être intégré dans ton ordinateur. Plusieurs formats existent: AU (Audio Units chez Apple), AAX (format spécifique à Avid ProTools) et VST/VSTi (Virtual Studio Technology de Steinberg): standard répandu de plugin d’effets et d’instruments virtuels. La plupart des STAN les plus populaires aujourd’hui supportent ces formats. Encore une fois, dans la jungle des plugins il est facile de s’y perdre. Du simple outil d’édition, de traitement audio ou de visualisation aux simulateurs de sons spécifiques en passant par les synthétiseurs et échantillonneurs sous forme logicielle, il en existe à toutes les sauces et pour tous les goûts. Par exemple, beaucoup de sociétés d’instruments réels produisent maintenant des émulations logicielles de leur gamme jusqu’à permettre de recréer des orchestres au complet. Autre modèle à la mode, le simulateur ou modeleur: tu as une guitare ou un micro d’entrée de gamme? Pas de souci, un modèle logiciel d’ampli-guitare ou de microphones va te permettre d’obtenir le son d’un ampli-guitare prestigieux ou la courbe de réponse caractéristique de microphones de studio réputés! Ou encore, tu n’aimes pas le son froid et\n",
      "\n",
      "article title: Comment bien débuter en MAO: le home-studio démystifié\n",
      "article keywords: DAW, hardware, home-studio, MAO, matériel audio, plugin, software\n",
      "content: Presonus (Studio One), Cockos (Reaper), Ableton (Live), Propellerhead (Reason), Image-Line (FL Studio), … et j’en oublie d’autres…. Là aussi, inutile de rentrer ici dans l’analyse du meilleur choix à faire, pour quelle utilisation spécifique, etc… Saches simplement que tous ces séquenceurs ont leur propre spécificité que tu peux aller vérifier par toi-même. Ils reposent tous sur le même principe décrit auparavant. Les éditeurs cités étant très actifs, leur version du logiciel est en évolution permanente (par exemple certains auparavant seulement sur Mac ou PC, fonctionnent maintenant sur les deux, enfin pas pour Apple), si bien qu’aujourd’hui on peut dire plus ou moins qu’ils se valent tous. 3) Un casque Qui dit audio dit système d’écoute (forcément!). Mais il ne faut pas s’inquiéter de savoir quel niveau de gamme acheter pour le moment. Au début, tu ne vas peut être pas être impliqué de suite dans du mixage ou mastering professionnel. Donc un casque audio de bonne qualité, connecté à la sortie mini jack de ton ordinateur suffit pour commencer à se familiariser avec ta DAW et commencer à produire avec les sons internes à celle-ci. 4) Tes oreilles II - Matériel optionnel au début Pas indispensables à ton apprentissage pour démarrer, les éléments suivants seront tout de même à considérer une fois que tu seras apte à produire un travail de qualité professionnelle: 1) La carte son externe ou interface audio Il s’agit du cerveau traitant des données audio entrant\n",
      "\n",
      "article title: Comment bien débuter en MAO: le home-studio démystifié\n",
      "article keywords: DAW, hardware, home-studio, MAO, matériel audio, plugin, software\n",
      "content: moniteurs » ou haut-parleurs professionnels sont le dernier maillon de la chaîne d’enregistrement. Pour ceux qui veulent faire leur propre mixage de leurs productions, une réponse en fréquence plate en reproduction du son est indispensable. Cela veut dire une bien meilleure précision par rapport à un matériel Hifi grand public. En effet, le Hifi classique augmente sûrement artificiellement le son dans les basses (fonction Loudness notamment) pour que ça « sonne » mieux. Néanmoins, pour de la production professionnelle, il sera vital d’avoir une écoute critique d’un son reproduit aussi fidèlement que possible. Des enceintes Hifi risquent de t’induire en erreur en te faisant penser qu’une correction est nécessaire dans les fréquences basses alors qu’en fait elles sont déjà amplifiées par les enceintes elles-mêmes. Attention: Inutile de se précipiter sur du très haut de gamme sachant que la qualité du son dépendra aussi et surtout de ton environnement de travail. Si par exemple tu travailles dans ta chambre, pas du tout traitée acoustiquement, tu auras beau avoir le nec plus ultra des moniteurs, cela n’empêchera pas ta musique de sonner mal! Autant d’abord se pencher sérieusement sur le traitement acoustique de son local ou alors penses à enregistrer ou finaliser ton projet dans un studio professionnel. Mais on n’en est pas encore là… 3) Un ou plusieurs micros Si au lieu d’utiliser des échantillons, boucles ou autre instrument MIDI, tu veux t’enregistrer (toi-même ou quelqu’un d’autre ou le monde réel\n",
      "\n",
      "article title: Comment bien débuter en MAO: le home-studio démystifié\n",
      "article keywords: DAW, hardware, home-studio, MAO, matériel audio, plugin, software\n",
      "content: ou la courbe de réponse caractéristique de microphones de studio réputés! Ou encore, tu n’aimes pas le son froid et petit du numérique? Pas de problème, un émulateur permet de recréer le son chaud du traitement analogique. Tout devient possible! Mais en attendant, saches que toutes les DAW ont déjà leur son propre avec leurs plugins intégrés. Donc inutile au départ, et c’est là le piège!, de se laisser tenter par toute sorte de plugin externe alors que la DAW que tu as en main te propose déjà des possibilités énormes, surtout si tu commences juste. Conclusion: S'équiper c'est bien, savoir s'en servir c'est mieux! De nos jours, juste un ordinateur portable, la DAW et un casque constituent une solution supérieure en possibilités à des structures professionnelles d’il y a quelques années.. Et surtout n’achètes pas trop cher: la plupart du matériel cité ici peut se trouver pour moins de 100€. Un micro à condensateur est très abordable de nos jours et il n’y a aucune raison pour acheter celui qui en vaut 1000. Evidemment si on en a les moyens, on sera vite tenté de se ruer sur le dernier plugin du son qui tue. Si je peux te donner un conseil, unanime: ne cède pas à la course à l’armement. Posséder beaucoup de matériels et plug-ins en tout genre t’offrira plus d’outils pour travailler mais tu ne les maîtriseras pas tous. Il vaut mieux avoir moins d’équipements que\n",
      "\n",
      "article title: Comment bien débuter en MAO: le home-studio démystifié\n",
      "article keywords: DAW, hardware, home-studio, MAO, matériel audio, plugin, software\n",
      "content: l’enregistrement analogique: les lignes de temps permettent de voir tes enregistrements (ou boucles audio) comme des séquences d’évènements individuels sous la représentation graphique de la forme d’onde sonore ou le nombre d’évènements musicaux. Et chacune de ces boucles est éditable de toutes les manières possibles. D’ailleurs, les opérations simples de « glisser/déposer » et « copier/couper/coller » s’opèrent dans la ligne de temps de la même manière qu’avec un traitement de texte! Exemple de vue sur la timeline (fichier audio et midi) Le concept de ligne de temps est commun à tout logiciel de production audio ou musique et même de vidéo et animation, en fait pour tout travail créatif sur des éléments inscrits dans la durée. La plupart de ces stations créatives te proposent aussi de les utiliser comme enregistreurs multipistes, ajoutant encore plus de flexibilité. Les possibilités sont infinies. —> édition non destructive Le principe est qu’à l’ouverture d’une session dans la DAW, tu références simplement un fichier audio. Après la sauvegarde de ta session avec toutes les modifications et traitements sonores apportés, ton fichier audio original utilisé pour la session n’est pas altéré. —> quel logiciel DAW? Aujourd’hui, l’offre en matière de DAW se base essentiellement sur les éditeurs suivants: Avid (ProTools) Apple (Logic Pro, Garageband), Steinberg (Cubase), MOTU (Digital Performer), Magix (Samplitude, Music Maker), Cakewalk/Roland (Sonar), Presonus (Studio One), Cockos (Reaper), Ableton (Live), Propellerhead (Reason), Image-Line (FL Studio), … et j’en oublie d’autres…. Là aussi, inutile\n",
      "\n",
      "article title: Comment bien débuter en MAO: le home-studio démystifié\n",
      "article keywords: DAW, hardware, home-studio, MAO, matériel audio, plugin, software\n",
      "content: qui prend beaucoup de ressources. Personnellement j’ai un macbook avec le strict minimum, par exemple aucun jeu ou autre application gourmande en énergie n’y est installée (à part tout ce qui est lié à la musique bien sûr). Configurations minimales recommandées: Processeur Intel i5 minimum, i7 idéalement; Multicore Processeur (1,5 GHz, idéalement 2,5 GHz ou plus) RAM (mémoire vive): 4 Go et plus, les DAW (voir point 2) en sont gourmandes, prévoir de possibles extensions Avoir suffisamment d’espace sur votre disque dur (quelques 100 Go pour commencer), prévoir un disque dur externe par la suite (SSD si possible) 2) Le séquenceur STAN (Station Audionumérique) ou DAW (pour Digital Audio Workstation) Notre véritable outil de travail: Si l’ordinateur n’est que le support, la DAW est l’instrument = interface logicielle de création/édition d’évènements musicaux par rapport à une ligne de temps. Elle a remplacée les enregistreurs, consoles de mixage et rack d’effets d’autrefois et offre une large gamme d’instruments virtuels intégrés, synthétiseurs logiciels et échantillonneurs. Vue de l'interface de la DAW Ableton Live Avec ça, tu vas pouvoir ouvrir n’importe quel fichier audio puis le traiter et le manipuler de toutes les manières possibles et imaginables, à partir d’un système de bouclage sur une timeline (littéralement « ligne de temps »). C’est ce qui différencie le son et la musique numérique de l’enregistrement analogique: les lignes de temps permettent de voir tes enregistrements (ou boucles audio) comme des séquences d’évènements individuels sous\n",
      "\n",
      "article title: Comment bien débuter en MAO: le home-studio démystifié\n",
      "article keywords: DAW, hardware, home-studio, MAO, matériel audio, plugin, software\n",
      "content: de qualité professionnelle: 1) La carte son externe ou interface audio Il s’agit du cerveau traitant des données audio entrant et sortant de la DAW. La majeure partie des ordinateurs modernes sont livrés avec une carte son intégrée qui peut gérer de l’audio haute définition. Toutefois, selon tes besoins, tu seras amené à acquérir une interface audio de haute qualité (connectée par USB pour les moins chères, ou par Thunderbolt). Si tu veux enregistrer avec un micro ou une guitare, ou écouter avec des enceintes, ce sera le seul point où gérer les raccordements externes (si tu n’utilises pas de console de mixage ou autre studio numérique intégré) car l’une de ses fonctions de base est de convertir les signaux analogiques (créés par un micro) en données numériques compréhensibles par ton ordinateur. Donc le nombre d’entrées et de sorties de l’interface audio est sa caractéristique principale: si tu n’utilises qu’un ou deux micros (ou entrée ligne) pour enregistrer et écoute sur une paire d’enceinte, alors une interface à 2 entrées et 2 sorties suffit amplement et se connecte typiquement par USB. Mais si ton objectif est d’enregistrer tout un groupe en même temps (et notamment une batterie), il te faudra une interface avec de multiples entrées, se connectant en USB3 ou thunderbolt). 2) Une paire d'enceintes de monitoring Les « moniteurs » ou haut-parleurs professionnels sont le dernier maillon de la chaîne d’enregistrement. Pour ceux qui veulent faire leur propre\n",
      "\n",
      "article title: Comment bien débuter en MAO: le home-studio démystifié\n",
      "article keywords: DAW, hardware, home-studio, MAO, matériel audio, plugin, software\n",
      "content: lieu d’utiliser des échantillons, boucles ou autre instrument MIDI, tu veux t’enregistrer (toi-même ou quelqu’un d’autre ou le monde réel en général), alors le micro devient le premier maillon de la chaîne d’enregistrement. Là aussi, le choix est incommensurablement vaste. Il en existe à tous les prix, du plus modique au plus inabordable, et de tout type suivant l’utilisation qu’on en a (chant, type d’instrument, ambiance…). III - A envisager plus tard 1) Un clavier ou contrôleur MIDI ou surface de contrôle, connectée à ta DAW, va te permettre de « mettre les mains » et le geste sur ton mix. En effet, pour commencer, utiliser sa souris ou trackpad et son clavier c’est suffisant. C’est bien gentil tout ça mais une fois la main mise sur le logiciel, nous aurons rapidement l’envie de manipuler nos sons à l’aide de faders ou autres « potards » et boutons divers et donc de se servir d’un véritable « instrument ». Cela sera particulièrement utile dans des conditions Live. Contrôleur Push d'Ableton Live Là encore il en existe de toutes sortes (keyboard comme un piano ou Pads), pour des usages plus ou moins spécifiques: faire très attention à la compatibilité avec la DAW. Mais de nos jours, la majorité est en plug’n’play par USB. 2) Plugins et instruments virtuels A l’époque du tout analogique, des unités de traitement externes étaient patchées (physiquement) sur la console. Aujourd’hui, grâce au développement du numérique et\n",
      "\n",
      "article title: Comment bien débuter en MAO: le home-studio démystifié\n",
      "article keywords: DAW, hardware, home-studio, MAO, matériel audio, plugin, software\n",
      "content: genre t’offrira plus d’outils pour travailler mais tu ne les maîtriseras pas tous. Il vaut mieux avoir moins d’équipements que l’on va utiliser pleinement plutôt qu’une tonne de machines dont on n’a pas la moindre idée de l’utilisation correcte. Il y aura toujours un nouvel appareil trop cool à acheter. Sois sélectif et minimaliste! C’est ton porte-monnaie et tes mix qui te diront merci. De loin le plus important pour commencer: apprends à utiliser ta DAW de fond en comble! Pas seulement tous les effets et outils qui vont avec mais aussi les raccourcis clavier, savoir où se situe tous les éléments, etc… Une fois ta DAW bien maîtrisée, tu deviendras inarrêtable!\n",
      "\n",
      "article title: Par où commencer dans l’apprentissage d’une DAW pour produire sa musique?\n",
      "article keywords: apprentissage, Audio, composition, DAW, home-studio, MIDI, production musicale\n",
      "content: Si comme moi, tu as décidé un jour de produire et mixer ta propre musique, tu es forcément passé par l’étape d’apprentissage d’une DAW. Oui, ce que j’appelle DAW (« Digital Audio Workstation ») , c’est la station audio-numérique (donc STAN en français), soit Le logiciel audio au centre de toutes les opérations du home-studio. Pour ce premier article de l’année, il me tenait à cœur de revenir aux fondamentaux. A savoir, donner une vision plus claire à destination de tout débutant qui souhaite se lancer dans l’aventure. Car si tu es confronté de près ou de loin à la prise en main d’une DAW tout en ne sachant pas par quel bout commencer , alors cet article est fait pour toi! Je t’y donne des pistes qui m’ont personnellement permis de faire un bond en avant dans mon évolution. Cela tombe bien car cet article fait parti de l’événement inter-blogueurs “quand j’ai compris ça, j’ai fait un bond en avant dans mon évolution !” organisé par Cazimir Costea du blog Libérer Son Piano . Ce blog, dont j ’apprécie beaucoup les conseils et analyses de Cazimir, t’aide à libérer ton potentiel au piano (et tu verras dans la suite de cet article en quoi cela te serait utile). Pour bien comprendre la complexité d’une DAW, il faut d’abord revenir aux origines du home-studio: L'avènement du home-studio et son effet pervers L’apprentissage d’une DAW est donc l’étape incontournable de tout\n",
      "\n",
      "article title: Par où commencer dans l’apprentissage d’une DAW pour produire sa musique?\n",
      "article keywords: apprentissage, Audio, composition, DAW, home-studio, MIDI, production musicale\n",
      "content: plus satisfaisant que de finir sa propre musique et que les gens l’apprécient. Les récompenses l’emportent de loin sur la frustration. Si tu cherches un passe-temps facile, ce n’est pas fait pour toi. Mais si tu cherches quelque chose qui aura un impact positif sur ta vie, te fera réfléchir de manière critique et artistique et te donnera la joie de créer quelque chose, alors fonce. Mais avant, il est nécessaire de faire le point sur quelques interrogations issues de croyances limitantes sans fondements et qui freinent ton évolution: → J'ai pas d'expérience en musique. Est-ce vraiment fait pour moi? Oui! Beaucoup de tes producteurs préférés ont commencé à produire sans expérience musicale préalable. Bien sûr, cela aide, mais tu peux acquérir des compétences en « songwriting » et en écriture de mélodies et harmonisation comme on va le voir dans la suite de cet article. → Je n'ai pas assez de moyens pour tout le matériel que cela nécessite Mon avis à destination des novices dans le domaine est de ne pas se soucier de ça pour commencer. Comme je l’ai dit, tout commence avec un ordinateur et une DAW (tu peux aussi aller revoir cet article: comment bien débuter en MAO ). Il est largement possible de commencer avec une version d’essai gratuite ou une version simplifiée de la DAW à prix réduit voire gratuitement là encore. Reste à pouvoir écouter le son en sortie: un casque décent\n",
      "\n",
      "article title: Deviens toi aussi producteur musical depuis ton home studio\n",
      "article keywords: home-studio, ingénieur du son, MAO, production musicale\n",
      "content: Avis à tous les passionnés de musique, c’est avec grand plaisir que j’ouvre ce blog afin de partager ma passion de la MAO (Musique Assistée par Ordinateur) et du home studio , de la création au mixage audio. Alors tu te demandes sûrement… … Qu’est-ce que Arsonor? Contexte De nos jours, la musique est omniprésente. Les médias traditionnels (radio, télé) et surtout maintenant Internet et les réseaux sociaux nous font découvrir de nouveaux artistes tous les jours. Des sites comme Soundcloud ou Bandcamp sont absolument remplis de création de tout bords de façon continue. Quant à Youtube , c’est devenu la plus grande plateforme d’écoute de musique en ligne où il est devenu très facile d’écouter et de publier. Depuis quelques années, le monde de la création et de la production musicale s’est considérablement ouvert grâce à l’évolution ininterrompue et considérable de l’informatique, l’émergence d’internet à haut débit et le développement des échanges de fichier à grande échelle. Par le passé, les premiers home studio pouvaient ressembler à un véritable arsenal où s’enchevêtraient câbles, patchs et racks remplis de matériel, et le tout à un coût exorbitant! Aujourd’hui tout commence avec un simple ordinateur et un casque car le matériel a été remplacé par son équivalent logiciel. De plus en plus d’artistes émergent en composant chez eux, depuis leur home studio avant de finaliser leurs projets dans un studio professionnel (voire toujours depuis chez soi) . On parle alors de\n",
      "\n",
      "article title: Par où commencer dans l’apprentissage d’une DAW pour produire sa musique?\n",
      "article keywords: apprentissage, Audio, composition, DAW, home-studio, MIDI, production musicale\n",
      "content: aux origines du home-studio: L'avènement du home-studio et son effet pervers L’apprentissage d’une DAW est donc l’étape incontournable de tout « home-studiste ». On retrouve même la DAW dans tout studio de production musicale professionnel actuel. Elle permet en effet à un seul ordinateur polyvalent d’émuler toutes les fonctions à la fois de routage, d’enregistrement, de traitement et de mixage de l’audio. Toutes ces fonctions étaient autrefois assurées par des unités matérielles ‘hardware’. La constante amélioration dans la fiabilité et les fonctionnalités des traitements numériques et du stockage des données informatiques au cours des 20 dernières années a permis à la DAW de largement les remplacer. Si nécessaire, la connexion au monde analogique intervient via une interface audio : un appareil comportant des prises d’entrée/sortie (E/S) audio et les convertisseurs du signal analogique vers numérique (ADC) et vice-versa (DAC). Tout cela conjugué aux prix en baisse, la production musicale est devenue beaucoup plus accessible . Une musique de qualité peut se créer sur un ordinateur portable standard, sans hardware coûteux. Vue de la DAW Protools sur lécran d'ordinateur Rôle(s) du producteur musical moderne Mais cette tendance vers une « simplification » des traitements audio a en même temps engendré un effet pervers: la polyvalence nécessaire dans les tâches à accomplir. Selon la définition traditionnelle, le producteur supervise, gère et guide le processus d’enregistrement et de production d’une chanson. Pour des productions de haut calibre (pense Top 40, musique commerciale…), on\n",
      "\n",
      "article title: Par où commencer dans l’apprentissage d’une DAW pour produire sa musique?\n",
      "article keywords: apprentissage, Audio, composition, DAW, home-studio, MIDI, production musicale\n",
      "content: » en anglais). Avec la technologie grandissante, ceux-ci peuvent parfois imiter les performances de musiciens « live ». Mais plus important encore, ils offrent la possibilité de concevoir des sons qui vont au-delà des domaines du naturel. Du synthétiseur analogique aux instruments virtuels VSTi Une trajectoire similaire au home-studio décrite au début peut être observée avec les synthés et les samplers. Bien que les premiers appareils étaient entièrement analogiques, les microprocesseurs ont rapidement fait leur chemin dans les années 1980 alors que la norme MIDI prenait racine. Jusqu’à l’explosion ces dernières années de toute sorte d’instruments sous forme logicielle (donc instrument virtuel). En parallèle, la DAW a intégré les fonctions de séquençage MIDI et de synthèse/échantillonnage aux côtés de ses capacités d’enregistrement et de traitement audio. Ce qui permet de produire entièrement dans un environnement logiciel. Dans la pratique, cependant, la plupart des studios occupent un juste milieu entre les extrêmes tout analogique et tout numérique. La mode est à l’hybride, combinant ancien et nouveau, matériel et logiciel, en fonction des priorités de production, des restrictions d’espace/budget et des préférences personnelles. Prise en main rapide d'un synthétiseur Dès qu’on a assimilé tous les concepts et le vocabulaire sous-jacents à la synthèse sonore, il est possible de rapidement prendre en main n’importe quel synthétiseur. Voir à ce propos ma série d’article sur les principes de fonctionnement d’un synthé qui vont grandement t’éclaircir les idées si tu n’y connais rien à la\n",
      "\n",
      "article title: Par où commencer dans l’apprentissage d’une DAW pour produire sa musique?\n",
      "article keywords: apprentissage, Audio, composition, DAW, home-studio, MIDI, production musicale\n",
      "content: DAW particulière. Quand j'ai compris ça, j'ai fait un bond en avant dans mon évolution La solution: C’est que derrière toute DAW, tout instrument virtuel reposent exactement les mêmes principes de base. Ce sont ces principes de fonctionnement qu’il te faut apprendre et assimiler. Et alors, n’importe quelle DAW (que ce soit Ableton Live, Logic Pro, Steinberg Cubase, Avid ProTools, FL Studio, etc, etc…), n’importe quel synthétiseur n’auront (presque) plus de secrets pour toi. La différence entre telle et telle DAW n’est plus qu’une question d’interface graphique à laquelle il faut seulement s’habituer. Les innombrables fonctions, effets, instruments et possibilités de routage des signaux audio te paraîtront clairs et limpides. Et alors, les particularités entre chacune des étapes de la production, du sound design au mastering en passant par la composition et le mixage se feront de manière logique et fluide. Les trois piliers d'apprentissage d'une DAW Alors par quoi commencer? Mon expérience de la chose m’a en effet permis d’identifier les principaux axes de connaissances sur lesquelles se concentrer en premier. Ce que je nomme ainsi « les trois piliers d’apprentissage d’une DAW » qui vont libérer ta créativité, ton identité sonore et ta productivité sont les suivants: La composition La synthèse sonore Les traitements audio C’est selon moi la bonne stratégie à adopter de commencer par acquérir une certaine maîtrise dans ces trois grands domaines. Je dis « grands » car tu t’aperçois vite que tu seras confronté\n",
      "\n",
      "article title: Par où commencer dans l’apprentissage d’une DAW pour produire sa musique?\n",
      "article keywords: apprentissage, Audio, composition, DAW, home-studio, MIDI, production musicale\n",
      "content: le processus d’enregistrement et de production d’une chanson. Pour des productions de haut calibre (pense Top 40, musique commerciale…), on retrouve normalement un certains nombres de personnes à la production en plus de l’artiste et du producteur. Un manager, un coach, d’autres musiciens, plusieurs ingénieurs du son à l’enregistrement, au mixage puis au mastering, etc… Les musiques électroniques pionnières du home-studio La réalité du home-studiste est qu’il fait généralement tout cela! C’est ce que j’appelle le producteur musical moderne: son rôle est polyvalent, de la proposition d’idées musicales à leur organisation, finalisation puis distribution. Ce rôle multi-casquettes et du DIY (« Do It Yourself », fais tout par toi-même) s’est d’ailleurs initialement développé avec l’avènement des musiques électroniques. Le travail énorme que représentait la production d’un morceau de house, techno, etc…, fut au début largement incompris par les médias de masse et les musiciens traditionnels. Ce sont tous ces producteurs qui ont pourtant contribué à l’émergence du home-studio et la démocratisation de la production musicale. Voir d’ailleurs cet excellent documentaire à ce sujet: Aujourd’hui, on ne compte plus toutes les productions à succès et hits commerciaux qui se sont conçus de A à Z dans une chambre à coucher ou une cave aménagée. Et ceci plus seulement pour des musiques électroniques mais pour tout autre style, du jazz au rock, en passant par le son à l’image et les musiques de film! Obstacles à l'apprentissage d'une DAW Alors rempli d’enthousiasme\n",
      "\n",
      "article title: Par où commencer dans l’apprentissage d’une DAW pour produire sa musique?\n",
      "article keywords: apprentissage, Audio, composition, DAW, home-studio, MIDI, production musicale\n",
      "content: la DAW à prix réduit voire gratuitement là encore. Reste à pouvoir écouter le son en sortie: un casque décent fera l’affaire pour commencer. → Toutes les DAW sont de vrais \"usines à gaz\" et je ne sais quoi choisir après autant d'avis divergents On y vient! C’est en général là que les difficultés commencent et qu’on réalise l’ampleur du chemin qu’il nous reste à parcourir. Il est facile de trouver sur le web (en gratuit ou payant) des formations du type « Apprendre telle DAW de A à Z » , ou encore « Produire un morceau à partir de rien jusqu’à son mastering » . Pourquoi ce type de formation qui peut être certes très bien expliquée ne t’apporte finalement que très peu de résultats en retour? Car quand il s’agit de passer soi-même à l’action, on se retrouve à nouveau perdu ou bloqué, à la recherche incessante d’une autre astuce quelque part sur internet. En fait, apprendre de cette manière, c’est comme aborder la construction d’une maison sans penser aux fondations. C’est comme aborder les trois piliers d’apprentissage d’une DAW dont je vais te parler mais de manière complètement désordonnée et confuse. Au risque de te surprendre, c’est à mon avis un mauvais raisonnement que de se demander dès le départ comment apprendre à se servir d’une DAW particulière. Quand j'ai compris ça, j'ai fait un bond en avant dans mon évolution La solution: C’est que derrière\n",
      "\n",
      "article title: Par où commencer dans l’apprentissage d’une DAW pour produire sa musique?\n",
      "article keywords: apprentissage, Audio, composition, DAW, home-studio, MIDI, production musicale\n",
      "content: ça mais qu’est-ce que cela implique d’apprendre et de savoir faire avec la DAW? Je te rassure d’emblée, je ne parle pas ici de connaître le solfège sur le bout des doigts ou bien de maîtriser le piano comme Chopin! Non, ce que je veux dire c’est de maîtriser les outils issus de la théorie musicale et les appliquer directement dans tes compositions. Cela concerne les éléments suivants: Les gammes majeures et mineures La tonalité et le cycle des quintes Construction d’accords majeurs et mineurs et progression d’accords Associer une mélodie Le rythme: signature rythmique et tempo Les dynamiques de notes Instrumentation et arrangement Cycle des quintes avec notation anglo-saxonne des notes L’instrument de home studio par excellence pour apprendre tout cela, c’est bel et bien le piano . Et ce pour plusieurs bonnes raisons: Le clavier du piano et ses touches blanches et noires facilite grandement l’apprentissage des intervalles et des accords. Il est universellement reconnu pour cela. Toutes les DAW utilisent ce que l’on appelle le « piano roll » , l’endroit d’édition des notes Midi de la composition. Ce n’est pas pour rien si on retrouve une foule de contrôleurs externes sous forme de clavier et que le synthétiseur se commande traditionnellement à l’aide d’un clavier. Alors si tu n’en as pas encore un, je te recommande vivement de te procurer un clavier (pas besoin de 88 touches!). Puis tu peux d’ors et déjà t’exercer à retrouver\n",
      "\n",
      "article title: Par où commencer dans l’apprentissage d’une DAW pour produire sa musique?\n",
      "article keywords: apprentissage, Audio, composition, DAW, home-studio, MIDI, production musicale\n",
      "content: par les ingénieurs du son pour mixer et masteriser un morceau. Ces mêmes outils (compresseur, EQ, delay, reverb, etc..) peuvent être aussi avantageusement utilisés en phase de création musicale. La compréhension des paramètres de tous ces effets audio et leurs conséquences sur le signal audio est primordiale. C’est l’occasion de t’initier au travail ultérieur de l’ingénieur en mixage. Cela implique le développement de ton premier outil de travail: l’oreille. L’apprentissage d’une DAW devient alors l’apprentissage de l’écoute du son dans ses trois dimensions: sa dynamique (compression, gate, limiteur…), son spectre fréquentiel (EQ) et sa temporalité (reverb, delay…). Conclusion Maintenant que tu sais un peu mieux le rôle de producteur (en home-studio), par quoi commencer et les quelques trucs à savoir, il est temps de passer à l’action! Télécharge la démo d’une DAW et commence ton apprentissage dès maintenant. Complètement novice en production musicale? Commence par consulter les articles dont les liens figurent à cette page . Pour aller plus loin: Seconde phase d'apprentissage de sa DAW (ou en parallèle) Bien évidemment suivant les cas, tu peux avoir d’autres préoccupations de débutant quand tu commences avec une DAW comme savoir s’enregistrer . Dans ce cas-là, les autres axes d’apprentissage (en parallèle) concernent tout le travail « Out of the Box » , c’est-à-dire tout ce qui concerne les outils du home-studio en-dehors du logiciel audio à savoir: L’interface audio (ou carte son) et les configs audio Comment choisir et utiliser un\n",
      "\n",
      "article title: Par où commencer dans l’apprentissage d’une DAW pour produire sa musique?\n",
      "article keywords: apprentissage, Audio, composition, DAW, home-studio, MIDI, production musicale\n",
      "content: vivement de te procurer un clavier (pas besoin de 88 touches!). Puis tu peux d’ors et déjà t’exercer à retrouver n’importe quel accord de trois notes comme expliqué dans le blog de Cazimir Costea que j’ai mentionné au début. Appliquer dans la DAW avec le piano roll et les effets Midi Avec une DAW, les effets Midi facilitent le travail de composition. Si tu ne sais pas encore à ce stade ce qu’est une piste MIDI, tu peux voir à ce sujet le deuxième pilier sur la synthèse sonore ci-après. Car ce sont bien les informations de notes MIDI qui font le lien entre le design sonore par un instrument et la composition dans le piano roll. Piano Roll d'Ableton Live Il y a deux méthodes d’écriture de la musique dans le piano roll: par l’enregistrement des notes à l’aide de ton clavier si tu es à l’aise pour jouer du piano; ou en inscrivant directement les notes où il faut. L’ordinateur se révèle alors utile pour servir de compositeur à notre place avec l’utilisation d’effets Midi tels que l’arpeggiateur ou des créateurs automatiques d’accords dans la bonne gamme. Pilier 2: La synthèse sonore Une pierre angulaire tout aussi importante dans le processus de production, devenu incontournable pour de nombreux styles musicaux, est l’utilisation de synthétiseurs et d’échantillonneurs (« sampler » en anglais). Avec la technologie grandissante, ceux-ci peuvent parfois imiter les performances de musiciens « live ». Mais plus\n",
      "\n",
      "article title: Deviens toi aussi producteur musical depuis ton home studio\n",
      "article keywords: home-studio, ingénieur du son, MAO, production musicale\n",
      "content: studio avant de finaliser leurs projets dans un studio professionnel (voire toujours depuis chez soi) . On parle alors de plus en plus de création DIY (“Do It Yourself”) et d’un nouveau rôle des amateurs qui sont en mesure de travailler avec des moyens équivalents aux professionnels. Exemple de home studio à ses débuts plus minimaliste et actuel Souvent téléchargés de manière illégale, les développeurs de logiciels ont rapidement saisi le potentiel grand public de ces outils qui existaient pour la plupart depuis des années. Le logiciel Logic Pro d’Apple passe autour de 200 Euros en téléchargement direct (il coûtait près de 1000 Euros à l’origine). Et Ableton Live , un des logiciels les plus dynamiques du marché, se pare de nouvelles interfaces colorées et mise avant tout sur une plus grande accessibilité (pour 600 Euros la version complète). A côté de ces logiciels, un véritable écosystème se crée de lui-même: communauté et forums s’échangent des conseils et des “tips” pour mieux produire, tandis que des milliers de tutoriels pour débutant ou niveau plus avancé sont disponibles sur des plateformes de vidéos. Cette nouvelle ère du monde de la musique post-crise du disque remplace peu à peu notre rôle de simple auditeur à un rôle de créateur: avec l’accessibilité de la musique moderne, n’importe quel passionné de musique devient créateur! Développes l'artiste qui est en toi! Mais est-ce suffisant pour obtenir des résultats en home studio? Non! Encore faut-il acquérir\n",
      "\n",
      "article title: Par où commencer dans l’apprentissage d’une DAW pour produire sa musique?\n",
      "article keywords: apprentissage, Audio, composition, DAW, home-studio, MIDI, production musicale\n",
      "content: en passant par le son à l’image et les musiques de film! Obstacles à l'apprentissage d'une DAW Alors rempli d’enthousiasme et de motivation, comme toute personne normale, tu vas sur Google pour savoir comment commencer et ce dont tu as besoin. Malheureusement, cela ne se passe pas comme prévu, tu finis par télécharger un programme obscur sans aucune idée de ce que c’est ni comment l’utiliser. La confusion s’installe… Et comme moi, tu t’es peut être aperçu rapidement à quel point le chemin allait être long et tortueux avant d’arriver à quelque chose de potable. Jusqu’à même se décourager et passer finalement à autre chose tellement la montagne que représente le vaste monde de l’audio-numérique semblait insurmontable. Et surtout si, à la base tu n’es ni véritablement musicien, ni ingénieur du son! Jeune producteur perdu devant l'immensité de la tâche à accomplir 😉 Voici quelques compétences nécessaires au producteur musical moderne : Création ou enregistrement d’idées musicales (mélodies, harmonies, voix) Arrangement de ces idées Mixage et Mastering Design sonore Et voilà un ensemble d’ étapes que je pourrais suivre lors de la production d’un morceau : Aboutir à un « gimmick » ou une mélodie entêtante. Créer une section de batterie avec des échantillons et des boucles individuelles. Concevoir des sons pour des idées musicales telles que des lignes de basse, des mélodies et des progressions d’accords. Arranger en un morceau cohérent, en travaillant sur ses différentes sections (intro, couplets,\n",
      "\n",
      "article title: Par où commencer dans l’apprentissage d’une DAW pour produire sa musique?\n",
      "article keywords: apprentissage, Audio, composition, DAW, home-studio, MIDI, production musicale\n",
      "content: créer sa musique par cycles de travail sur le sound design puis sur la composition et vice-versa. L’un dicte l’autre. Et de subtils changements de l’un à l’autre vont avoir de gros impacts. A la fin, suivant ton style, ton son peut être plus travaillé en sound design avec une compo plutôt simple, ou l’inverse. Mais dans tous les cas, les deux aspects doivent être de qualité et en phase l’un avec l’autre. Ne pas négliger l’un des deux. Pilier 3: Les traitements audio Après l’apprentissage du MIDI entre synthèse sonore et compo, il est temps de s’intéresser aux traitements de l’audio. Car l’instrument virtuel et les notes MIDI c’est gentil mais ce qu’on écoute en sortie c’est le signal audio! S’ouvre alors devant toi un nouveau monde d’expérimentation et d’utilisation de la DAW, une autre façon de produire de la musique à partir d’enregistrements de sons réels cette fois ou d’échantillons ou boucles sonores à ta disposition. Edition et traitement d'un clip audio dans Ableton Live Il s’agit alors de comprendre ce qu’est un fichier audio et son format, puis les nouvelles possibilités de design sonore offertes pour l’éditer, le manipuler, le superposer… Mais le traitement de l’audio devient surtout incontournable quand on arrive au stade de la post-production (mixage/mastering). La puissance de la conversion en audio Les avantages de travailler directement sur un fichier audio par rapport au MIDI sont multiples: On va d’abord commencer par être capable\n",
      "\n",
      "article title: Par où commencer dans l’apprentissage d’une DAW pour produire sa musique?\n",
      "article keywords: apprentissage, Audio, composition, DAW, home-studio, MIDI, production musicale\n",
      "content: morceau apprécié pour son « énorme son de Kick » ou un son « lead plutôt cool » est aussi un morceau qui partira aux oubliettes dans 6 mois? A la place, les morceaux évoquant une émotion, ou te forçant à te souvenir un moment particulier, que ce soit de la nostalgie ou du bonheur pur, sont ceux qui demeurent intemporels. En fait, les qualités qui rendent ces morceaux si spéciaux proviennent beaucoup moins de la production ou de la technique que de l’écriture et de la composition. Une erreur courante est de ne pas écrire la « chanson » d’abord , c’est-à-dire les mélodies, la compo et son épine dorsale émotionnelle. Ensuite, produis-la. Un morceau bien produit sans être une grande chanson sera au mieux « très bon ». Mais une très bonne mélodie et harmonisation a un potentiel illimité et intemporel. La réalité ici est qu’un producteur qui a un semblant de formation en théorie musicale sera plus efficace. Il aura plus d’armes dans son arsenal pour que ça sonne bien rapidement. Et ce quel que soit le style musical, car même dans des styles plus épurés comme la techno, il est essentiel d’avoir au moins des notions de tonalité, ne serait-ce que pour bien accorder son Kick. Les 7 fondamentaux de la composition C’est bien beau tout ça mais qu’est-ce que cela implique d’apprendre et de savoir faire avec la DAW? Je te rassure d’emblée, je ne\n",
      "\n",
      "article title: Par où commencer dans l’apprentissage d’une DAW pour produire sa musique?\n",
      "article keywords: apprentissage, Audio, composition, DAW, home-studio, MIDI, production musicale\n",
      "content: sur les principes de fonctionnement d’un synthé qui vont grandement t’éclaircir les idées si tu n’y connais rien à la base. Une fois devant le synthé, une méthode très efficace pour apprendre est de décortiquer des presets, des sons complexes déjà à disposition, pour savoir comment ils ont été conçus. C’est ce qu’on appelle faire du « Reverse engineering » en anglais. Concrètement, cela consiste donc à prendre le processus de conception à l’envers: à partir du son fini, commence par désactiver les effets car tu verras que ces derniers prennent souvent une grande part dans la sonorité finale. Continue de même (activer/désactiver) section par section (oscillateurs, filtres puis modulations) pour constater l’effet sur le son de tel ou tel paramètre. Ensuite, amuse-toi à façonner tes propres sons en considérant ces trois concepts: la sonorité générale (avec les oscillateurs, filtres et effets), l’enveloppe (bref ou long? stable ou évolutif?), l’espacement (centré, large, en mouvement?). Lien entre design sonore et composition dans la DAW Comme je le disais, il existe une connexion profonde entre sonorité et composition. Le son émis par l’instrument virtuel est le résultat de la conversion par ce même instrument des informations de note MIDI en données audio. Vue du synthé virtuel Serum, alimentant une piste Midi avec création d'accords dans le piano roll Il est recommandé de créer sa musique par cycles de travail sur le sound design puis sur la composition et vice-versa. L’un dicte l’autre.\n",
      "\n",
      "article title: Par où commencer dans l’apprentissage d’une DAW pour produire sa musique?\n",
      "article keywords: apprentissage, Audio, composition, DAW, home-studio, MIDI, production musicale\n",
      "content: certaine maîtrise dans ces trois grands domaines. Je dis « grands » car tu t’aperçois vite que tu seras confronté à pas mal de sous-domaines… L’idée est d’assimiler le jargon propre à chacun de ces domaines afin de se familiariser avec toutes les fonctions associées que l’on retrouvera dans la DAW. Avec de la persévérance, cela finit par payer, et ce quel que soit ton profil initial. Adaptation à ton profil initial Que tu sois musicien traditionnel, ingé son, DJ ou tout simplement novice en tout mais passionné, tu en apprendras plus ou moins dans l’un des trois piliers. Si tu es musicien autodidacte, ton objectif serait d’élever tes productions à un niveau supérieur. Pour cela, tu peux améliorer tes compétences créatives par la synthèse sonore et les traitements audio, alors que normalement la théorie musicale te sera familière. Un ingé son est quant à lui compétent en traitements de l’audio sous toutes ses formes mais devra certainement développer son sens musical. Pour un DJ, il est possible qu’il s’y connaisse dans les trois catégories mais seulement en surface. Et l’étape quasi-obligatoire pour un DJ de nos jours est de produire sa propre musique. Regardons maintenant en détail ces trois piliers de compétences et comment ils se traduisent dans l’apprentissage d’une DAW. Pilier 1: La composition As-tu déjà remarqué qu’un morceau apprécié pour son « énorme son de Kick » ou un son « lead plutôt cool » est aussi\n",
      "\n",
      "article title: Deviens toi aussi producteur musical depuis ton home studio\n",
      "article keywords: home-studio, ingénieur du son, MAO, production musicale\n",
      "content: studio se voit attribuer pour ses propres travaux la casquette d’ingé-son. Et c’est là que le bât blesse, heureusement dirais-je, car l’ingénieur du son a une écoute différente de celle du musicien. En effet, le musicien écoute des mélodies, des accords, des timbres et (j’espère) de la musicalité et des expressions. Alors que l’ingénieur du son écoute des textures, des espaces sonores, des réverbérations, des compressions, des conditions de prise de son, etc., paramètres qui ne sont qu’effleurés dans l’univers du musicien lorsqu’ils ne sont pas littéralement ignorés. Or cette formation est indispensable au musicien: – pour comprendre l’univers de l’ingénieur du son, ainsi que sa façon d’écouter, de penser et de ressentir la musique hors de tout aspect subjectif et de jugement personnel. En bref, savoir ce qu’il a en tête. – pour que la phase de post-production (mixage et mastering) ne soit plus un mystère et pouvoir adopter le double rôle lorsque les circonstances l’exigent chez un musicien. La connaissance des techniques de mixage ou encore de l’acoustique enrichit la profession du compositeur-arrangeur. Comment se former au home studio? De nombreuses solutions existent: – D’abord la voie la plus classique et naturelle mais ô combien la plus onéreuse, passer par une école ou des cours formels collectifs. Outre le prix, cette solution a le désavantage d’être trop rigide, pas toujours adaptée à l’objectif personnel de produire de la musique en home studio. – L’autre solution souvent prisée car\n",
      "\n",
      "article title: Par où commencer dans l’apprentissage d’une DAW pour produire sa musique?\n",
      "article keywords: apprentissage, Audio, composition, DAW, home-studio, MIDI, production musicale\n",
      "content: basse, des mélodies et des progressions d’accords. Arranger en un morceau cohérent, en travaillant sur ses différentes sections (intro, couplets, refrains, buildup, breaks…). Mixer les pistes du morceau, en utilisant l’égalisation et la compression, entre autres effets, pour rendre le son clair et prêt pour le mastering. Masteriser le morceau, augmenter le volume perçu à un niveau compétitif et le préparer à sa livraison finale. La production musicale moderne est donc difficile: Il te faudra beaucoup de temps pour arriver à un niveau où ta musique mérite vraiment d’être publiée. Toutes les subtilités auditives de la production musicale prennent non seulement un certain temps à comprendre en théorie, mais nécessitent une pratique quotidienne. Même si tu as de bonnes idées musicales, tes compétences en mixage peuvent ne pas être excellentes ou ta conception sonore peut ne pas être à la hauteur. A ce stade, on se doute bien que l’enthousiasme de départ est vite retombé et la magie dans la musique à produire que tu avais en tête s’est transformée en un long chemin de croix. Coup de balai aux idées reçues et motifs d'espoir Il est alors normal de s’interroger sur ses capacités d’accomplissement. Pourtant, il y a de réelles raisons d’espérer. Car surtout, et malgré la difficulté, l’activité de producteur musical est gratifiante! Il n’y a rien de plus satisfaisant que de finir sa propre musique et que les gens l’apprécient. Les récompenses l’emportent de loin sur la\n"
     ]
    }
   ],
   "source": [
    "print(prompt)"
   ]
  },
  {
   "cell_type": "code",
   "execution_count": 17,
   "id": "6a54c74a-78fa-4684-b19b-f6bba6273cec",
   "metadata": {},
   "outputs": [],
   "source": [
    "def llm(prompt, model='gpt-4o-mini'):\n",
    "    response = client.chat.completions.create(\n",
    "        model=model,\n",
    "        messages=[{\"role\": \"user\", \"content\": prompt}]\n",
    "    )\n",
    "    \n",
    "    return response.choices[0].message.content"
   ]
  },
  {
   "cell_type": "code",
   "execution_count": 18,
   "id": "200a1d40-a113-4737-99ec-ac7e1c6114d4",
   "metadata": {},
   "outputs": [],
   "source": [
    "def rag(query, model='gpt-4o-mini'):\n",
    "    search_results = search(query)\n",
    "    prompt = build_prompt(query, search_results)\n",
    "    #print(prompt)\n",
    "    answer = llm(prompt, model=model)\n",
    "    return answer"
   ]
  },
  {
   "cell_type": "code",
   "execution_count": 19,
   "id": "58469b47-a3ee-4941-9466-d944c82d7265",
   "metadata": {},
   "outputs": [
    {
     "name": "stdout",
     "output_type": "stream",
     "text": [
      "Pour créer votre musique dans un home-studio, voici les équipements essentiels dont vous aurez besoin :\n",
      "\n",
      "1. **Un ordinateur** : C'est le cœur de votre home-studio. Que vous ayez un Mac ou un PC, assurez-vous que votre appareil soit relativement récent avec un processeur rapide et suffisamment de RAM (4 Go et plus). Il est conseillé de configurer cet ordinateur uniquement pour la musique afin de maximiser les performances.\n",
      "\n",
      "2. **Une DAW (Digital Audio Workstation)** : C’est le logiciel qui vous permettra de créer, d'éditer et de mixer votre musique. Des options populaires incluent Ableton Live, FL Studio, et GarageBand pour les débutants.\n",
      "\n",
      "3. **Un casque de qualité** : Un bon casque audio est crucial pour commencer à bien entendre votre musique. Cela vous permettra de vous familiariser avec les sons et de travailler efficacement dans votre DAW.\n",
      "\n",
      "4. **Vos oreilles !** : C’est l’outil le plus important que vous ayez. Écoutez attentivement et apprenez à identifier les détails dans votre mix.\n",
      "\n",
      "Pour aller plus loin et approfondir vos connaissances sur l'équipement et l'utilisation de votre home studio, je vous recommande de lire les trois articles suivants :\n",
      "\n",
      "1. **Comment bien débuter en MAO: le home-studio démystifié**\n",
      "2. **Par où commencer dans l’apprentissage d’une DAW pour produire sa musique?**\n",
      "3. **Deviens toi aussi producteur musical depuis ton home studio** \n",
      "\n",
      "Ces articles vous donneront une bonne compréhension des bases nécessaires pour débuter dans la musique assistée par ordinateur.\n"
     ]
    }
   ],
   "source": [
    "question = 'De quel matériel ai-je besoin pour créer ma musique dans mon home-studio?'\n",
    "answer = rag(question)\n",
    "print(answer)"
   ]
  },
  {
   "cell_type": "markdown",
   "id": "73be4d02-5d0f-465b-9b75-26dac1b1cbb7",
   "metadata": {},
   "source": [
    "# Retrieval evaluation"
   ]
  },
  {
   "cell_type": "code",
   "execution_count": 69,
   "id": "286045b2-a6a9-4120-9d75-8bdf4318f18a",
   "metadata": {},
   "outputs": [
    {
     "data": {
      "text/html": [
       "<div>\n",
       "<style scoped>\n",
       "    .dataframe tbody tr th:only-of-type {\n",
       "        vertical-align: middle;\n",
       "    }\n",
       "\n",
       "    .dataframe tbody tr th {\n",
       "        vertical-align: top;\n",
       "    }\n",
       "\n",
       "    .dataframe thead th {\n",
       "        text-align: right;\n",
       "    }\n",
       "</style>\n",
       "<table border=\"1\" class=\"dataframe\">\n",
       "  <thead>\n",
       "    <tr style=\"text-align: right;\">\n",
       "      <th></th>\n",
       "      <th>question</th>\n",
       "      <th>category</th>\n",
       "      <th>chunk</th>\n",
       "      <th>article</th>\n",
       "    </tr>\n",
       "  </thead>\n",
       "  <tbody>\n",
       "    <tr>\n",
       "      <th>0</th>\n",
       "      <td>Quel est l'impact de l'intelligence artificiel...</td>\n",
       "      <td>LA POST-PROD</td>\n",
       "      <td>4615db39-1</td>\n",
       "      <td>4615db39</td>\n",
       "    </tr>\n",
       "    <tr>\n",
       "      <th>1</th>\n",
       "      <td>Comment l'IA influence-t-elle la production mu...</td>\n",
       "      <td>LA POST-PROD</td>\n",
       "      <td>4615db39-1</td>\n",
       "      <td>4615db39</td>\n",
       "    </tr>\n",
       "    <tr>\n",
       "      <th>2</th>\n",
       "      <td>Quelles sont les tendances des outils audio ut...</td>\n",
       "      <td>LA POST-PROD</td>\n",
       "      <td>4615db39-1</td>\n",
       "      <td>4615db39</td>\n",
       "    </tr>\n",
       "    <tr>\n",
       "      <th>3</th>\n",
       "      <td>En quoi l'IA permet-elle aux amateurs d'obteni...</td>\n",
       "      <td>LA POST-PROD</td>\n",
       "      <td>4615db39-1</td>\n",
       "      <td>4615db39</td>\n",
       "    </tr>\n",
       "    <tr>\n",
       "      <th>4</th>\n",
       "      <td>Quels avantages l'IA offre-t-elle aux artistes...</td>\n",
       "      <td>LA POST-PROD</td>\n",
       "      <td>4615db39-1</td>\n",
       "      <td>4615db39</td>\n",
       "    </tr>\n",
       "  </tbody>\n",
       "</table>\n",
       "</div>"
      ],
      "text/plain": [
       "                                            question      category  \\\n",
       "0  Quel est l'impact de l'intelligence artificiel...  LA POST-PROD   \n",
       "1  Comment l'IA influence-t-elle la production mu...  LA POST-PROD   \n",
       "2  Quelles sont les tendances des outils audio ut...  LA POST-PROD   \n",
       "3  En quoi l'IA permet-elle aux amateurs d'obteni...  LA POST-PROD   \n",
       "4  Quels avantages l'IA offre-t-elle aux artistes...  LA POST-PROD   \n",
       "\n",
       "        chunk   article  \n",
       "0  4615db39-1  4615db39  \n",
       "1  4615db39-1  4615db39  \n",
       "2  4615db39-1  4615db39  \n",
       "3  4615db39-1  4615db39  \n",
       "4  4615db39-1  4615db39  "
      ]
     },
     "execution_count": 69,
     "metadata": {},
     "output_type": "execute_result"
    }
   ],
   "source": [
    "df_question = pd.read_csv('../data/ground-truth-data.csv')\n",
    "df_question.head()"
   ]
  },
  {
   "cell_type": "code",
   "execution_count": 70,
   "id": "2d0a4048",
   "metadata": {},
   "outputs": [
    {
     "data": {
      "text/plain": [
       "{'question': \"Quel est l'impact de l'intelligence artificielle dans la post-production audio?\",\n",
       " 'category': 'LA POST-PROD',\n",
       " 'chunk': '4615db39-1',\n",
       " 'article': '4615db39'}"
      ]
     },
     "execution_count": 70,
     "metadata": {},
     "output_type": "execute_result"
    }
   ],
   "source": [
    "ground_truth = df_question.to_dict(orient='records')\n",
    "ground_truth[0]"
   ]
  },
  {
   "cell_type": "code",
   "execution_count": 71,
   "id": "7bd63de1",
   "metadata": {},
   "outputs": [],
   "source": [
    "def hit_rate(relevance_total):\n",
    "    cnt = 0\n",
    "\n",
    "    for line in relevance_total:\n",
    "        if True in line:\n",
    "            cnt = cnt + 1\n",
    "\n",
    "    return cnt / len(relevance_total)\n",
    "\n",
    "def mrr(relevance_total):\n",
    "    total_score = 0.0\n",
    "\n",
    "    for line in relevance_total:\n",
    "        for rank in range(len(line)):\n",
    "            if line[rank] == True:\n",
    "                total_score = total_score + 1 / (rank + 1)\n",
    "\n",
    "    return total_score / len(relevance_total)"
   ]
  },
  {
   "cell_type": "markdown",
   "id": "382d1a27",
   "metadata": {},
   "source": [
    "### Evaluation based on the chunk_id"
   ]
  },
  {
   "cell_type": "code",
   "execution_count": 72,
   "id": "eea453c2",
   "metadata": {},
   "outputs": [],
   "source": [
    "def minsearch_search(query):\n",
    "    boost = {}\n",
    "\n",
    "    results = index.search(\n",
    "        query=query,\n",
    "        filter_dict={},\n",
    "        boost_dict=boost,\n",
    "        num_results=10\n",
    "    )\n",
    "\n",
    "    return results"
   ]
  },
  {
   "cell_type": "code",
   "execution_count": 73,
   "id": "957baa48",
   "metadata": {},
   "outputs": [],
   "source": [
    "def evaluate(ground_truth, search_function):\n",
    "    relevance_total = []\n",
    "\n",
    "    for q in tqdm(ground_truth):\n",
    "        doc_id = q['chunk']\n",
    "        results = search_function(q)\n",
    "        relevance = [d['chunk_id'] == doc_id for d in results]\n",
    "        relevance_total.append(relevance)\n",
    "\n",
    "    return {\n",
    "        'hit_rate': hit_rate(relevance_total),\n",
    "        'mrr': mrr(relevance_total),\n",
    "    }"
   ]
  },
  {
   "cell_type": "code",
   "execution_count": 26,
   "id": "63794ce1",
   "metadata": {},
   "outputs": [],
   "source": [
    "from tqdm.auto import tqdm"
   ]
  },
  {
   "cell_type": "code",
   "execution_count": 74,
   "id": "1ff8948c",
   "metadata": {},
   "outputs": [
    {
     "data": {
      "application/vnd.jupyter.widget-view+json": {
       "model_id": "ad18d3d6b5d64266bca7190ebbbb12ba",
       "version_major": 2,
       "version_minor": 0
      },
      "text/plain": [
       "  0%|          | 0/2945 [00:00<?, ?it/s]"
      ]
     },
     "metadata": {},
     "output_type": "display_data"
    },
    {
     "data": {
      "text/plain": [
       "{'hit_rate': 0.5297113752122241, 'mrr': 0.3079710027757569}"
      ]
     },
     "execution_count": 74,
     "metadata": {},
     "output_type": "execute_result"
    }
   ],
   "source": [
    "evaluate(ground_truth, lambda q: minsearch_search(q['question']))"
   ]
  },
  {
   "cell_type": "markdown",
   "id": "dc3edab1",
   "metadata": {},
   "source": [
    "### Evaluation based on the article_id"
   ]
  },
  {
   "cell_type": "code",
   "execution_count": 60,
   "id": "61acd428",
   "metadata": {},
   "outputs": [],
   "source": [
    "def evaluate(ground_truth, search_function):\n",
    "    relevance_total = []\n",
    "\n",
    "    for q in tqdm(ground_truth):\n",
    "        doc_id = q['article']\n",
    "        results = search_function(q)\n",
    "        \n",
    "        # Ensure that only the first relevant result counts for the MRR\n",
    "        relevance = []\n",
    "        seen_article = False\n",
    "        for d in results:\n",
    "            if d['article_id'] == doc_id and not seen_article:\n",
    "                relevance.append(True)\n",
    "                seen_article = True\n",
    "            else:\n",
    "                relevance.append(False)\n",
    "\n",
    "        relevance_total.append(relevance)\n",
    "\n",
    "    return {\n",
    "        'hit_rate': hit_rate(relevance_total),\n",
    "        'mrr': mrr(relevance_total),\n",
    "    }\n"
   ]
  },
  {
   "cell_type": "code",
   "execution_count": 61,
   "id": "bc1b265f",
   "metadata": {},
   "outputs": [
    {
     "data": {
      "application/vnd.jupyter.widget-view+json": {
       "model_id": "b759d45fa4194994870f34c9614bf4a2",
       "version_major": 2,
       "version_minor": 0
      },
      "text/plain": [
       "  0%|          | 0/2945 [00:00<?, ?it/s]"
      ]
     },
     "metadata": {},
     "output_type": "display_data"
    },
    {
     "data": {
      "text/plain": [
       "{'hit_rate': 0.5911714770797962, 'mrr': 0.4871826070552721}"
      ]
     },
     "execution_count": 61,
     "metadata": {},
     "output_type": "execute_result"
    }
   ],
   "source": [
    "evaluate(ground_truth, lambda q: minsearch_search(q['question']))"
   ]
  },
  {
   "cell_type": "markdown",
   "id": "283be245",
   "metadata": {},
   "source": [
    "### Find the best boost parameters"
   ]
  },
  {
   "cell_type": "code",
   "execution_count": 75,
   "id": "30da8ae0",
   "metadata": {},
   "outputs": [],
   "source": [
    "df_validation = df_question[:100]\n",
    "df_test = df_question[100:]"
   ]
  },
  {
   "cell_type": "code",
   "execution_count": 76,
   "id": "5c06ccb8",
   "metadata": {},
   "outputs": [],
   "source": [
    "import random\n",
    "\n",
    "def simple_optimize(param_ranges, objective_function, n_iterations=10):\n",
    "    best_params = None\n",
    "    best_score = float('-inf')  # Assuming we're minimizing. Use float('-inf') if maximizing.\n",
    "\n",
    "    for _ in range(n_iterations):\n",
    "        # Generate random parameters\n",
    "        current_params = {}\n",
    "        for param, (min_val, max_val) in param_ranges.items():\n",
    "            if isinstance(min_val, int) and isinstance(max_val, int):\n",
    "                current_params[param] = random.randint(min_val, max_val)\n",
    "            else:\n",
    "                current_params[param] = random.uniform(min_val, max_val)\n",
    "        \n",
    "        # Evaluate the objective function\n",
    "        current_score = objective_function(current_params)\n",
    "        \n",
    "        # Update best if current is better\n",
    "        if current_score > best_score:  # Change to > if maximizing\n",
    "            best_score = current_score\n",
    "            best_params = current_params\n",
    "    \n",
    "    return best_params, best_score"
   ]
  },
  {
   "cell_type": "code",
   "execution_count": 77,
   "id": "425ac4a6",
   "metadata": {},
   "outputs": [],
   "source": [
    "gt_val = df_validation.to_dict(orient='records')"
   ]
  },
  {
   "cell_type": "code",
   "execution_count": 78,
   "id": "4797e158",
   "metadata": {},
   "outputs": [],
   "source": [
    "def minsearch_search(query, boost=None):\n",
    "    if boost is None:\n",
    "        boost = {}\n",
    "\n",
    "    results = index.search(\n",
    "        query=query,\n",
    "        filter_dict={},\n",
    "        boost_dict=boost,\n",
    "        num_results=10\n",
    "    )\n",
    "\n",
    "    return results"
   ]
  },
  {
   "cell_type": "code",
   "execution_count": 80,
   "id": "775ffd90",
   "metadata": {},
   "outputs": [],
   "source": [
    "param_ranges = {\n",
    "    'title': (0.0, 3.0),\n",
    "    'tags': (0.0, 3.0),\n",
    "    'chunk_text': (0.0, 3.0)\n",
    "}\n",
    "\n",
    "def objective(boost_params):\n",
    "    def search_function(q):\n",
    "        return minsearch_search(q['question'], boost_params)\n",
    "\n",
    "    results = evaluate(gt_val, search_function)\n",
    "    return results['mrr']"
   ]
  },
  {
   "cell_type": "code",
   "execution_count": 81,
   "id": "beaecfd3",
   "metadata": {},
   "outputs": [
    {
     "data": {
      "application/vnd.jupyter.widget-view+json": {
       "model_id": "c9fcc1bf2b264e4e975a3d92b83033c9",
       "version_major": 2,
       "version_minor": 0
      },
      "text/plain": [
       "  0%|          | 0/100 [00:00<?, ?it/s]"
      ]
     },
     "metadata": {},
     "output_type": "display_data"
    },
    {
     "data": {
      "application/vnd.jupyter.widget-view+json": {
       "model_id": "a0714420c54a4a23a6f2b8e411012490",
       "version_major": 2,
       "version_minor": 0
      },
      "text/plain": [
       "  0%|          | 0/100 [00:00<?, ?it/s]"
      ]
     },
     "metadata": {},
     "output_type": "display_data"
    },
    {
     "data": {
      "application/vnd.jupyter.widget-view+json": {
       "model_id": "71c111cef6aa413b96343deedafdca52",
       "version_major": 2,
       "version_minor": 0
      },
      "text/plain": [
       "  0%|          | 0/100 [00:00<?, ?it/s]"
      ]
     },
     "metadata": {},
     "output_type": "display_data"
    },
    {
     "data": {
      "application/vnd.jupyter.widget-view+json": {
       "model_id": "5077b60ccbe94767be809a3922ac2000",
       "version_major": 2,
       "version_minor": 0
      },
      "text/plain": [
       "  0%|          | 0/100 [00:00<?, ?it/s]"
      ]
     },
     "metadata": {},
     "output_type": "display_data"
    },
    {
     "data": {
      "application/vnd.jupyter.widget-view+json": {
       "model_id": "dc24df2fd09a46939daea7606fe8a87b",
       "version_major": 2,
       "version_minor": 0
      },
      "text/plain": [
       "  0%|          | 0/100 [00:00<?, ?it/s]"
      ]
     },
     "metadata": {},
     "output_type": "display_data"
    },
    {
     "data": {
      "application/vnd.jupyter.widget-view+json": {
       "model_id": "10d310a4db294fbda2b9a9c62aac3a55",
       "version_major": 2,
       "version_minor": 0
      },
      "text/plain": [
       "  0%|          | 0/100 [00:00<?, ?it/s]"
      ]
     },
     "metadata": {},
     "output_type": "display_data"
    },
    {
     "data": {
      "application/vnd.jupyter.widget-view+json": {
       "model_id": "3d54ebd39ee244c19a17216372679fd6",
       "version_major": 2,
       "version_minor": 0
      },
      "text/plain": [
       "  0%|          | 0/100 [00:00<?, ?it/s]"
      ]
     },
     "metadata": {},
     "output_type": "display_data"
    },
    {
     "data": {
      "application/vnd.jupyter.widget-view+json": {
       "model_id": "0c8c860800694aca93c97410a9d7866d",
       "version_major": 2,
       "version_minor": 0
      },
      "text/plain": [
       "  0%|          | 0/100 [00:00<?, ?it/s]"
      ]
     },
     "metadata": {},
     "output_type": "display_data"
    },
    {
     "data": {
      "application/vnd.jupyter.widget-view+json": {
       "model_id": "6587d840da62477bbc733a4acfdf6adb",
       "version_major": 2,
       "version_minor": 0
      },
      "text/plain": [
       "  0%|          | 0/100 [00:00<?, ?it/s]"
      ]
     },
     "metadata": {},
     "output_type": "display_data"
    },
    {
     "data": {
      "application/vnd.jupyter.widget-view+json": {
       "model_id": "ed23c368ee444ecea503bb4a28eaea97",
       "version_major": 2,
       "version_minor": 0
      },
      "text/plain": [
       "  0%|          | 0/100 [00:00<?, ?it/s]"
      ]
     },
     "metadata": {},
     "output_type": "display_data"
    },
    {
     "data": {
      "application/vnd.jupyter.widget-view+json": {
       "model_id": "94a1fa7d0ef34962a9fab205fe6a53bf",
       "version_major": 2,
       "version_minor": 0
      },
      "text/plain": [
       "  0%|          | 0/100 [00:00<?, ?it/s]"
      ]
     },
     "metadata": {},
     "output_type": "display_data"
    },
    {
     "data": {
      "application/vnd.jupyter.widget-view+json": {
       "model_id": "44e3d8f9cafe438f941154125b035237",
       "version_major": 2,
       "version_minor": 0
      },
      "text/plain": [
       "  0%|          | 0/100 [00:00<?, ?it/s]"
      ]
     },
     "metadata": {},
     "output_type": "display_data"
    },
    {
     "data": {
      "application/vnd.jupyter.widget-view+json": {
       "model_id": "594397fe2217451bada08e47079c6964",
       "version_major": 2,
       "version_minor": 0
      },
      "text/plain": [
       "  0%|          | 0/100 [00:00<?, ?it/s]"
      ]
     },
     "metadata": {},
     "output_type": "display_data"
    },
    {
     "data": {
      "application/vnd.jupyter.widget-view+json": {
       "model_id": "1d1fff4765964b708f9da864ab46f7a9",
       "version_major": 2,
       "version_minor": 0
      },
      "text/plain": [
       "  0%|          | 0/100 [00:00<?, ?it/s]"
      ]
     },
     "metadata": {},
     "output_type": "display_data"
    },
    {
     "data": {
      "application/vnd.jupyter.widget-view+json": {
       "model_id": "0a040adfba8f4ce4aa9d61b303edd1ab",
       "version_major": 2,
       "version_minor": 0
      },
      "text/plain": [
       "  0%|          | 0/100 [00:00<?, ?it/s]"
      ]
     },
     "metadata": {},
     "output_type": "display_data"
    },
    {
     "data": {
      "application/vnd.jupyter.widget-view+json": {
       "model_id": "9362f949076848f2af486bf9e090abdd",
       "version_major": 2,
       "version_minor": 0
      },
      "text/plain": [
       "  0%|          | 0/100 [00:00<?, ?it/s]"
      ]
     },
     "metadata": {},
     "output_type": "display_data"
    },
    {
     "data": {
      "application/vnd.jupyter.widget-view+json": {
       "model_id": "6a37df46ec1d44b0ab49e9ccadea51b7",
       "version_major": 2,
       "version_minor": 0
      },
      "text/plain": [
       "  0%|          | 0/100 [00:00<?, ?it/s]"
      ]
     },
     "metadata": {},
     "output_type": "display_data"
    },
    {
     "data": {
      "application/vnd.jupyter.widget-view+json": {
       "model_id": "d4d64f4d87924ff781c9b190756693bb",
       "version_major": 2,
       "version_minor": 0
      },
      "text/plain": [
       "  0%|          | 0/100 [00:00<?, ?it/s]"
      ]
     },
     "metadata": {},
     "output_type": "display_data"
    },
    {
     "data": {
      "application/vnd.jupyter.widget-view+json": {
       "model_id": "560df51ce1b64ce1bdbfec48f575e628",
       "version_major": 2,
       "version_minor": 0
      },
      "text/plain": [
       "  0%|          | 0/100 [00:00<?, ?it/s]"
      ]
     },
     "metadata": {},
     "output_type": "display_data"
    },
    {
     "data": {
      "application/vnd.jupyter.widget-view+json": {
       "model_id": "64960eb31123468085d41dfc9fec0d92",
       "version_major": 2,
       "version_minor": 0
      },
      "text/plain": [
       "  0%|          | 0/100 [00:00<?, ?it/s]"
      ]
     },
     "metadata": {},
     "output_type": "display_data"
    },
    {
     "data": {
      "text/plain": [
       "({'title': 1.482365404824786,\n",
       "  'tags': 0.3110799058056106,\n",
       "  'chunk_text': 2.914247315795288},\n",
       " 0.49071825396825397)"
      ]
     },
     "execution_count": 81,
     "metadata": {},
     "output_type": "execute_result"
    }
   ],
   "source": [
    "simple_optimize(param_ranges, objective, n_iterations=20)"
   ]
  },
  {
   "cell_type": "code",
   "execution_count": 82,
   "id": "5d7efeb4",
   "metadata": {},
   "outputs": [
    {
     "data": {
      "application/vnd.jupyter.widget-view+json": {
       "model_id": "31c25350a1544fb4839286adcd372e4f",
       "version_major": 2,
       "version_minor": 0
      },
      "text/plain": [
       "  0%|          | 0/2945 [00:00<?, ?it/s]"
      ]
     },
     "metadata": {},
     "output_type": "display_data"
    },
    {
     "data": {
      "text/plain": [
       "{'hit_rate': 0.702546689303905, 'mrr': 0.4231697523378335}"
      ]
     },
     "execution_count": 82,
     "metadata": {},
     "output_type": "execute_result"
    }
   ],
   "source": [
    "def minsearch_improved(query):\n",
    "    boost = {\n",
    "        'title': 1.48,\n",
    "        'tags': 0.31,\n",
    "        'chunk_text': 2.91\n",
    "    }\n",
    "\n",
    "    results = index.search(\n",
    "        query=query,\n",
    "        filter_dict={},\n",
    "        boost_dict=boost,\n",
    "        num_results=10\n",
    "    )\n",
    "\n",
    "    return results\n",
    "\n",
    "evaluate(ground_truth, lambda q: minsearch_improved(q['question']))"
   ]
  },
  {
   "cell_type": "markdown",
   "id": "19281969-db02-42ae-a1a9-59c3caf86798",
   "metadata": {},
   "source": [
    "# RAG evaluation"
   ]
  },
  {
   "cell_type": "code",
   "execution_count": 83,
   "id": "015c6999-12d3-41f2-ade9-9841722e5be4",
   "metadata": {},
   "outputs": [],
   "source": [
    "prompt2_template = \"\"\"\n",
    "You are an expert evaluator for a RAG system.\n",
    "Your task is to analyze the relevance of the generated answer to the given question.\n",
    "Based on the relevance of the generated answer, you will classify it\n",
    "as \"NON_RELEVANT\", \"PARTLY_RELEVANT\", or \"RELEVANT\".\n",
    "\n",
    "Here is the data for evaluation:\n",
    "\n",
    "Question: {question}\n",
    "Generated Answer: {answer_llm}\n",
    "\n",
    "Please analyze the content and context of the generated answer in relation to the question\n",
    "and provide your evaluation in parsable JSON without using code blocks:\n",
    "\n",
    "{{\n",
    "  \"Relevance\": \"NON_RELEVANT\" | \"PARTLY_RELEVANT\" | \"RELEVANT\",\n",
    "  \"Explanation\": \"[Provide a brief explanation for your evaluation]\"\n",
    "}}\n",
    "\"\"\".strip()"
   ]
  },
  {
   "cell_type": "code",
   "execution_count": 84,
   "id": "90986137",
   "metadata": {},
   "outputs": [
    {
     "data": {
      "text/plain": [
       "2945"
      ]
     },
     "execution_count": 84,
     "metadata": {},
     "output_type": "execute_result"
    }
   ],
   "source": [
    "len(ground_truth)"
   ]
  },
  {
   "cell_type": "code",
   "execution_count": 85,
   "id": "a5306095",
   "metadata": {},
   "outputs": [
    {
     "data": {
      "text/plain": [
       "{'question': \"Quel est l'impact de l'intelligence artificielle dans la post-production audio?\",\n",
       " 'category': 'LA POST-PROD',\n",
       " 'chunk': '4615db39-1',\n",
       " 'article': '4615db39'}"
      ]
     },
     "execution_count": 85,
     "metadata": {},
     "output_type": "execute_result"
    }
   ],
   "source": [
    "record = ground_truth[0]\n",
    "record"
   ]
  },
  {
   "cell_type": "code",
   "execution_count": 87,
   "id": "7d82575b",
   "metadata": {},
   "outputs": [
    {
     "data": {
      "text/plain": [
       "'L\\'impact de l\\'intelligence artificielle (IA) dans la post-production audio est considérable et se manifeste par une amélioration des outils et processus disponibles pour les artistes, producteurs et ingénieurs du son. La démocratisation de l\\'accès à des technologies avancées permet à un plus grand nombre de créateurs de produire des œuvres de qualité professionnelle sans nécessiter une formation approfondie en ingénierie du son.\\n\\nPremièrement, l\\'IA facilite la réalisation des tâches complexes et répétitives, permettant ainsi aux artistes et producteurs de se concentrer sur les aspects créatifs de leur travail. Par exemple, des plugins d\\'IA peuvent s\\'occuper de tâches telles que le nettoyage et la séparation des pistes audio de manière rapide et efficace, ce qui allège la charge de travail des ingénieurs du son. Des technologies avancées comme le dé-mixage, où une piste audio est décomposée en différentes stems (voix, batterie, etc.), sont déjà courantes et en constante amélioration grâce à l\\'IA.\\n\\nDeuxièmement, l\\'IA modifie la manière dont les professionnels interagissent avec la technologie. Plutôt que de se concentrer seulement sur les réglages techniques, les utilisateurs peuvent donner des directives qualitatives, comme \"je veux une voix plus forte et consistante\", et laisser l\\'IA optimiser les paramètres pour obtenir le résultat souhaité. Cela marque une évolution vers des outils plus intuitifs et adaptés aux besoins individuels.\\n\\nCependant, il est essentiel de ne pas considérer ces outils comme des solutions magiques. Une compréhension basique des processus audio est toujours nécessaire pour communiquer efficacement et pour exploiter au mieux ces nouvelles technologies.\\n\\nLes trois articles les plus pertinents pour approfondir ce sujet sont :\\n1. *L’intelligence artificielle (IA) dans le studio de production audio (6/6)* - Cet article offre un aperçu détaillé de l\\'impact de l\\'IA sur la production audio et les opportunités qu\\'elle crée pour les artistes et les producteurs.\\n2. *L’intelligence artificielle (IA) dans le studio de production audio (5/6)* - Il traite spécifiquement des applications de l\\'IA en restauration audio et dé-mixage, illustrant les avancées technologiques dans ce domaine.\\n3. *L’intelligence artificielle (IA) dans le studio de production audio (1/6)* - Cet article pose les bases en définissant ce qu\\'est l\\'IA et comment elle commence à transformer les processus de production audio.'"
      ]
     },
     "execution_count": 87,
     "metadata": {},
     "output_type": "execute_result"
    }
   ],
   "source": [
    "question = record['question']\n",
    "answer_llm = rag(question)"
   ]
  },
  {
   "cell_type": "code",
   "execution_count": 88,
   "id": "bcd7bf73",
   "metadata": {},
   "outputs": [
    {
     "name": "stdout",
     "output_type": "stream",
     "text": [
      "L'impact de l'intelligence artificielle (IA) dans la post-production audio est considérable et se manifeste par une amélioration des outils et processus disponibles pour les artistes, producteurs et ingénieurs du son. La démocratisation de l'accès à des technologies avancées permet à un plus grand nombre de créateurs de produire des œuvres de qualité professionnelle sans nécessiter une formation approfondie en ingénierie du son.\n",
      "\n",
      "Premièrement, l'IA facilite la réalisation des tâches complexes et répétitives, permettant ainsi aux artistes et producteurs de se concentrer sur les aspects créatifs de leur travail. Par exemple, des plugins d'IA peuvent s'occuper de tâches telles que le nettoyage et la séparation des pistes audio de manière rapide et efficace, ce qui allège la charge de travail des ingénieurs du son. Des technologies avancées comme le dé-mixage, où une piste audio est décomposée en différentes stems (voix, batterie, etc.), sont déjà courantes et en constante amélioration grâce à l'IA.\n",
      "\n",
      "Deuxièmement, l'IA modifie la manière dont les professionnels interagissent avec la technologie. Plutôt que de se concentrer seulement sur les réglages techniques, les utilisateurs peuvent donner des directives qualitatives, comme \"je veux une voix plus forte et consistante\", et laisser l'IA optimiser les paramètres pour obtenir le résultat souhaité. Cela marque une évolution vers des outils plus intuitifs et adaptés aux besoins individuels.\n",
      "\n",
      "Cependant, il est essentiel de ne pas considérer ces outils comme des solutions magiques. Une compréhension basique des processus audio est toujours nécessaire pour communiquer efficacement et pour exploiter au mieux ces nouvelles technologies.\n",
      "\n",
      "Les trois articles les plus pertinents pour approfondir ce sujet sont :\n",
      "1. *L’intelligence artificielle (IA) dans le studio de production audio (6/6)* - Cet article offre un aperçu détaillé de l'impact de l'IA sur la production audio et les opportunités qu'elle crée pour les artistes et les producteurs.\n",
      "2. *L’intelligence artificielle (IA) dans le studio de production audio (5/6)* - Il traite spécifiquement des applications de l'IA en restauration audio et dé-mixage, illustrant les avancées technologiques dans ce domaine.\n",
      "3. *L’intelligence artificielle (IA) dans le studio de production audio (1/6)* - Cet article pose les bases en définissant ce qu'est l'IA et comment elle commence à transformer les processus de production audio.\n"
     ]
    }
   ],
   "source": [
    "print(answer_llm)"
   ]
  },
  {
   "cell_type": "code",
   "execution_count": 89,
   "id": "566e8de9",
   "metadata": {},
   "outputs": [
    {
     "name": "stdout",
     "output_type": "stream",
     "text": [
      "You are an expert evaluator for a RAG system.\n",
      "Your task is to analyze the relevance of the generated answer to the given question.\n",
      "Based on the relevance of the generated answer, you will classify it\n",
      "as \"NON_RELEVANT\", \"PARTLY_RELEVANT\", or \"RELEVANT\".\n",
      "\n",
      "Here is the data for evaluation:\n",
      "\n",
      "Question: Quel est l'impact de l'intelligence artificielle dans la post-production audio?\n",
      "Generated Answer: L'impact de l'intelligence artificielle (IA) dans la post-production audio est considérable et se manifeste par une amélioration des outils et processus disponibles pour les artistes, producteurs et ingénieurs du son. La démocratisation de l'accès à des technologies avancées permet à un plus grand nombre de créateurs de produire des œuvres de qualité professionnelle sans nécessiter une formation approfondie en ingénierie du son.\n",
      "\n",
      "Premièrement, l'IA facilite la réalisation des tâches complexes et répétitives, permettant ainsi aux artistes et producteurs de se concentrer sur les aspects créatifs de leur travail. Par exemple, des plugins d'IA peuvent s'occuper de tâches telles que le nettoyage et la séparation des pistes audio de manière rapide et efficace, ce qui allège la charge de travail des ingénieurs du son. Des technologies avancées comme le dé-mixage, où une piste audio est décomposée en différentes stems (voix, batterie, etc.), sont déjà courantes et en constante amélioration grâce à l'IA.\n",
      "\n",
      "Deuxièmement, l'IA modifie la manière dont les professionnels interagissent avec la technologie. Plutôt que de se concentrer seulement sur les réglages techniques, les utilisateurs peuvent donner des directives qualitatives, comme \"je veux une voix plus forte et consistante\", et laisser l'IA optimiser les paramètres pour obtenir le résultat souhaité. Cela marque une évolution vers des outils plus intuitifs et adaptés aux besoins individuels.\n",
      "\n",
      "Cependant, il est essentiel de ne pas considérer ces outils comme des solutions magiques. Une compréhension basique des processus audio est toujours nécessaire pour communiquer efficacement et pour exploiter au mieux ces nouvelles technologies.\n",
      "\n",
      "Les trois articles les plus pertinents pour approfondir ce sujet sont :\n",
      "1. *L’intelligence artificielle (IA) dans le studio de production audio (6/6)* - Cet article offre un aperçu détaillé de l'impact de l'IA sur la production audio et les opportunités qu'elle crée pour les artistes et les producteurs.\n",
      "2. *L’intelligence artificielle (IA) dans le studio de production audio (5/6)* - Il traite spécifiquement des applications de l'IA en restauration audio et dé-mixage, illustrant les avancées technologiques dans ce domaine.\n",
      "3. *L’intelligence artificielle (IA) dans le studio de production audio (1/6)* - Cet article pose les bases en définissant ce qu'est l'IA et comment elle commence à transformer les processus de production audio.\n",
      "\n",
      "Please analyze the content and context of the generated answer in relation to the question\n",
      "and provide your evaluation in parsable JSON without using code blocks:\n",
      "\n",
      "{\n",
      "  \"Relevance\": \"NON_RELEVANT\" | \"PARTLY_RELEVANT\" | \"RELEVANT\",\n",
      "  \"Explanation\": \"[Provide a brief explanation for your evaluation]\"\n",
      "}\n"
     ]
    }
   ],
   "source": [
    "prompt = prompt2_template.format(question=question, answer_llm=answer_llm)\n",
    "print(prompt)"
   ]
  },
  {
   "cell_type": "code",
   "execution_count": 90,
   "id": "006933b8",
   "metadata": {},
   "outputs": [],
   "source": [
    "import json"
   ]
  },
  {
   "cell_type": "code",
   "execution_count": 91,
   "id": "0b0302ac",
   "metadata": {},
   "outputs": [],
   "source": [
    "df_sample = df_question.sample(n=200, random_state=1)"
   ]
  },
  {
   "cell_type": "code",
   "execution_count": 92,
   "id": "0b5a16ed",
   "metadata": {},
   "outputs": [],
   "source": [
    "sample = df_sample.to_dict(orient='records')"
   ]
  },
  {
   "cell_type": "code",
   "execution_count": 93,
   "id": "a0a09bad",
   "metadata": {},
   "outputs": [
    {
     "data": {
      "application/vnd.jupyter.widget-view+json": {
       "model_id": "9d51df44fae44848b51ae3901d37aaa8",
       "version_major": 2,
       "version_minor": 0
      },
      "text/plain": [
       "  0%|          | 0/200 [00:00<?, ?it/s]"
      ]
     },
     "metadata": {},
     "output_type": "display_data"
    }
   ],
   "source": [
    "evaluations = []\n",
    "\n",
    "for record in tqdm(sample):\n",
    "    question = record['question']\n",
    "    answer_llm = rag(question) \n",
    "\n",
    "    prompt = prompt2_template.format(\n",
    "        question=question,\n",
    "        answer_llm=answer_llm\n",
    "    )\n",
    "\n",
    "    evaluation = llm(prompt)\n",
    "    evaluation = json.loads(evaluation)\n",
    "\n",
    "    evaluations.append((record, answer_llm, evaluation))"
   ]
  },
  {
   "cell_type": "code",
   "execution_count": 94,
   "id": "fdfa8313",
   "metadata": {},
   "outputs": [
    {
     "data": {
      "text/plain": [
       "({'question': \"Pourquoi le 32 bits float ne suffit pas avant l'enregistrement dans la DAW ?\",\n",
       "  'category': 'LE HOME STUDIO',\n",
       "  'chunk': 'e55c4a41-6',\n",
       "  'article': 'e55c4a41'},\n",
       " 'Le format 32 bits float est très utile pour le traitement audio au sein d\\'une station de travail audionumérique (DAW) car il offre une large plage dynamique et permet d’éviter le clipping pendant les manipulations internes. Cependant, il ne suffit pas avant l\\'enregistrement dans la DAW pour plusieurs raisons.\\n\\nTout d\\'abord, l\\'avantage du 32 bits float ne s\\'applique pas à la phase de l\\'enregistrement, qui se déroule encore dans le domaine analogique. Pendant cette étape, il est crucial de s\\'assurer que le signal audio ne dépasse pas le 0 dBFS pour éviter la saturation. De plus, une gestion rigoureuse des niveaux est essentielle dès le moment de l\\'enregistrement pour maintenir une bonne qualité audio et éviter des problèmes de bruit de quantification lors des conversions numériques.\\n\\nEnsuite, une fois que le signal audio est exporté hors de la DAW, l\\'avantage des 32 bits float disparaît totalement. Lors de l\\'exportation ou de tout \"bounce\", le signal est converti, ce qui peut entraîner une détérioration de la qualité si la résolution des fichiers de sortie est inférieure (par exemple, 16 ou 24 bits). \\n\\nEn résumé, bien qu\\'un DAW en 32 bits float facilite certains aspects du traitement audio, une vigilance continue sur les niveaux est nécessaire tout au long du processus de production, depuis l\\'enregistrement jusqu\\'à l\\'exportation.\\n\\nPour approfondir ce sujet, je recommande les trois articles suivants :\\n\\n1. **La gestion des niveaux (5): ta DAW en 32 bits float**\\n2. **La gestion des niveaux (6): Maîtriser la dynamique sonore**\\n3. **Par où commencer dans l’apprentissage d’une DAW pour produire sa musique?**',\n",
       " {'Relevance': 'RELEVANT',\n",
       "  'Explanation': 'The generated answer clearly explains why the 32 bits float format is not sufficient before recording in a DAW, discussing the importance of managing audio levels during the analog recording phase and addressing issues that arise when exporting the signal. It provides relevant information that directly answers the question.'})"
      ]
     },
     "execution_count": 94,
     "metadata": {},
     "output_type": "execute_result"
    }
   ],
   "source": [
    "evaluations[0]"
   ]
  },
  {
   "cell_type": "code",
   "execution_count": 95,
   "id": "dc247327",
   "metadata": {},
   "outputs": [],
   "source": [
    "df_eval = pd.DataFrame(evaluations, columns=['record', 'answer', 'evaluation'])\n",
    "\n",
    "df_eval['id'] = df_eval.record.apply(lambda d: d['chunk'])\n",
    "df_eval['question'] = df_eval.record.apply(lambda d: d['question'])\n",
    "\n",
    "df_eval['relevance'] = df_eval.evaluation.apply(lambda d: d['Relevance'])\n",
    "df_eval['explanation'] = df_eval.evaluation.apply(lambda d: d['Explanation'])\n",
    "\n",
    "del df_eval['record']\n",
    "del df_eval['evaluation']"
   ]
  },
  {
   "cell_type": "code",
   "execution_count": 96,
   "id": "1891ce2e",
   "metadata": {},
   "outputs": [
    {
     "data": {
      "text/plain": [
       "relevance\n",
       "RELEVANT           0.985\n",
       "PARTLY_RELEVANT    0.015\n",
       "Name: proportion, dtype: float64"
      ]
     },
     "execution_count": 96,
     "metadata": {},
     "output_type": "execute_result"
    }
   ],
   "source": [
    "df_eval.relevance.value_counts(normalize=True)"
   ]
  },
  {
   "cell_type": "code",
   "execution_count": 97,
   "id": "187aa368",
   "metadata": {},
   "outputs": [],
   "source": [
    "df_eval.to_csv('../data/rag-eval-gpt-4o-mini.csv', index=False)"
   ]
  },
  {
   "cell_type": "code",
   "execution_count": 99,
   "id": "3b4af5d4",
   "metadata": {},
   "outputs": [
    {
     "data": {
      "text/html": [
       "<div>\n",
       "<style scoped>\n",
       "    .dataframe tbody tr th:only-of-type {\n",
       "        vertical-align: middle;\n",
       "    }\n",
       "\n",
       "    .dataframe tbody tr th {\n",
       "        vertical-align: top;\n",
       "    }\n",
       "\n",
       "    .dataframe thead th {\n",
       "        text-align: right;\n",
       "    }\n",
       "</style>\n",
       "<table border=\"1\" class=\"dataframe\">\n",
       "  <thead>\n",
       "    <tr style=\"text-align: right;\">\n",
       "      <th></th>\n",
       "      <th>answer</th>\n",
       "      <th>id</th>\n",
       "      <th>question</th>\n",
       "      <th>relevance</th>\n",
       "      <th>explanation</th>\n",
       "    </tr>\n",
       "  </thead>\n",
       "  <tbody>\n",
       "    <tr>\n",
       "      <th>18</th>\n",
       "      <td>Pour changer le pitch naturellement dans Ablet...</td>\n",
       "      <td>173567a9-2</td>\n",
       "      <td>Quelle méthode peut-on utiliser pour changer l...</td>\n",
       "      <td>PARTLY_RELEVANT</td>\n",
       "      <td>The generated answer discusses changing pitch ...</td>\n",
       "    </tr>\n",
       "    <tr>\n",
       "      <th>31</th>\n",
       "      <td>Pour éviter les pièges du make-up gain lors de...</td>\n",
       "      <td>584d0437-3</td>\n",
       "      <td>Quels conseils professionnels peut on suivre p...</td>\n",
       "      <td>PARTLY_RELEVANT</td>\n",
       "      <td>The generated answer discusses make-up gain an...</td>\n",
       "    </tr>\n",
       "    <tr>\n",
       "      <th>146</th>\n",
       "      <td>La question concernant l'activation du mode Th...</td>\n",
       "      <td>173567a9-11</td>\n",
       "      <td>Quelles sont les étapes pour activer le mode T...</td>\n",
       "      <td>PARTLY_RELEVANT</td>\n",
       "      <td>The generated answer acknowledges the question...</td>\n",
       "    </tr>\n",
       "  </tbody>\n",
       "</table>\n",
       "</div>"
      ],
      "text/plain": [
       "                                                answer           id  \\\n",
       "18   Pour changer le pitch naturellement dans Ablet...   173567a9-2   \n",
       "31   Pour éviter les pièges du make-up gain lors de...   584d0437-3   \n",
       "146  La question concernant l'activation du mode Th...  173567a9-11   \n",
       "\n",
       "                                              question        relevance  \\\n",
       "18   Quelle méthode peut-on utiliser pour changer l...  PARTLY_RELEVANT   \n",
       "31   Quels conseils professionnels peut on suivre p...  PARTLY_RELEVANT   \n",
       "146  Quelles sont les étapes pour activer le mode T...  PARTLY_RELEVANT   \n",
       "\n",
       "                                           explanation  \n",
       "18   The generated answer discusses changing pitch ...  \n",
       "31   The generated answer discusses make-up gain an...  \n",
       "146  The generated answer acknowledges the question...  "
      ]
     },
     "execution_count": 99,
     "metadata": {},
     "output_type": "execute_result"
    }
   ],
   "source": [
    "\n",
    "df_eval[df_eval.relevance == 'PARTLY_RELEVANT']"
   ]
  }
 ],
 "metadata": {
  "kernelspec": {
   "display_name": "Python 3 (ipykernel)",
   "language": "python",
   "name": "python3"
  },
  "language_info": {
   "codemirror_mode": {
    "name": "ipython",
    "version": 3
   },
   "file_extension": ".py",
   "mimetype": "text/x-python",
   "name": "python",
   "nbconvert_exporter": "python",
   "pygments_lexer": "ipython3",
   "version": "3.12.2"
  }
 },
 "nbformat": 4,
 "nbformat_minor": 5
}
