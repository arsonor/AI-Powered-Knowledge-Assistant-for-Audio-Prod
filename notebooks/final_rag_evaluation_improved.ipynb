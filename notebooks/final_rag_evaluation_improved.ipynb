{
 "cells": [
  {
   "cell_type": "code",
   "execution_count": 48,
   "id": "9fbd7bbe-145f-4e58-a874-b005dbed225c",
   "metadata": {},
   "outputs": [],
   "source": [
    "import pandas as pd\n",
    "import json\n",
    "import logging\n",
    "from tqdm.auto import tqdm\n",
    "from elasticsearch import Elasticsearch\n",
    "from elasticsearch.helpers import bulk\n",
    "from openai import OpenAI\n",
    "client = OpenAI()"
   ]
  },
  {
   "cell_type": "markdown",
   "id": "2454e399-424c-422e-9c60-8a83cf54b729",
   "metadata": {},
   "source": [
    "# Ingestion"
   ]
  },
  {
   "cell_type": "code",
   "execution_count": 11,
   "id": "21c60918-87b5-4156-88b7-291eb26ed85a",
   "metadata": {},
   "outputs": [],
   "source": [
    "with open('../data/arsonor_chunks_300_50.json', 'r', encoding='utf-8') as file:\n",
    "    documents = json.load(file)"
   ]
  },
  {
   "cell_type": "code",
   "execution_count": 12,
   "id": "95eeaaa6",
   "metadata": {},
   "outputs": [],
   "source": [
    "es = Elasticsearch(\"http://localhost:9200\")"
   ]
  },
  {
   "cell_type": "code",
   "execution_count": 13,
   "id": "869defd3",
   "metadata": {},
   "outputs": [],
   "source": [
    "index_name = \"arsonor_chunks_300\"\n",
    "\n",
    "# Create index if not already created\n",
    "if not es.indices.exists(index=index_name):\n",
    "    es.indices.create(index=index_name, body={\n",
    "        \"mappings\": {\n",
    "            \"properties\": {\n",
    "                \"article_id\": {\"type\": \"keyword\"},\n",
    "                \"title\": {\"type\": \"text\"},\n",
    "                \"url\": {\"type\": \"keyword\"},\n",
    "                \"category\": {\"type\": \"keyword\"},\n",
    "                \"tags\": {\"type\": \"text\"},\n",
    "                \"chunk_id\": {\"type\": \"keyword\"},\n",
    "                \"chunk_text\": {\"type\": \"text\"},\n",
    "                # \"embedding\": {\"type\": \"dense_vector\", \"dims\": 768}  # assuming 768-dim embeddings\n",
    "            }\n",
    "        }\n",
    "    })"
   ]
  },
  {
   "cell_type": "code",
   "execution_count": 14,
   "id": "0e16761c",
   "metadata": {},
   "outputs": [
    {
     "data": {
      "text/plain": [
       "(572, [])"
      ]
     },
     "execution_count": 14,
     "metadata": {},
     "output_type": "execute_result"
    }
   ],
   "source": [
    "def prepare_documents_for_indexing(docs):\n",
    "    for doc in docs:\n",
    "        yield {\n",
    "            \"_index\": index_name,\n",
    "            \"_id\": doc['chunk_id'],\n",
    "            \"_source\": {\n",
    "                \"article_id\": doc['article_id'],\n",
    "                \"title\": doc['title'],\n",
    "                \"url\": doc['url'],\n",
    "                \"category\": doc['category'],\n",
    "                \"tags\": doc['tags'],\n",
    "                \"chunk_id\": doc['chunk_id'],\n",
    "                \"chunk_text\": doc['chunk_text'],\n",
    "                # \"embedding\": generate_embedding(doc['chunk_text'])  # Add embedding here\n",
    "            }\n",
    "        }\n",
    "\n",
    "# Index the documents in bulk\n",
    "bulk(es, prepare_documents_for_indexing(documents))"
   ]
  },
  {
   "cell_type": "markdown",
   "id": "7ad4c969-765d-4ad2-b773-30cd5a790bf9",
   "metadata": {},
   "source": [
    "# RAG flow"
   ]
  },
  {
   "cell_type": "code",
   "execution_count": 15,
   "id": "0dd6789d-dbcd-4bb8-a19c-70213e286f05",
   "metadata": {},
   "outputs": [],
   "source": [
    "query = 'De quel matériel ai-je besoin pour créer ma musique dans mon home-studio?'"
   ]
  },
  {
   "cell_type": "markdown",
   "id": "606af0fc",
   "metadata": {},
   "source": [
    "### Two-level retrieval mechanism (article-level followed by chunk-level)"
   ]
  },
  {
   "cell_type": "code",
   "execution_count": 20,
   "id": "c62a3bf9",
   "metadata": {},
   "outputs": [],
   "source": [
    "def elastic_search2(query, category=None, min_score=0.1):\n",
    "    # First-level: Article search with diversity\n",
    "    article_filter = {\n",
    "        \"bool\": {\n",
    "            \"should\": [\n",
    "                {\n",
    "                    \"multi_match\": {\n",
    "                        \"query\": query,\n",
    "                        \"fields\": [\"title^3\", \"tags^2\", \"category\"],\n",
    "                        \"type\": \"cross_fields\",\n",
    "                        \"operator\": \"or\",\n",
    "                        \"tie_breaker\": 0.3\n",
    "                    }\n",
    "                }\n",
    "            ],\n",
    "            \"filter\": []\n",
    "        }\n",
    "    }\n",
    "\n",
    "    if category:\n",
    "        article_filter['bool']['filter'].append({\"term\": {\"category\": category}})\n",
    "\n",
    "    article_search_body = {\n",
    "        \"query\": article_filter,\n",
    "        \"size\": 20,  # Increased size for more diversity\n",
    "        \"_source\": [\"article_id\", \"title\", \"category\", \"tags\", \"url\"],\n",
    "        \"collapse\": {\n",
    "            \"field\": \"article_id\",  # Collapse results by article_id\n",
    "            \"inner_hits\": {\n",
    "                \"name\": \"most_relevant_chunk\",\n",
    "                \"size\": 1,\n",
    "                \"sort\": [{\"_score\": \"desc\"}]\n",
    "            },\n",
    "            \"max_concurrent_group_searches\": 4\n",
    "        },\n",
    "        \"min_score\": min_score\n",
    "    }\n",
    "\n",
    "    try:\n",
    "        article_search_results = es.search(index=index_name, body=article_search_body)['hits']['hits']\n",
    "    except Exception as e:\n",
    "        print(f\"Error in article search: {e}\")\n",
    "        return [], []\n",
    "\n",
    "    if not article_search_results:\n",
    "        return [], []\n",
    "\n",
    "    # Extract unique article IDs\n",
    "    top_article_ids = list(set(hit['_source']['article_id'] for hit in article_search_results))\n",
    "\n",
    "    # Second-level: Diverse chunk-level search\n",
    "    chunk_filter = {\n",
    "        \"bool\": {\n",
    "            \"must\": [\n",
    "                {\"terms\": {\"article_id\": top_article_ids}},\n",
    "                {\n",
    "                    \"multi_match\": {\n",
    "                        \"query\": query,\n",
    "                        \"fields\": [\"chunk_text^2\", \"title\"],\n",
    "                        \"type\": \"best_fields\",\n",
    "                        \"operator\": \"or\",\n",
    "                        \"fuzziness\": \"AUTO\"\n",
    "                    }\n",
    "                }\n",
    "            ]\n",
    "        }\n",
    "    }\n",
    "\n",
    "    chunk_search_body = {\n",
    "        \"query\": chunk_filter,\n",
    "        \"size\": 20,  # Increased size\n",
    "        \"_source\": [\"article_id\", \"chunk_id\", \"chunk_text\", \"title\", \"url\"],\n",
    "        \"collapse\": {\n",
    "            \"field\": \"article_id\",  # Ensure chunks from different articles\n",
    "            \"inner_hits\": {\n",
    "                \"name\": \"alternative_chunks\",\n",
    "                \"size\": 2  # Get 2 best chunks per article\n",
    "            }\n",
    "        },\n",
    "        \"min_score\": min_score\n",
    "    }\n",
    "\n",
    "    try:\n",
    "        chunk_search_results = es.search(index=index_name, body=chunk_search_body)['hits']['hits']\n",
    "    except Exception as e:\n",
    "        print(f\"Error in chunk search: {e}\")\n",
    "        return article_search_results, []\n",
    "\n",
    "    return article_search_results, chunk_search_results"
   ]
  },
  {
   "cell_type": "code",
   "execution_count": 21,
   "id": "c172e533",
   "metadata": {},
   "outputs": [],
   "source": [
    "def process_search_results(article_results, chunk_results):\n",
    "    processed_results = []\n",
    "    \n",
    "    # Create a mapping of article_id to article details\n",
    "    article_map = {hit['_source']['article_id']: hit['_source'] for hit in article_results}\n",
    "    \n",
    "    # Process chunk results and combine with article information\n",
    "    for chunk_hit in chunk_results:\n",
    "        article_id = chunk_hit['_source']['article_id']\n",
    "        if article_id in article_map:\n",
    "            article_info = article_map[article_id]\n",
    "            \n",
    "            # Get inner hits (alternative chunks)\n",
    "            alternative_chunks = chunk_hit['inner_hits']['alternative_chunks']['hits']['hits']\n",
    "            \n",
    "            processed_result = {\n",
    "                'article_id': article_id,\n",
    "                'title': article_info['title'],\n",
    "                'category': article_info.get('category', ''),\n",
    "                'tags': article_info.get('tags', []),\n",
    "                'url': article_info.get('url', ''),\n",
    "                'chunks': [\n",
    "                    {\n",
    "                        'chunk_id': alt_chunk['_source']['chunk_id'],\n",
    "                        'chunk_text': alt_chunk['_source']['chunk_text'],\n",
    "                        'score': alt_chunk['_score']\n",
    "                    }\n",
    "                    for alt_chunk in alternative_chunks\n",
    "                ],\n",
    "                'overall_score': chunk_hit['_score']\n",
    "            }\n",
    "            processed_results.append(processed_result)\n",
    "    \n",
    "    return processed_results"
   ]
  },
  {
   "cell_type": "code",
   "execution_count": 18,
   "id": "ceeb7972",
   "metadata": {},
   "outputs": [],
   "source": [
    "def search_with_diversity(query, category=None):\n",
    "    article_results, chunk_results = elastic_search2(query, category)\n",
    "    processed_results = process_search_results(article_results, chunk_results)\n",
    "    \n",
    "    return processed_results"
   ]
  },
  {
   "cell_type": "markdown",
   "id": "0fc3b25a",
   "metadata": {},
   "source": [
    "### Prompt"
   ]
  },
  {
   "cell_type": "code",
   "execution_count": 42,
   "id": "460e2c4b-d2b5-416a-aeb8-b2a503f8c448",
   "metadata": {},
   "outputs": [],
   "source": [
    "prompt_template = \"\"\"\n",
    "You're an audio engineer and sound designer instructor for beginners.\n",
    "You're particularly specialized in audio home-studio set-up, computer music production and audio post-production in general (editing, mixing and mastering). \n",
    "Answer the QUESTION based on the CONTEXT from our arsonor knowledge database (articles).\n",
    "Use only the facts from the CONTEXT when answering the QUESTION.\n",
    "Finally, recommend the top 3 Arsonor articles that are the best to read for answering this question.\n",
    "For each recommended article, include both its title and URL.\n",
    "\n",
    "QUESTION: {question}\n",
    "\n",
    "CONTEXT:\n",
    "{context}\n",
    "\n",
    "RECOMMENDED ARTICLES:\n",
    "{recommendations}\n",
    "\"\"\".strip()\n",
    "\n",
    "entry_template = \"\"\"\n",
    "ARTICLE: {title}\n",
    "KEYWORDS: {tags}\n",
    "CONTENT: {chunk_text}\n",
    "\"\"\".strip()\n",
    "\n",
    "recommendation_template = \"\"\"\n",
    "- [{title}]({url})\n",
    "\"\"\".strip()\n"
   ]
  },
  {
   "cell_type": "code",
   "execution_count": 46,
   "id": "c874bb9e",
   "metadata": {},
   "outputs": [],
   "source": [
    "def build_prompt2(query, search_results, max_context_entries=10):\n",
    "    # Build context from chunks\n",
    "    context_entries = []\n",
    "    seen_articles = set()\n",
    "    article_details = []\n",
    "\n",
    "    # Create a flat list of all chunks with their article info\n",
    "    all_chunks = []\n",
    "    for result in search_results:\n",
    "        article_id = result['article_id']\n",
    "        \n",
    "        # Store article details for recommendations\n",
    "        if article_id not in seen_articles:\n",
    "            seen_articles.add(article_id)\n",
    "            article_details.append({\n",
    "                'title': result['title'].strip(),\n",
    "                'url': result.get('url', '#').strip(),\n",
    "                'relevance_score': result['overall_score']\n",
    "            })        \n",
    "\n",
    "        # Add all chunks to a flat list with their article info\n",
    "        for chunk in result['chunks']:\n",
    "            all_chunks.append({\n",
    "                'title': result['title'],\n",
    "                'tags': result['tags'],\n",
    "                'chunk_text': chunk['chunk_text'],\n",
    "                'score': chunk['score']\n",
    "            })\n",
    "\n",
    "    # Sort all chunks by score and take top 10\n",
    "    top_chunks = sorted(all_chunks, key=lambda x: x['score'], reverse=True)[:max_context_entries]\n",
    "    \n",
    "    # Create context entries from top chunks\n",
    "    context_entries = [\n",
    "        entry_template.format(\n",
    "            title=chunk['title'],\n",
    "            tags=chunk['tags'],\n",
    "            chunk_text=chunk['chunk_text']\n",
    "        )\n",
    "        for chunk in top_chunks\n",
    "    ]\n",
    "    \n",
    "    # Sort article details by relevance score and get top 3\n",
    "    top_articles = sorted(article_details, key=lambda x: x['relevance_score'], reverse=True)[:3]\n",
    "    \n",
    "    # Create recommendations with clickable links\n",
    "    recommendations = \"\\n\".join(\n",
    "        recommendation_template.format(**article) \n",
    "        for article in top_articles\n",
    "    )\n",
    "\n",
    "    # Build the full prompt\n",
    "    context = \"\\n\\n\".join(context_entries)\n",
    "    prompt = prompt_template.format(\n",
    "        question=query,\n",
    "        context=context,\n",
    "        recommendations=recommendations\n",
    "    )\n",
    "    \n",
    "    return prompt"
   ]
  },
  {
   "cell_type": "code",
   "execution_count": 47,
   "id": "cdc8d950",
   "metadata": {},
   "outputs": [],
   "source": [
    "def get_prompt_for_query(query, category=None, max_context_entries=10):\n",
    "    search_results = search_with_diversity(query, category)\n",
    "    if not search_results:\n",
    "        return \"No relevant articles found for your query.\"\n",
    "    \n",
    "    try:\n",
    "        prompt = build_prompt2(query, search_results, max_context_entries)\n",
    "        return prompt\n",
    "    except Exception as e:\n",
    "        logging.error(f\"Error building prompt: {e}\")\n",
    "        return f\"Error generating prompt: {str(e)}\""
   ]
  },
  {
   "cell_type": "code",
   "execution_count": 49,
   "id": "db9fe941",
   "metadata": {},
   "outputs": [],
   "source": [
    "# Optional: Debug function to check context size\n",
    "def debug_context_size(prompt):\n",
    "    context_start = prompt.find(\"CONTEXT:\") + 8\n",
    "    context_end = prompt.find(\"RECOMMENDED ARTICLES:\")\n",
    "    context = prompt[context_start:context_end].strip()\n",
    "    chunks = context.split('\\n\\nARTICLE:')\n",
    "    return {\n",
    "        'num_chunks': len(chunks),\n",
    "        'total_context_length': len(context),\n",
    "        'average_chunk_length': len(context) / len(chunks) if chunks else 0\n",
    "    }"
   ]
  },
  {
   "cell_type": "markdown",
   "id": "7bf18ede",
   "metadata": {},
   "source": [
    "### Test prompt"
   ]
  },
  {
   "cell_type": "code",
   "execution_count": 63,
   "id": "5da68f69",
   "metadata": {},
   "outputs": [
    {
     "name": "stdout",
     "output_type": "stream",
     "text": [
      "You're an audio engineer and sound designer instructor for beginners.\n",
      "You're particularly specialized in audio home-studio set-up, computer music production and audio post-production in general (editing, mixing and mastering). \n",
      "Answer the QUESTION based on the CONTEXT from our arsonor knowledge database (articles).\n",
      "Use only the facts from the CONTEXT when answering the QUESTION.\n",
      "Finally, recommend the top 3 Arsonor articles that are the best to read for answering this question.\n",
      "For each recommended article, include both its title and URL.\n",
      "\n",
      "QUESTION: De quel matériel ai-je besoin pour créer ma musique dans mon home-studio?\n",
      "\n",
      "CONTEXT:\n",
      "ARTICLE: Comment bien débuter en MAO: le home-studio démystifié\n",
      "KEYWORDS: DAW, hardware, home-studio, MAO, matériel audio, plugin, software\n",
      "CONTENT: La MAO (Musique Assistée par Ordinateur) est en vogue depuis l’ère du numérique. Un ordinateur peut devenir facilement un centre de production musicale et audiovisuelle. Si en plus c’est un portable, te voilà à la tête d’un studio d’enregistrement mobile! Il est néanmoins nécessaire de comprendre le cheminement du signal audio et les divers éléments constituant un véritable petit studio. Un ordinateur c’est déjà pas mal mais il ne reste qu’un support. Il faut ensuite les éléments qui vont permettre de faire rentrer l’audio si on veut enregistrer des sons extérieurs, les manipuler puis les ressortir pour finalement pouvoir écouter du mieux possible. Dans l’univers de la MAO, tu découvriras vite une jungle de matériels et de fabricants divers où il sera facile de s’y perdre ou de se décourager. Aussi, je n’aborderai pas ici le détail des marques, prix et caractéristiques de chaque élément, le but de l’article étant surtout de présenter un aperçu global de ce qui constitue un home-studio avant qu’on entre dans le vif du sujet. Le home studio, de l'audio professionnel à domicile Je sais que pour la plupart des novices cet univers de l’audio peut paraître effrayant, surtout à la vue de certains studios suréquipés ou à la lecture d’un article sur la dernière machine en vogue dans un journal spécialisé. C’est sûr tu trouveras toujours quelqu’un pour te montrer ses 50 synthétiseurs analogiques, ses 10 boîtes à rythmes, ses 3 ordinateurs et quelques interfaces audio multi-pistes avec leurs micros, le tout pour plus de 10000€. La vérité : Pour commencer, tu n’as besoin d’aucune machine autre qu’un simple ordinateur. L’autre vérité : Pour créer du grand art, tu n’as toujours pas besoin d’appareil en plus.\n",
      "\n",
      "ARTICLE: Deviens toi aussi producteur musical depuis ton home studio\n",
      "KEYWORDS: home-studio, ingénieur du son, MAO, production musicale\n",
      "CONTENT: Avis à tous les passionnés de musique, c’est avec grand plaisir que j’ouvre ce blog afin de partager ma passion de la MAO (Musique Assistée par Ordinateur) et du home studio , de la création au mixage audio. Alors tu te demandes sûrement… … Qu’est-ce que Arsonor? Contexte De nos jours, la musique est omniprésente. Les médias traditionnels (radio, télé) et surtout maintenant Internet et les réseaux sociaux nous font découvrir de nouveaux artistes tous les jours. Des sites comme Soundcloud ou Bandcamp sont absolument remplis de création de tout bords de façon continue. Quant à Youtube , c’est devenu la plus grande plateforme d’écoute de musique en ligne où il est devenu très facile d’écouter et de publier. Depuis quelques années, le monde de la création et de la production musicale s’est considérablement ouvert grâce à l’évolution ininterrompue et considérable de l’informatique, l’émergence d’internet à haut débit et le développement des échanges de fichier à grande échelle. Par le passé, les premiers home studio pouvaient ressembler à un véritable arsenal où s’enchevêtraient câbles, patchs et racks remplis de matériel, et le tout à un coût exorbitant! Aujourd’hui tout commence avec un simple ordinateur et un casque car le matériel a été remplacé par son équivalent logiciel. De plus en plus d’artistes émergent en composant chez eux, depuis leur home studio avant de finaliser leurs projets dans un studio professionnel (voire toujours depuis chez soi) . On parle alors de plus en plus de création DIY (“Do It Yourself”) et d’un nouveau rôle des amateurs qui sont en mesure de travailler avec des moyens équivalents aux professionnels.\n",
      "\n",
      "ARTICLE: Comment bien débuter en MAO: le home-studio démystifié\n",
      "KEYWORDS: DAW, hardware, home-studio, MAO, matériel audio, plugin, software\n",
      "CONTENT: C’est sûr tu trouveras toujours quelqu’un pour te montrer ses 50 synthétiseurs analogiques, ses 10 boîtes à rythmes, ses 3 ordinateurs et quelques interfaces audio multi-pistes avec leurs micros, le tout pour plus de 10000€. La vérité : Pour commencer, tu n’as besoin d’aucune machine autre qu’un simple ordinateur. L’autre vérité : Pour créer du grand art, tu n’as toujours pas besoin d’appareil en plus. I - Ce qu'il te faut dans ton home studio 1) L'ordinateur Oui celui que tu utilises en ce moment fera sûrement l’affaire. Outre l’éternel débat Mac ou PC, aujourd’hui, si ton ordinateur, quel qu’il soit, est relativement récent, tu ne devrais pas avoir trop de problèmes pour travailler de l’audio au départ. Voici tout de même quelques recommandations importantes : – S’assurer d’avoir un processeur rapide et fiable et une carte mère qui possède suffisamment de place pour y ajouter de la RAM (mémoire vive). Anticipes l’avenir, tes besoins iront crescendo au fur et à mesure que tu seras impliqué dans la musique numérique. – Suivant tes objectifs, il sera préférable de garder ton ordinateur uniquement pour la musique et donc de le configurer spécifiquement pour cela. Sois réaliste et vérifies si ta machine sera capable de supporter tous tes logiciels musicaux en plus d’autres applications que tu possèdes déjà. Attention avec les PC avec notamment l’antivirus qui prend beaucoup de ressources. Personnellement j’ai un macbook avec le strict minimum, par exemple aucun jeu ou autre application gourmande en énergie n’y est installée (à part tout ce qui est lié à la musique bien sûr).\n",
      "\n",
      "ARTICLE: L’intelligence artificielle (IA) dans le studio de production audio (2/6)\n",
      "KEYWORDS: écosystème IA, IA, mastering, services en ligne\n",
      "CONTENT: Ils revisitent et dirigent le son global du mix – et cela, pour moi, c’est produire. Et c’est génial. Je suis vraiment heureux que les ingénieurs mastering agissent en tant que coproducteurs, dans la mesure où nous ne faisons qu’apporter de la productivité aux artistes, nous ne prenons pas d’emplois. Je ne pense donc pas qu’il y aura moins d’opportunités de carrière avec LANDR. Je pense qu’il y aura simplement plus de musique. » * * https://www.soundonsound.com/music-business/ai-music , article datant de 2018, donc le constat et les chiffres avancés ont encore dû évoluer. Remplacer le studio de Mastering par un algorithme IA, comment cela a été rendu possible? Plusieurs raisons expliquent le succès et la confirmation de LANDR: 1) LANDR répond à une demande spécifique Les règles du jeu ont changé. L’objectif du mastering est de rendre l’expérience d’écoute cohérente dans tous les formats. Le processus varie selon les différents formats (Spotify, CD, films, etc.) car chacun a des contraintes de volume différentes, ce qui rend le mastering extrêmement technique et potentiellement coûteux. On ne va pas se mentir: de très bons ingénieurs mastering qualifiés et bon marché ne courent pas les rues. On est d’accord que pour des cas bien spécifiques, l’IA n’est pas prête de remplacer la finesse d’un expert humain. Mais la demande aujourd’hui se dirige énormément vers les plateformes de streaming en ligne (Spotify, Youtube, Soundcloud, etc, …) . Cela requiert donc moins de compétences techniques que pour d’autres supports plus classiques (vinyles, CD). 2) Le mixage en home-studio, préalable au mastering, se démocratise de plus en plus Une condition sine qua non pour que l’algorithme IA sorte un résultat satisfaisant est qu’en amont le mixage soit irréprochable .\n",
      "\n",
      "ARTICLE: Amen Break Beatmaking: mise en pratique dans Ableton Live\n",
      "KEYWORDS: ableton live, amen break, boucle audio, breakbeat, pitch, sampling, time-stretch, warp\n",
      "CONTENT: Inconvénients de la méthode 1 Tempo du projet fixé définitivement Comme la boucle change de longueur avec le tempo, je suis obligé de fixer le tempo de mon projet dès le départ et ne plus y toucher. Avec cette méthode, je fais de ma boucle le maître de la rythmique. Mais si je veux qu’elle joue plus lentement et donc plus grave, je change en conséquence le tempo de mon projet. Suppose de connaître son tempo d’origine Je savais que le Amen Break original joue à 138 BPM, ce qui m’a permis de caler immédiatement la boucle à la grille en indiquant le même tempo pour le projet. Editing complexe et chronophage pour changer le groove Si jamais, je veux changer ce groove et recaler certaines transitoires, je dois passer par de l’editing fastidieux dans la vue arrangement. Voilà pour la première option de ce qu’on peut faire avec une boucle rythmique dans un projet musical. Maintenant on va voir une autre manière de travailler avec cette boucle pour pouvoir l’utiliser autrement: – Cela peut être parce que j’ai déjà une rythmique en place, basée sur d’autres parties MIDI programmées. Auquel cas je veux parfaitement synchroniser ma boucle avec le reste et pas l’inverse. – C’est aussi dans le cas fréquent où je veux modifier complètement la rythmique et créer d’autres modèles plus personnalisés. Ceci dit, rien n’interdit aussi de tirer parti du meilleur des deux mondes en quantifiant ma boucle à la rythmique imposée puis de la laisser libre et intacte dans des parties du morceau plus épurées, lorsqu’elle joue seule par exemple. Méthode 2: Calage de la boucle et détermination de son tempo (mode Warp enclenché) Dans cette deuxième méthode, je vais vouloir dès le départ synchroniser et quantifier ma boucle à une grille bien précise.\n",
      "\n",
      "RECOMMENDED ARTICLES:\n",
      "- [Comment bien débuter en MAO: le home-studio démystifié](https://arsonor.com/comment-bien-debuter-en-mao-le-home-studio-demystifie/)\n",
      "- [Deviens toi aussi producteur musical depuis ton home studio](https://arsonor.com/deviens-toi-aussi-producteur-musical-depuis-ton-home-studio/)\n",
      "- [L’intelligence artificielle (IA) dans le studio de production audio (2/6)](https://arsonor.com/lintelligence-artificielle-ia-dans-le-studio-de-production-audio-2-6/)\n"
     ]
    }
   ],
   "source": [
    "prompt = get_prompt_for_query(query, category=None, max_context_entries=5)\n",
    "print(prompt)"
   ]
  },
  {
   "cell_type": "code",
   "execution_count": 55,
   "id": "d569bb5c",
   "metadata": {},
   "outputs": [
    {
     "name": "stdout",
     "output_type": "stream",
     "text": [
      "Number of chunks: 5\n",
      "Total context length: 9276\n",
      "Average chunk length: 1855.20\n"
     ]
    }
   ],
   "source": [
    "debug_info = debug_context_size(prompt)\n",
    "print(f\"Number of chunks: {debug_info['num_chunks']}\")\n",
    "print(f\"Total context length: {debug_info['total_context_length']}\")\n",
    "print(f\"Average chunk length: {debug_info['average_chunk_length']:.2f}\")"
   ]
  },
  {
   "cell_type": "code",
   "execution_count": 56,
   "id": "6a54c74a-78fa-4684-b19b-f6bba6273cec",
   "metadata": {},
   "outputs": [],
   "source": [
    "def llm(prompt, model='gpt-4o-mini'):\n",
    "    response = client.chat.completions.create(\n",
    "        model=model,\n",
    "        messages=[{\"role\": \"user\", \"content\": prompt}]\n",
    "    )\n",
    "    \n",
    "    return response.choices[0].message.content"
   ]
  },
  {
   "cell_type": "code",
   "execution_count": 64,
   "id": "200a1d40-a113-4737-99ec-ac7e1c6114d4",
   "metadata": {},
   "outputs": [],
   "source": [
    "def rag(query, category=None, model='gpt-4o-mini'):\n",
    "    prompt = get_prompt_for_query(query, category, max_context_entries=5)\n",
    "    answer = llm(prompt, model=model)\n",
    "    return answer"
   ]
  },
  {
   "cell_type": "code",
   "execution_count": 62,
   "id": "58469b47-a3ee-4941-9466-d944c82d7265",
   "metadata": {},
   "outputs": [
    {
     "name": "stdout",
     "output_type": "stream",
     "text": [
      "Pour créer de la musique dans votre home-studio, vous n'avez besoin que de quelques éléments essentiels :\n",
      "\n",
      "1. **Un ordinateur** : C'est la base de votre home-studio. Que ce soit un Mac ou un PC, un ordinateur relativement récent avec un processeur rapide et une carte mère capable d'accueillir suffisamment de RAM est recommandé. Assurez-vous également de réserver cet ordinateur exclusivement pour vos activités musicales afin d'éviter d’éventuels ralentissements.\n",
      "\n",
      "2. **Un logiciel de production musicale (DAW)** : Ce logiciel est crucial pour composer, enregistrer, éditer, mixer et masteriser vos morceaux. Il existe de nombreux DAWs disponibles, chacun ayant ses propres fonctionnalités et interfaces.\n",
      "\n",
      "3. **Un casque audio ou des enceintes de monitoring** : Pour écouter vos créations avec précision, un bon casque ou des enceintes de qualité est nécessaire. Cela vous permettra de faire des ajustements dans le mixage avec une meilleure référence audio.\n",
      "\n",
      "4. **Une interface audio (optionnelle)** : Si vous prévoyez d'enregistrer des instruments ou des voix, une interface audio peut être très utile pour manipuler le son d’une manière professionnelle.\n",
      "\n",
      "En résumé, vous pouvez commencer avec un ordinateur, un logiciel de MAO (Musique Assistée par Ordinateur), et un bon moyen d'écoute. D'autres équipements peuvent venir s'ajouter par la suite, mais pour débuter, ces éléments sont suffisants.\n",
      "\n",
      "**Articles recommandés :**\n",
      "1. [Comment bien débuter en MAO: le home-studio démystifié](https://arsonor.com/comment-bien-debuter-en-mao-le-home-studio-demystifie/)\n",
      "2. [Deviens toi aussi producteur musical depuis ton home studio](https://arsonor.com/deviens-toi-aussi-producteur-musical-depuis-ton-home-studio/)\n",
      "3. [L’intelligence artificielle (IA) dans le studio de production audio (2/6)](https://arsonor.com/lintelligence-artificielle-ia-dans-le-studio-de-production-audio-2-6/)\n"
     ]
    }
   ],
   "source": [
    "category = 'LE HOME STUDIO'\n",
    "question = 'De quel matériel ai-je besoin pour créer ma musique dans mon home-studio?'\n",
    "answer = rag(question)\n",
    "print(answer)"
   ]
  },
  {
   "cell_type": "markdown",
   "id": "73be4d02-5d0f-465b-9b75-26dac1b1cbb7",
   "metadata": {},
   "source": [
    "# Retrieval evaluation"
   ]
  },
  {
   "cell_type": "code",
   "execution_count": 148,
   "id": "286045b2-a6a9-4120-9d75-8bdf4318f18a",
   "metadata": {},
   "outputs": [
    {
     "data": {
      "text/html": [
       "<div>\n",
       "<style scoped>\n",
       "    .dataframe tbody tr th:only-of-type {\n",
       "        vertical-align: middle;\n",
       "    }\n",
       "\n",
       "    .dataframe tbody tr th {\n",
       "        vertical-align: top;\n",
       "    }\n",
       "\n",
       "    .dataframe thead th {\n",
       "        text-align: right;\n",
       "    }\n",
       "</style>\n",
       "<table border=\"1\" class=\"dataframe\">\n",
       "  <thead>\n",
       "    <tr style=\"text-align: right;\">\n",
       "      <th></th>\n",
       "      <th>question</th>\n",
       "      <th>category</th>\n",
       "      <th>chunk</th>\n",
       "      <th>article</th>\n",
       "    </tr>\n",
       "  </thead>\n",
       "  <tbody>\n",
       "    <tr>\n",
       "      <th>0</th>\n",
       "      <td>Quel est l'impact de l'IA sur la post-producti...</td>\n",
       "      <td>LA POST-PROD</td>\n",
       "      <td>4615db39-1</td>\n",
       "      <td>4615db39</td>\n",
       "    </tr>\n",
       "    <tr>\n",
       "      <th>1</th>\n",
       "      <td>Comment les outils IA simplifient-ils le trava...</td>\n",
       "      <td>LA POST-PROD</td>\n",
       "      <td>4615db39-1</td>\n",
       "      <td>4615db39</td>\n",
       "    </tr>\n",
       "    <tr>\n",
       "      <th>2</th>\n",
       "      <td>Quels avantages l'IA apporte-t-elle aux artist...</td>\n",
       "      <td>LA POST-PROD</td>\n",
       "      <td>4615db39-1</td>\n",
       "      <td>4615db39</td>\n",
       "    </tr>\n",
       "    <tr>\n",
       "      <th>3</th>\n",
       "      <td>Comment un débutant peut-il améliorer ses prod...</td>\n",
       "      <td>LA POST-PROD</td>\n",
       "      <td>4615db39-1</td>\n",
       "      <td>4615db39</td>\n",
       "    </tr>\n",
       "    <tr>\n",
       "      <th>4</th>\n",
       "      <td>Quelle est l'évolution des outils audio pour l...</td>\n",
       "      <td>LA POST-PROD</td>\n",
       "      <td>4615db39-1</td>\n",
       "      <td>4615db39</td>\n",
       "    </tr>\n",
       "  </tbody>\n",
       "</table>\n",
       "</div>"
      ],
      "text/plain": [
       "                                            question      category  \\\n",
       "0  Quel est l'impact de l'IA sur la post-producti...  LA POST-PROD   \n",
       "1  Comment les outils IA simplifient-ils le trava...  LA POST-PROD   \n",
       "2  Quels avantages l'IA apporte-t-elle aux artist...  LA POST-PROD   \n",
       "3  Comment un débutant peut-il améliorer ses prod...  LA POST-PROD   \n",
       "4  Quelle est l'évolution des outils audio pour l...  LA POST-PROD   \n",
       "\n",
       "        chunk   article  \n",
       "0  4615db39-1  4615db39  \n",
       "1  4615db39-1  4615db39  \n",
       "2  4615db39-1  4615db39  \n",
       "3  4615db39-1  4615db39  \n",
       "4  4615db39-1  4615db39  "
      ]
     },
     "execution_count": 148,
     "metadata": {},
     "output_type": "execute_result"
    }
   ],
   "source": [
    "df_question = pd.read_csv('../data/ground-truth-300.csv')\n",
    "df_question.head()"
   ]
  },
  {
   "cell_type": "code",
   "execution_count": 149,
   "id": "2d0a4048",
   "metadata": {},
   "outputs": [
    {
     "data": {
      "text/plain": [
       "{'question': \"Quel est l'impact de l'IA sur la post-production audio et musicale\",\n",
       " 'category': 'LA POST-PROD',\n",
       " 'chunk': '4615db39-1',\n",
       " 'article': '4615db39'}"
      ]
     },
     "execution_count": 149,
     "metadata": {},
     "output_type": "execute_result"
    }
   ],
   "source": [
    "ground_truth = df_question.to_dict(orient='records')\n",
    "ground_truth[0]"
   ]
  },
  {
   "cell_type": "code",
   "execution_count": 22,
   "id": "7bd63de1",
   "metadata": {},
   "outputs": [],
   "source": [
    "def hit_rate(relevance_total):\n",
    "    cnt = 0\n",
    "\n",
    "    for line in relevance_total:\n",
    "        if True in line:\n",
    "            cnt = cnt + 1\n",
    "\n",
    "    return cnt / len(relevance_total)\n",
    "\n",
    "def mrr(relevance_total):\n",
    "    total_score = 0.0\n",
    "\n",
    "    for line in relevance_total:\n",
    "        for rank in range(len(line)):\n",
    "            if line[rank] == True:\n",
    "                total_score = total_score + 1 / (rank + 1)\n",
    "\n",
    "    return total_score / len(relevance_total)"
   ]
  },
  {
   "cell_type": "code",
   "execution_count": 24,
   "id": "957baa48",
   "metadata": {},
   "outputs": [],
   "source": [
    "def evaluate(ground_truth, search_function):\n",
    "    relevance_total = []\n",
    "\n",
    "    for q in tqdm(ground_truth):\n",
    "        doc_id = q['chunk']\n",
    "        results = search_function(q)\n",
    "        relevance = [d['chunk_id'] == doc_id for d in results]\n",
    "        relevance_total.append(relevance)\n",
    "\n",
    "    return {\n",
    "        'hit_rate': hit_rate(relevance_total),\n",
    "        'mrr': mrr(relevance_total),\n",
    "    }"
   ]
  },
  {
   "cell_type": "markdown",
   "id": "19281969-db02-42ae-a1a9-59c3caf86798",
   "metadata": {},
   "source": [
    "# RAG evaluation"
   ]
  },
  {
   "cell_type": "code",
   "execution_count": 83,
   "id": "015c6999-12d3-41f2-ade9-9841722e5be4",
   "metadata": {},
   "outputs": [],
   "source": [
    "prompt2_template = \"\"\"\n",
    "You are an expert evaluator for a RAG system.\n",
    "Your task is to analyze the relevance of the generated answer to the given question.\n",
    "Based on the relevance of the generated answer, you will classify it\n",
    "as \"NON_RELEVANT\", \"PARTLY_RELEVANT\", or \"RELEVANT\".\n",
    "\n",
    "Here is the data for evaluation:\n",
    "\n",
    "Question: {question}\n",
    "Generated Answer: {answer_llm}\n",
    "\n",
    "Please analyze the content and context of the generated answer in relation to the question\n",
    "and provide your evaluation in parsable JSON without using code blocks:\n",
    "\n",
    "{{\n",
    "  \"Relevance\": \"NON_RELEVANT\" | \"PARTLY_RELEVANT\" | \"RELEVANT\",\n",
    "  \"Explanation\": \"[Provide a brief explanation for your evaluation]\"\n",
    "}}\n",
    "\"\"\".strip()"
   ]
  },
  {
   "cell_type": "code",
   "execution_count": 84,
   "id": "90986137",
   "metadata": {},
   "outputs": [
    {
     "data": {
      "text/plain": [
       "2945"
      ]
     },
     "execution_count": 84,
     "metadata": {},
     "output_type": "execute_result"
    }
   ],
   "source": [
    "len(ground_truth)"
   ]
  },
  {
   "cell_type": "code",
   "execution_count": 85,
   "id": "a5306095",
   "metadata": {},
   "outputs": [
    {
     "data": {
      "text/plain": [
       "{'question': \"Quel est l'impact de l'intelligence artificielle dans la post-production audio?\",\n",
       " 'category': 'LA POST-PROD',\n",
       " 'chunk': '4615db39-1',\n",
       " 'article': '4615db39'}"
      ]
     },
     "execution_count": 85,
     "metadata": {},
     "output_type": "execute_result"
    }
   ],
   "source": [
    "record = ground_truth[0]\n",
    "record"
   ]
  },
  {
   "cell_type": "code",
   "execution_count": 87,
   "id": "7d82575b",
   "metadata": {},
   "outputs": [
    {
     "data": {
      "text/plain": [
       "'L\\'impact de l\\'intelligence artificielle (IA) dans la post-production audio est considérable et se manifeste par une amélioration des outils et processus disponibles pour les artistes, producteurs et ingénieurs du son. La démocratisation de l\\'accès à des technologies avancées permet à un plus grand nombre de créateurs de produire des œuvres de qualité professionnelle sans nécessiter une formation approfondie en ingénierie du son.\\n\\nPremièrement, l\\'IA facilite la réalisation des tâches complexes et répétitives, permettant ainsi aux artistes et producteurs de se concentrer sur les aspects créatifs de leur travail. Par exemple, des plugins d\\'IA peuvent s\\'occuper de tâches telles que le nettoyage et la séparation des pistes audio de manière rapide et efficace, ce qui allège la charge de travail des ingénieurs du son. Des technologies avancées comme le dé-mixage, où une piste audio est décomposée en différentes stems (voix, batterie, etc.), sont déjà courantes et en constante amélioration grâce à l\\'IA.\\n\\nDeuxièmement, l\\'IA modifie la manière dont les professionnels interagissent avec la technologie. Plutôt que de se concentrer seulement sur les réglages techniques, les utilisateurs peuvent donner des directives qualitatives, comme \"je veux une voix plus forte et consistante\", et laisser l\\'IA optimiser les paramètres pour obtenir le résultat souhaité. Cela marque une évolution vers des outils plus intuitifs et adaptés aux besoins individuels.\\n\\nCependant, il est essentiel de ne pas considérer ces outils comme des solutions magiques. Une compréhension basique des processus audio est toujours nécessaire pour communiquer efficacement et pour exploiter au mieux ces nouvelles technologies.\\n\\nLes trois articles les plus pertinents pour approfondir ce sujet sont :\\n1. *L’intelligence artificielle (IA) dans le studio de production audio (6/6)* - Cet article offre un aperçu détaillé de l\\'impact de l\\'IA sur la production audio et les opportunités qu\\'elle crée pour les artistes et les producteurs.\\n2. *L’intelligence artificielle (IA) dans le studio de production audio (5/6)* - Il traite spécifiquement des applications de l\\'IA en restauration audio et dé-mixage, illustrant les avancées technologiques dans ce domaine.\\n3. *L’intelligence artificielle (IA) dans le studio de production audio (1/6)* - Cet article pose les bases en définissant ce qu\\'est l\\'IA et comment elle commence à transformer les processus de production audio.'"
      ]
     },
     "execution_count": 87,
     "metadata": {},
     "output_type": "execute_result"
    }
   ],
   "source": [
    "question = record['question']\n",
    "answer_llm = rag(question)"
   ]
  },
  {
   "cell_type": "code",
   "execution_count": 88,
   "id": "bcd7bf73",
   "metadata": {},
   "outputs": [
    {
     "name": "stdout",
     "output_type": "stream",
     "text": [
      "L'impact de l'intelligence artificielle (IA) dans la post-production audio est considérable et se manifeste par une amélioration des outils et processus disponibles pour les artistes, producteurs et ingénieurs du son. La démocratisation de l'accès à des technologies avancées permet à un plus grand nombre de créateurs de produire des œuvres de qualité professionnelle sans nécessiter une formation approfondie en ingénierie du son.\n",
      "\n",
      "Premièrement, l'IA facilite la réalisation des tâches complexes et répétitives, permettant ainsi aux artistes et producteurs de se concentrer sur les aspects créatifs de leur travail. Par exemple, des plugins d'IA peuvent s'occuper de tâches telles que le nettoyage et la séparation des pistes audio de manière rapide et efficace, ce qui allège la charge de travail des ingénieurs du son. Des technologies avancées comme le dé-mixage, où une piste audio est décomposée en différentes stems (voix, batterie, etc.), sont déjà courantes et en constante amélioration grâce à l'IA.\n",
      "\n",
      "Deuxièmement, l'IA modifie la manière dont les professionnels interagissent avec la technologie. Plutôt que de se concentrer seulement sur les réglages techniques, les utilisateurs peuvent donner des directives qualitatives, comme \"je veux une voix plus forte et consistante\", et laisser l'IA optimiser les paramètres pour obtenir le résultat souhaité. Cela marque une évolution vers des outils plus intuitifs et adaptés aux besoins individuels.\n",
      "\n",
      "Cependant, il est essentiel de ne pas considérer ces outils comme des solutions magiques. Une compréhension basique des processus audio est toujours nécessaire pour communiquer efficacement et pour exploiter au mieux ces nouvelles technologies.\n",
      "\n",
      "Les trois articles les plus pertinents pour approfondir ce sujet sont :\n",
      "1. *L’intelligence artificielle (IA) dans le studio de production audio (6/6)* - Cet article offre un aperçu détaillé de l'impact de l'IA sur la production audio et les opportunités qu'elle crée pour les artistes et les producteurs.\n",
      "2. *L’intelligence artificielle (IA) dans le studio de production audio (5/6)* - Il traite spécifiquement des applications de l'IA en restauration audio et dé-mixage, illustrant les avancées technologiques dans ce domaine.\n",
      "3. *L’intelligence artificielle (IA) dans le studio de production audio (1/6)* - Cet article pose les bases en définissant ce qu'est l'IA et comment elle commence à transformer les processus de production audio.\n"
     ]
    }
   ],
   "source": [
    "print(answer_llm)"
   ]
  },
  {
   "cell_type": "code",
   "execution_count": 89,
   "id": "566e8de9",
   "metadata": {},
   "outputs": [
    {
     "name": "stdout",
     "output_type": "stream",
     "text": [
      "You are an expert evaluator for a RAG system.\n",
      "Your task is to analyze the relevance of the generated answer to the given question.\n",
      "Based on the relevance of the generated answer, you will classify it\n",
      "as \"NON_RELEVANT\", \"PARTLY_RELEVANT\", or \"RELEVANT\".\n",
      "\n",
      "Here is the data for evaluation:\n",
      "\n",
      "Question: Quel est l'impact de l'intelligence artificielle dans la post-production audio?\n",
      "Generated Answer: L'impact de l'intelligence artificielle (IA) dans la post-production audio est considérable et se manifeste par une amélioration des outils et processus disponibles pour les artistes, producteurs et ingénieurs du son. La démocratisation de l'accès à des technologies avancées permet à un plus grand nombre de créateurs de produire des œuvres de qualité professionnelle sans nécessiter une formation approfondie en ingénierie du son.\n",
      "\n",
      "Premièrement, l'IA facilite la réalisation des tâches complexes et répétitives, permettant ainsi aux artistes et producteurs de se concentrer sur les aspects créatifs de leur travail. Par exemple, des plugins d'IA peuvent s'occuper de tâches telles que le nettoyage et la séparation des pistes audio de manière rapide et efficace, ce qui allège la charge de travail des ingénieurs du son. Des technologies avancées comme le dé-mixage, où une piste audio est décomposée en différentes stems (voix, batterie, etc.), sont déjà courantes et en constante amélioration grâce à l'IA.\n",
      "\n",
      "Deuxièmement, l'IA modifie la manière dont les professionnels interagissent avec la technologie. Plutôt que de se concentrer seulement sur les réglages techniques, les utilisateurs peuvent donner des directives qualitatives, comme \"je veux une voix plus forte et consistante\", et laisser l'IA optimiser les paramètres pour obtenir le résultat souhaité. Cela marque une évolution vers des outils plus intuitifs et adaptés aux besoins individuels.\n",
      "\n",
      "Cependant, il est essentiel de ne pas considérer ces outils comme des solutions magiques. Une compréhension basique des processus audio est toujours nécessaire pour communiquer efficacement et pour exploiter au mieux ces nouvelles technologies.\n",
      "\n",
      "Les trois articles les plus pertinents pour approfondir ce sujet sont :\n",
      "1. *L’intelligence artificielle (IA) dans le studio de production audio (6/6)* - Cet article offre un aperçu détaillé de l'impact de l'IA sur la production audio et les opportunités qu'elle crée pour les artistes et les producteurs.\n",
      "2. *L’intelligence artificielle (IA) dans le studio de production audio (5/6)* - Il traite spécifiquement des applications de l'IA en restauration audio et dé-mixage, illustrant les avancées technologiques dans ce domaine.\n",
      "3. *L’intelligence artificielle (IA) dans le studio de production audio (1/6)* - Cet article pose les bases en définissant ce qu'est l'IA et comment elle commence à transformer les processus de production audio.\n",
      "\n",
      "Please analyze the content and context of the generated answer in relation to the question\n",
      "and provide your evaluation in parsable JSON without using code blocks:\n",
      "\n",
      "{\n",
      "  \"Relevance\": \"NON_RELEVANT\" | \"PARTLY_RELEVANT\" | \"RELEVANT\",\n",
      "  \"Explanation\": \"[Provide a brief explanation for your evaluation]\"\n",
      "}\n"
     ]
    }
   ],
   "source": [
    "prompt = prompt2_template.format(question=question, answer_llm=answer_llm)\n",
    "print(prompt)"
   ]
  },
  {
   "cell_type": "code",
   "execution_count": 90,
   "id": "006933b8",
   "metadata": {},
   "outputs": [],
   "source": [
    "import json"
   ]
  },
  {
   "cell_type": "code",
   "execution_count": 91,
   "id": "0b0302ac",
   "metadata": {},
   "outputs": [],
   "source": [
    "df_sample = df_question.sample(n=200, random_state=1)"
   ]
  },
  {
   "cell_type": "code",
   "execution_count": 92,
   "id": "0b5a16ed",
   "metadata": {},
   "outputs": [],
   "source": [
    "sample = df_sample.to_dict(orient='records')"
   ]
  },
  {
   "cell_type": "code",
   "execution_count": 93,
   "id": "a0a09bad",
   "metadata": {},
   "outputs": [
    {
     "data": {
      "application/vnd.jupyter.widget-view+json": {
       "model_id": "9d51df44fae44848b51ae3901d37aaa8",
       "version_major": 2,
       "version_minor": 0
      },
      "text/plain": [
       "  0%|          | 0/200 [00:00<?, ?it/s]"
      ]
     },
     "metadata": {},
     "output_type": "display_data"
    }
   ],
   "source": [
    "evaluations = []\n",
    "\n",
    "for record in tqdm(sample):\n",
    "    question = record['question']\n",
    "    answer_llm = rag(question) \n",
    "\n",
    "    prompt = prompt2_template.format(\n",
    "        question=question,\n",
    "        answer_llm=answer_llm\n",
    "    )\n",
    "\n",
    "    evaluation = llm(prompt)\n",
    "    evaluation = json.loads(evaluation)\n",
    "\n",
    "    evaluations.append((record, answer_llm, evaluation))"
   ]
  },
  {
   "cell_type": "code",
   "execution_count": 94,
   "id": "fdfa8313",
   "metadata": {},
   "outputs": [
    {
     "data": {
      "text/plain": [
       "({'question': \"Pourquoi le 32 bits float ne suffit pas avant l'enregistrement dans la DAW ?\",\n",
       "  'category': 'LE HOME STUDIO',\n",
       "  'chunk': 'e55c4a41-6',\n",
       "  'article': 'e55c4a41'},\n",
       " 'Le format 32 bits float est très utile pour le traitement audio au sein d\\'une station de travail audionumérique (DAW) car il offre une large plage dynamique et permet d’éviter le clipping pendant les manipulations internes. Cependant, il ne suffit pas avant l\\'enregistrement dans la DAW pour plusieurs raisons.\\n\\nTout d\\'abord, l\\'avantage du 32 bits float ne s\\'applique pas à la phase de l\\'enregistrement, qui se déroule encore dans le domaine analogique. Pendant cette étape, il est crucial de s\\'assurer que le signal audio ne dépasse pas le 0 dBFS pour éviter la saturation. De plus, une gestion rigoureuse des niveaux est essentielle dès le moment de l\\'enregistrement pour maintenir une bonne qualité audio et éviter des problèmes de bruit de quantification lors des conversions numériques.\\n\\nEnsuite, une fois que le signal audio est exporté hors de la DAW, l\\'avantage des 32 bits float disparaît totalement. Lors de l\\'exportation ou de tout \"bounce\", le signal est converti, ce qui peut entraîner une détérioration de la qualité si la résolution des fichiers de sortie est inférieure (par exemple, 16 ou 24 bits). \\n\\nEn résumé, bien qu\\'un DAW en 32 bits float facilite certains aspects du traitement audio, une vigilance continue sur les niveaux est nécessaire tout au long du processus de production, depuis l\\'enregistrement jusqu\\'à l\\'exportation.\\n\\nPour approfondir ce sujet, je recommande les trois articles suivants :\\n\\n1. **La gestion des niveaux (5): ta DAW en 32 bits float**\\n2. **La gestion des niveaux (6): Maîtriser la dynamique sonore**\\n3. **Par où commencer dans l’apprentissage d’une DAW pour produire sa musique?**',\n",
       " {'Relevance': 'RELEVANT',\n",
       "  'Explanation': 'The generated answer clearly explains why the 32 bits float format is not sufficient before recording in a DAW, discussing the importance of managing audio levels during the analog recording phase and addressing issues that arise when exporting the signal. It provides relevant information that directly answers the question.'})"
      ]
     },
     "execution_count": 94,
     "metadata": {},
     "output_type": "execute_result"
    }
   ],
   "source": [
    "evaluations[0]"
   ]
  },
  {
   "cell_type": "code",
   "execution_count": 95,
   "id": "dc247327",
   "metadata": {},
   "outputs": [],
   "source": [
    "df_eval = pd.DataFrame(evaluations, columns=['record', 'answer', 'evaluation'])\n",
    "\n",
    "df_eval['id'] = df_eval.record.apply(lambda d: d['chunk'])\n",
    "df_eval['question'] = df_eval.record.apply(lambda d: d['question'])\n",
    "\n",
    "df_eval['relevance'] = df_eval.evaluation.apply(lambda d: d['Relevance'])\n",
    "df_eval['explanation'] = df_eval.evaluation.apply(lambda d: d['Explanation'])\n",
    "\n",
    "del df_eval['record']\n",
    "del df_eval['evaluation']"
   ]
  },
  {
   "cell_type": "code",
   "execution_count": 96,
   "id": "1891ce2e",
   "metadata": {},
   "outputs": [
    {
     "data": {
      "text/plain": [
       "relevance\n",
       "RELEVANT           0.985\n",
       "PARTLY_RELEVANT    0.015\n",
       "Name: proportion, dtype: float64"
      ]
     },
     "execution_count": 96,
     "metadata": {},
     "output_type": "execute_result"
    }
   ],
   "source": [
    "df_eval.relevance.value_counts(normalize=True)"
   ]
  },
  {
   "cell_type": "code",
   "execution_count": 97,
   "id": "187aa368",
   "metadata": {},
   "outputs": [],
   "source": [
    "df_eval.to_csv('../data/rag-eval-gpt-4o-mini.csv', index=False)"
   ]
  },
  {
   "cell_type": "code",
   "execution_count": 99,
   "id": "3b4af5d4",
   "metadata": {},
   "outputs": [
    {
     "data": {
      "text/html": [
       "<div>\n",
       "<style scoped>\n",
       "    .dataframe tbody tr th:only-of-type {\n",
       "        vertical-align: middle;\n",
       "    }\n",
       "\n",
       "    .dataframe tbody tr th {\n",
       "        vertical-align: top;\n",
       "    }\n",
       "\n",
       "    .dataframe thead th {\n",
       "        text-align: right;\n",
       "    }\n",
       "</style>\n",
       "<table border=\"1\" class=\"dataframe\">\n",
       "  <thead>\n",
       "    <tr style=\"text-align: right;\">\n",
       "      <th></th>\n",
       "      <th>answer</th>\n",
       "      <th>id</th>\n",
       "      <th>question</th>\n",
       "      <th>relevance</th>\n",
       "      <th>explanation</th>\n",
       "    </tr>\n",
       "  </thead>\n",
       "  <tbody>\n",
       "    <tr>\n",
       "      <th>18</th>\n",
       "      <td>Pour changer le pitch naturellement dans Ablet...</td>\n",
       "      <td>173567a9-2</td>\n",
       "      <td>Quelle méthode peut-on utiliser pour changer l...</td>\n",
       "      <td>PARTLY_RELEVANT</td>\n",
       "      <td>The generated answer discusses changing pitch ...</td>\n",
       "    </tr>\n",
       "    <tr>\n",
       "      <th>31</th>\n",
       "      <td>Pour éviter les pièges du make-up gain lors de...</td>\n",
       "      <td>584d0437-3</td>\n",
       "      <td>Quels conseils professionnels peut on suivre p...</td>\n",
       "      <td>PARTLY_RELEVANT</td>\n",
       "      <td>The generated answer discusses make-up gain an...</td>\n",
       "    </tr>\n",
       "    <tr>\n",
       "      <th>146</th>\n",
       "      <td>La question concernant l'activation du mode Th...</td>\n",
       "      <td>173567a9-11</td>\n",
       "      <td>Quelles sont les étapes pour activer le mode T...</td>\n",
       "      <td>PARTLY_RELEVANT</td>\n",
       "      <td>The generated answer acknowledges the question...</td>\n",
       "    </tr>\n",
       "  </tbody>\n",
       "</table>\n",
       "</div>"
      ],
      "text/plain": [
       "                                                answer           id  \\\n",
       "18   Pour changer le pitch naturellement dans Ablet...   173567a9-2   \n",
       "31   Pour éviter les pièges du make-up gain lors de...   584d0437-3   \n",
       "146  La question concernant l'activation du mode Th...  173567a9-11   \n",
       "\n",
       "                                              question        relevance  \\\n",
       "18   Quelle méthode peut-on utiliser pour changer l...  PARTLY_RELEVANT   \n",
       "31   Quels conseils professionnels peut on suivre p...  PARTLY_RELEVANT   \n",
       "146  Quelles sont les étapes pour activer le mode T...  PARTLY_RELEVANT   \n",
       "\n",
       "                                           explanation  \n",
       "18   The generated answer discusses changing pitch ...  \n",
       "31   The generated answer discusses make-up gain an...  \n",
       "146  The generated answer acknowledges the question...  "
      ]
     },
     "execution_count": 99,
     "metadata": {},
     "output_type": "execute_result"
    }
   ],
   "source": [
    "\n",
    "df_eval[df_eval.relevance == 'PARTLY_RELEVANT']"
   ]
  }
 ],
 "metadata": {
  "kernelspec": {
   "display_name": "Python 3 (ipykernel)",
   "language": "python",
   "name": "python3"
  },
  "language_info": {
   "codemirror_mode": {
    "name": "ipython",
    "version": 3
   },
   "file_extension": ".py",
   "mimetype": "text/x-python",
   "name": "python",
   "nbconvert_exporter": "python",
   "pygments_lexer": "ipython3",
   "version": "3.12.2"
  }
 },
 "nbformat": 4,
 "nbformat_minor": 5
}
